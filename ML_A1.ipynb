{
 "cells": [
  {
   "cell_type": "markdown",
   "metadata": {},
   "source": [
    "<h2 id=\"Machine Learning Assignment 1\">Machine Learning Assignment 1</h2>\n"
   ]
  },
  {
   "cell_type": "markdown",
   "metadata": {},
   "source": [
    "First of all we import the needed libraries\n"
   ]
  },
  {
   "cell_type": "code",
   "execution_count": 1,
   "metadata": {},
   "outputs": [
    {
     "name": "stderr",
     "output_type": "stream",
     "text": [
      "C:\\AI\\anaconda3\\lib\\site-packages\\tensorflow\\python\\framework\\dtypes.py:516: FutureWarning: Passing (type, 1) or '1type' as a synonym of type is deprecated; in a future version of numpy, it will be understood as (type, (1,)) / '(1,)type'.\n",
      "  _np_qint8 = np.dtype([(\"qint8\", np.int8, 1)])\n",
      "C:\\AI\\anaconda3\\lib\\site-packages\\tensorflow\\python\\framework\\dtypes.py:517: FutureWarning: Passing (type, 1) or '1type' as a synonym of type is deprecated; in a future version of numpy, it will be understood as (type, (1,)) / '(1,)type'.\n",
      "  _np_quint8 = np.dtype([(\"quint8\", np.uint8, 1)])\n",
      "C:\\AI\\anaconda3\\lib\\site-packages\\tensorflow\\python\\framework\\dtypes.py:518: FutureWarning: Passing (type, 1) or '1type' as a synonym of type is deprecated; in a future version of numpy, it will be understood as (type, (1,)) / '(1,)type'.\n",
      "  _np_qint16 = np.dtype([(\"qint16\", np.int16, 1)])\n",
      "C:\\AI\\anaconda3\\lib\\site-packages\\tensorflow\\python\\framework\\dtypes.py:519: FutureWarning: Passing (type, 1) or '1type' as a synonym of type is deprecated; in a future version of numpy, it will be understood as (type, (1,)) / '(1,)type'.\n",
      "  _np_quint16 = np.dtype([(\"quint16\", np.uint16, 1)])\n",
      "C:\\AI\\anaconda3\\lib\\site-packages\\tensorflow\\python\\framework\\dtypes.py:520: FutureWarning: Passing (type, 1) or '1type' as a synonym of type is deprecated; in a future version of numpy, it will be understood as (type, (1,)) / '(1,)type'.\n",
      "  _np_qint32 = np.dtype([(\"qint32\", np.int32, 1)])\n",
      "C:\\AI\\anaconda3\\lib\\site-packages\\tensorflow\\python\\framework\\dtypes.py:525: FutureWarning: Passing (type, 1) or '1type' as a synonym of type is deprecated; in a future version of numpy, it will be understood as (type, (1,)) / '(1,)type'.\n",
      "  np_resource = np.dtype([(\"resource\", np.ubyte, 1)])\n",
      "C:\\AI\\anaconda3\\lib\\site-packages\\tensorboard\\compat\\tensorflow_stub\\dtypes.py:541: FutureWarning: Passing (type, 1) or '1type' as a synonym of type is deprecated; in a future version of numpy, it will be understood as (type, (1,)) / '(1,)type'.\n",
      "  _np_qint8 = np.dtype([(\"qint8\", np.int8, 1)])\n",
      "C:\\AI\\anaconda3\\lib\\site-packages\\tensorboard\\compat\\tensorflow_stub\\dtypes.py:542: FutureWarning: Passing (type, 1) or '1type' as a synonym of type is deprecated; in a future version of numpy, it will be understood as (type, (1,)) / '(1,)type'.\n",
      "  _np_quint8 = np.dtype([(\"quint8\", np.uint8, 1)])\n",
      "C:\\AI\\anaconda3\\lib\\site-packages\\tensorboard\\compat\\tensorflow_stub\\dtypes.py:543: FutureWarning: Passing (type, 1) or '1type' as a synonym of type is deprecated; in a future version of numpy, it will be understood as (type, (1,)) / '(1,)type'.\n",
      "  _np_qint16 = np.dtype([(\"qint16\", np.int16, 1)])\n",
      "C:\\AI\\anaconda3\\lib\\site-packages\\tensorboard\\compat\\tensorflow_stub\\dtypes.py:544: FutureWarning: Passing (type, 1) or '1type' as a synonym of type is deprecated; in a future version of numpy, it will be understood as (type, (1,)) / '(1,)type'.\n",
      "  _np_quint16 = np.dtype([(\"quint16\", np.uint16, 1)])\n",
      "C:\\AI\\anaconda3\\lib\\site-packages\\tensorboard\\compat\\tensorflow_stub\\dtypes.py:545: FutureWarning: Passing (type, 1) or '1type' as a synonym of type is deprecated; in a future version of numpy, it will be understood as (type, (1,)) / '(1,)type'.\n",
      "  _np_qint32 = np.dtype([(\"qint32\", np.int32, 1)])\n",
      "C:\\AI\\anaconda3\\lib\\site-packages\\tensorboard\\compat\\tensorflow_stub\\dtypes.py:550: FutureWarning: Passing (type, 1) or '1type' as a synonym of type is deprecated; in a future version of numpy, it will be understood as (type, (1,)) / '(1,)type'.\n",
      "  np_resource = np.dtype([(\"resource\", np.ubyte, 1)])\n"
     ]
    }
   ],
   "source": [
    "import pandas as pd\n",
    "import numpy as np\n",
    "from sklearn.preprocessing import OrdinalEncoder, PolynomialFeatures\n",
    "from sklearn.impute import SimpleImputer\n",
    "from sklearn.model_selection import train_test_split\n",
    "from sklearn.decomposition import PCA\n",
    "from sklearn.preprocessing import PolynomialFeatures\n",
    "from sklearn import linear_model\n",
    "from sklearn.metrics import r2_score\n",
    "from sklearn.linear_model import Lasso, Ridge\n",
    "from sklearn.metrics import mean_squared_error\n",
    "from sklearn.datasets import load_breast_cancer\n",
    "from sklearn.preprocessing import StandardScaler\n",
    "from sklearn.preprocessing import RobustScaler\n",
    "from sklearn.linear_model import LinearRegression\n",
    "from sklearn import metrics\n",
    "from tensorflow.keras.models import Sequential\n",
    "from tensorflow.keras.layers import Dense\n",
    "import seaborn as sns\n",
    "from mpl_toolkits.mplot3d import Axes3D\n",
    "import matplotlib.pyplot as plt\n",
    "%matplotlib inline"
   ]
  },
  {
   "cell_type": "markdown",
   "metadata": {},
   "source": [
    "Reading the dataset"
   ]
  },
  {
   "cell_type": "code",
   "execution_count": 2,
   "metadata": {},
   "outputs": [],
   "source": [
    "df = pd.read_csv('flight_delay.csv')"
   ]
  },
  {
   "cell_type": "code",
   "execution_count": 3,
   "metadata": {},
   "outputs": [
    {
     "data": {
      "text/html": [
       "<div>\n",
       "<style scoped>\n",
       "    .dataframe tbody tr th:only-of-type {\n",
       "        vertical-align: middle;\n",
       "    }\n",
       "\n",
       "    .dataframe tbody tr th {\n",
       "        vertical-align: top;\n",
       "    }\n",
       "\n",
       "    .dataframe thead th {\n",
       "        text-align: right;\n",
       "    }\n",
       "</style>\n",
       "<table border=\"1\" class=\"dataframe\">\n",
       "  <thead>\n",
       "    <tr style=\"text-align: right;\">\n",
       "      <th></th>\n",
       "      <th>Depature Airport</th>\n",
       "      <th>Scheduled depature time</th>\n",
       "      <th>Destination Airport</th>\n",
       "      <th>Scheduled arrival time</th>\n",
       "      <th>Delay</th>\n",
       "    </tr>\n",
       "  </thead>\n",
       "  <tbody>\n",
       "    <tr>\n",
       "      <th>0</th>\n",
       "      <td>SVO</td>\n",
       "      <td>2015-10-27 07:40:00</td>\n",
       "      <td>HAV</td>\n",
       "      <td>2015-10-27 20:45:00</td>\n",
       "      <td>0.0</td>\n",
       "    </tr>\n",
       "    <tr>\n",
       "      <th>1</th>\n",
       "      <td>SVO</td>\n",
       "      <td>2015-10-27 09:50:00</td>\n",
       "      <td>JFK</td>\n",
       "      <td>2015-10-27 20:35:00</td>\n",
       "      <td>2.0</td>\n",
       "    </tr>\n",
       "    <tr>\n",
       "      <th>2</th>\n",
       "      <td>SVO</td>\n",
       "      <td>2015-10-27 10:45:00</td>\n",
       "      <td>MIA</td>\n",
       "      <td>2015-10-27 23:35:00</td>\n",
       "      <td>0.0</td>\n",
       "    </tr>\n",
       "    <tr>\n",
       "      <th>3</th>\n",
       "      <td>SVO</td>\n",
       "      <td>2015-10-27 12:30:00</td>\n",
       "      <td>LAX</td>\n",
       "      <td>2015-10-28 01:20:00</td>\n",
       "      <td>0.0</td>\n",
       "    </tr>\n",
       "    <tr>\n",
       "      <th>4</th>\n",
       "      <td>OTP</td>\n",
       "      <td>2015-10-27 14:15:00</td>\n",
       "      <td>SVO</td>\n",
       "      <td>2015-10-27 16:40:00</td>\n",
       "      <td>9.0</td>\n",
       "    </tr>\n",
       "    <tr>\n",
       "      <th>5</th>\n",
       "      <td>HAM</td>\n",
       "      <td>2015-10-27 14:30:00</td>\n",
       "      <td>SVO</td>\n",
       "      <td>2015-10-27 17:15:00</td>\n",
       "      <td>0.0</td>\n",
       "    </tr>\n",
       "    <tr>\n",
       "      <th>6</th>\n",
       "      <td>SVO</td>\n",
       "      <td>2015-10-27 14:35:00</td>\n",
       "      <td>JFK</td>\n",
       "      <td>2015-10-28 01:25:00</td>\n",
       "      <td>0.0</td>\n",
       "    </tr>\n",
       "    <tr>\n",
       "      <th>7</th>\n",
       "      <td>DXB</td>\n",
       "      <td>2015-10-27 15:40:00</td>\n",
       "      <td>SVO</td>\n",
       "      <td>2015-10-27 21:20:00</td>\n",
       "      <td>1.0</td>\n",
       "    </tr>\n",
       "    <tr>\n",
       "      <th>8</th>\n",
       "      <td>SVO</td>\n",
       "      <td>2015-10-27 16:10:00</td>\n",
       "      <td>VVO</td>\n",
       "      <td>2015-10-28 00:35:00</td>\n",
       "      <td>0.0</td>\n",
       "    </tr>\n",
       "    <tr>\n",
       "      <th>9</th>\n",
       "      <td>TLV</td>\n",
       "      <td>2015-10-27 16:45:00</td>\n",
       "      <td>SVO</td>\n",
       "      <td>2015-10-27 20:55:00</td>\n",
       "      <td>0.0</td>\n",
       "    </tr>\n",
       "  </tbody>\n",
       "</table>\n",
       "</div>"
      ],
      "text/plain": [
       "  Depature Airport Scheduled depature time Destination Airport  \\\n",
       "0              SVO     2015-10-27 07:40:00                 HAV   \n",
       "1              SVO     2015-10-27 09:50:00                 JFK   \n",
       "2              SVO     2015-10-27 10:45:00                 MIA   \n",
       "3              SVO     2015-10-27 12:30:00                 LAX   \n",
       "4              OTP     2015-10-27 14:15:00                 SVO   \n",
       "5              HAM     2015-10-27 14:30:00                 SVO   \n",
       "6              SVO     2015-10-27 14:35:00                 JFK   \n",
       "7              DXB     2015-10-27 15:40:00                 SVO   \n",
       "8              SVO     2015-10-27 16:10:00                 VVO   \n",
       "9              TLV     2015-10-27 16:45:00                 SVO   \n",
       "\n",
       "  Scheduled arrival time  Delay  \n",
       "0    2015-10-27 20:45:00    0.0  \n",
       "1    2015-10-27 20:35:00    2.0  \n",
       "2    2015-10-27 23:35:00    0.0  \n",
       "3    2015-10-28 01:20:00    0.0  \n",
       "4    2015-10-27 16:40:00    9.0  \n",
       "5    2015-10-27 17:15:00    0.0  \n",
       "6    2015-10-28 01:25:00    0.0  \n",
       "7    2015-10-27 21:20:00    1.0  \n",
       "8    2015-10-28 00:35:00    0.0  \n",
       "9    2015-10-27 20:55:00    0.0  "
      ]
     },
     "execution_count": 3,
     "metadata": {},
     "output_type": "execute_result"
    }
   ],
   "source": [
    "df.head(10)"
   ]
  },
  {
   "cell_type": "code",
   "execution_count": 4,
   "metadata": {},
   "outputs": [
    {
     "data": {
      "text/plain": [
       "Depature Airport            object\n",
       "Scheduled depature time     object\n",
       "Destination Airport         object\n",
       "Scheduled arrival time      object\n",
       "Delay                      float64\n",
       "dtype: object"
      ]
     },
     "execution_count": 4,
     "metadata": {},
     "output_type": "execute_result"
    }
   ],
   "source": [
    "types = df.dtypes\n",
    "types"
   ]
  },
  {
   "cell_type": "markdown",
   "metadata": {},
   "source": [
    "<h2 id=\"Features engineering\">Features engineering</h2>\n"
   ]
  },
  {
   "cell_type": "code",
   "execution_count": 5,
   "metadata": {},
   "outputs": [],
   "source": [
    "df['Scheduled depature time'] = pd.to_datetime(df['Scheduled depature time'])\n",
    "df['Scheduled arrival time'] = pd.to_datetime(df['Scheduled arrival time'])"
   ]
  },
  {
   "cell_type": "code",
   "execution_count": 6,
   "metadata": {},
   "outputs": [],
   "source": [
    "df['Scheduled depature time'] = pd.to_datetime(df['Scheduled depature time'], \n",
    " format = '%Y-%m-%d%H:%M:%S', \n",
    " errors = 'coerce')\n",
    "df['Scheduled arrival time'] = pd.to_datetime(df['Scheduled arrival time'], \n",
    " format = '%Y-%m-%d%H:%M:%S', \n",
    " errors = 'coerce')"
   ]
  },
  {
   "cell_type": "code",
   "execution_count": 7,
   "metadata": {},
   "outputs": [],
   "source": [
    "de=df['Scheduled arrival time']-df['Scheduled depature time']\n",
    "de=de.dt.total_seconds()/3600\n",
    "df['flight duration']=de\n",
    "df['Delay']=df['Delay']/60"
   ]
  },
  {
   "cell_type": "code",
   "execution_count": 8,
   "metadata": {},
   "outputs": [],
   "source": [
    "df['Scheduled depature time_year'] = df['Scheduled depature time'].dt.year\n",
    "df['Scheduled depature time_month'] = df['Scheduled depature time'].dt.month\n",
    "df['Scheduled depature time_week'] = df['Scheduled depature time'].dt.week\n",
    "df['Scheduled depature time_day'] = df['Scheduled depature time'].dt.day\n",
    "df['Scheduled depature time_houre'] = df['Scheduled depature time'].dt.hour\n",
    "df['Scheduled depature time_min'] = df['Scheduled depature time'].dt.minute\n",
    "df['Scheduled depature time_dow'] = df['Scheduled depature time'].dt.dayofweek"
   ]
  },
  {
   "cell_type": "code",
   "execution_count": 9,
   "metadata": {},
   "outputs": [],
   "source": [
    "df['Scheduled arrival time_year'] = df['Scheduled arrival time'].dt.year\n",
    "df['Scheduled arrival time_month'] = df['Scheduled arrival time'].dt.month\n",
    "df['Scheduled arrival time_week'] = df['Scheduled arrival time'].dt.week\n",
    "df['Scheduled arrival time_day'] = df['Scheduled arrival time'].dt.day\n",
    "df['Scheduled arrival time_houre'] = df['Scheduled arrival time'].dt.hour\n",
    "df['Scheduled arrival time_min'] = df['Scheduled arrival time'].dt.minute\n",
    "df['Scheduled arrival time_dow'] = df['Scheduled arrival time'].dt.dayofweek"
   ]
  },
  {
   "cell_type": "code",
   "execution_count": 10,
   "metadata": {},
   "outputs": [],
   "source": [
    "df = df.drop(['Scheduled arrival time', 'Scheduled depature time'], axis=1)"
   ]
  },
  {
   "cell_type": "code",
   "execution_count": 11,
   "metadata": {},
   "outputs": [
    {
     "data": {
      "text/html": [
       "<div>\n",
       "<style scoped>\n",
       "    .dataframe tbody tr th:only-of-type {\n",
       "        vertical-align: middle;\n",
       "    }\n",
       "\n",
       "    .dataframe tbody tr th {\n",
       "        vertical-align: top;\n",
       "    }\n",
       "\n",
       "    .dataframe thead th {\n",
       "        text-align: right;\n",
       "    }\n",
       "</style>\n",
       "<table border=\"1\" class=\"dataframe\">\n",
       "  <thead>\n",
       "    <tr style=\"text-align: right;\">\n",
       "      <th></th>\n",
       "      <th>Depature Airport</th>\n",
       "      <th>Destination Airport</th>\n",
       "      <th>Delay</th>\n",
       "      <th>flight duration</th>\n",
       "      <th>Scheduled depature time_year</th>\n",
       "      <th>Scheduled depature time_month</th>\n",
       "      <th>Scheduled depature time_week</th>\n",
       "      <th>Scheduled depature time_day</th>\n",
       "      <th>Scheduled depature time_houre</th>\n",
       "      <th>Scheduled depature time_min</th>\n",
       "      <th>Scheduled depature time_dow</th>\n",
       "      <th>Scheduled arrival time_year</th>\n",
       "      <th>Scheduled arrival time_month</th>\n",
       "      <th>Scheduled arrival time_week</th>\n",
       "      <th>Scheduled arrival time_day</th>\n",
       "      <th>Scheduled arrival time_houre</th>\n",
       "      <th>Scheduled arrival time_min</th>\n",
       "      <th>Scheduled arrival time_dow</th>\n",
       "    </tr>\n",
       "  </thead>\n",
       "  <tbody>\n",
       "    <tr>\n",
       "      <th>0</th>\n",
       "      <td>SVO</td>\n",
       "      <td>HAV</td>\n",
       "      <td>0.000000</td>\n",
       "      <td>13.083333</td>\n",
       "      <td>2015</td>\n",
       "      <td>10</td>\n",
       "      <td>44</td>\n",
       "      <td>27</td>\n",
       "      <td>7</td>\n",
       "      <td>40</td>\n",
       "      <td>1</td>\n",
       "      <td>2015</td>\n",
       "      <td>10</td>\n",
       "      <td>44</td>\n",
       "      <td>27</td>\n",
       "      <td>20</td>\n",
       "      <td>45</td>\n",
       "      <td>1</td>\n",
       "    </tr>\n",
       "    <tr>\n",
       "      <th>1</th>\n",
       "      <td>SVO</td>\n",
       "      <td>JFK</td>\n",
       "      <td>0.033333</td>\n",
       "      <td>10.750000</td>\n",
       "      <td>2015</td>\n",
       "      <td>10</td>\n",
       "      <td>44</td>\n",
       "      <td>27</td>\n",
       "      <td>9</td>\n",
       "      <td>50</td>\n",
       "      <td>1</td>\n",
       "      <td>2015</td>\n",
       "      <td>10</td>\n",
       "      <td>44</td>\n",
       "      <td>27</td>\n",
       "      <td>20</td>\n",
       "      <td>35</td>\n",
       "      <td>1</td>\n",
       "    </tr>\n",
       "    <tr>\n",
       "      <th>2</th>\n",
       "      <td>SVO</td>\n",
       "      <td>MIA</td>\n",
       "      <td>0.000000</td>\n",
       "      <td>12.833333</td>\n",
       "      <td>2015</td>\n",
       "      <td>10</td>\n",
       "      <td>44</td>\n",
       "      <td>27</td>\n",
       "      <td>10</td>\n",
       "      <td>45</td>\n",
       "      <td>1</td>\n",
       "      <td>2015</td>\n",
       "      <td>10</td>\n",
       "      <td>44</td>\n",
       "      <td>27</td>\n",
       "      <td>23</td>\n",
       "      <td>35</td>\n",
       "      <td>1</td>\n",
       "    </tr>\n",
       "    <tr>\n",
       "      <th>3</th>\n",
       "      <td>SVO</td>\n",
       "      <td>LAX</td>\n",
       "      <td>0.000000</td>\n",
       "      <td>12.833333</td>\n",
       "      <td>2015</td>\n",
       "      <td>10</td>\n",
       "      <td>44</td>\n",
       "      <td>27</td>\n",
       "      <td>12</td>\n",
       "      <td>30</td>\n",
       "      <td>1</td>\n",
       "      <td>2015</td>\n",
       "      <td>10</td>\n",
       "      <td>44</td>\n",
       "      <td>28</td>\n",
       "      <td>1</td>\n",
       "      <td>20</td>\n",
       "      <td>2</td>\n",
       "    </tr>\n",
       "    <tr>\n",
       "      <th>4</th>\n",
       "      <td>OTP</td>\n",
       "      <td>SVO</td>\n",
       "      <td>0.150000</td>\n",
       "      <td>2.416667</td>\n",
       "      <td>2015</td>\n",
       "      <td>10</td>\n",
       "      <td>44</td>\n",
       "      <td>27</td>\n",
       "      <td>14</td>\n",
       "      <td>15</td>\n",
       "      <td>1</td>\n",
       "      <td>2015</td>\n",
       "      <td>10</td>\n",
       "      <td>44</td>\n",
       "      <td>27</td>\n",
       "      <td>16</td>\n",
       "      <td>40</td>\n",
       "      <td>1</td>\n",
       "    </tr>\n",
       "    <tr>\n",
       "      <th>5</th>\n",
       "      <td>HAM</td>\n",
       "      <td>SVO</td>\n",
       "      <td>0.000000</td>\n",
       "      <td>2.750000</td>\n",
       "      <td>2015</td>\n",
       "      <td>10</td>\n",
       "      <td>44</td>\n",
       "      <td>27</td>\n",
       "      <td>14</td>\n",
       "      <td>30</td>\n",
       "      <td>1</td>\n",
       "      <td>2015</td>\n",
       "      <td>10</td>\n",
       "      <td>44</td>\n",
       "      <td>27</td>\n",
       "      <td>17</td>\n",
       "      <td>15</td>\n",
       "      <td>1</td>\n",
       "    </tr>\n",
       "    <tr>\n",
       "      <th>6</th>\n",
       "      <td>SVO</td>\n",
       "      <td>JFK</td>\n",
       "      <td>0.000000</td>\n",
       "      <td>10.833333</td>\n",
       "      <td>2015</td>\n",
       "      <td>10</td>\n",
       "      <td>44</td>\n",
       "      <td>27</td>\n",
       "      <td>14</td>\n",
       "      <td>35</td>\n",
       "      <td>1</td>\n",
       "      <td>2015</td>\n",
       "      <td>10</td>\n",
       "      <td>44</td>\n",
       "      <td>28</td>\n",
       "      <td>1</td>\n",
       "      <td>25</td>\n",
       "      <td>2</td>\n",
       "    </tr>\n",
       "    <tr>\n",
       "      <th>7</th>\n",
       "      <td>DXB</td>\n",
       "      <td>SVO</td>\n",
       "      <td>0.016667</td>\n",
       "      <td>5.666667</td>\n",
       "      <td>2015</td>\n",
       "      <td>10</td>\n",
       "      <td>44</td>\n",
       "      <td>27</td>\n",
       "      <td>15</td>\n",
       "      <td>40</td>\n",
       "      <td>1</td>\n",
       "      <td>2015</td>\n",
       "      <td>10</td>\n",
       "      <td>44</td>\n",
       "      <td>27</td>\n",
       "      <td>21</td>\n",
       "      <td>20</td>\n",
       "      <td>1</td>\n",
       "    </tr>\n",
       "    <tr>\n",
       "      <th>8</th>\n",
       "      <td>SVO</td>\n",
       "      <td>VVO</td>\n",
       "      <td>0.000000</td>\n",
       "      <td>8.416667</td>\n",
       "      <td>2015</td>\n",
       "      <td>10</td>\n",
       "      <td>44</td>\n",
       "      <td>27</td>\n",
       "      <td>16</td>\n",
       "      <td>10</td>\n",
       "      <td>1</td>\n",
       "      <td>2015</td>\n",
       "      <td>10</td>\n",
       "      <td>44</td>\n",
       "      <td>28</td>\n",
       "      <td>0</td>\n",
       "      <td>35</td>\n",
       "      <td>2</td>\n",
       "    </tr>\n",
       "    <tr>\n",
       "      <th>9</th>\n",
       "      <td>TLV</td>\n",
       "      <td>SVO</td>\n",
       "      <td>0.000000</td>\n",
       "      <td>4.166667</td>\n",
       "      <td>2015</td>\n",
       "      <td>10</td>\n",
       "      <td>44</td>\n",
       "      <td>27</td>\n",
       "      <td>16</td>\n",
       "      <td>45</td>\n",
       "      <td>1</td>\n",
       "      <td>2015</td>\n",
       "      <td>10</td>\n",
       "      <td>44</td>\n",
       "      <td>27</td>\n",
       "      <td>20</td>\n",
       "      <td>55</td>\n",
       "      <td>1</td>\n",
       "    </tr>\n",
       "  </tbody>\n",
       "</table>\n",
       "</div>"
      ],
      "text/plain": [
       "  Depature Airport Destination Airport     Delay  flight duration  \\\n",
       "0              SVO                 HAV  0.000000        13.083333   \n",
       "1              SVO                 JFK  0.033333        10.750000   \n",
       "2              SVO                 MIA  0.000000        12.833333   \n",
       "3              SVO                 LAX  0.000000        12.833333   \n",
       "4              OTP                 SVO  0.150000         2.416667   \n",
       "5              HAM                 SVO  0.000000         2.750000   \n",
       "6              SVO                 JFK  0.000000        10.833333   \n",
       "7              DXB                 SVO  0.016667         5.666667   \n",
       "8              SVO                 VVO  0.000000         8.416667   \n",
       "9              TLV                 SVO  0.000000         4.166667   \n",
       "\n",
       "   Scheduled depature time_year  Scheduled depature time_month  \\\n",
       "0                          2015                             10   \n",
       "1                          2015                             10   \n",
       "2                          2015                             10   \n",
       "3                          2015                             10   \n",
       "4                          2015                             10   \n",
       "5                          2015                             10   \n",
       "6                          2015                             10   \n",
       "7                          2015                             10   \n",
       "8                          2015                             10   \n",
       "9                          2015                             10   \n",
       "\n",
       "   Scheduled depature time_week  Scheduled depature time_day  \\\n",
       "0                            44                           27   \n",
       "1                            44                           27   \n",
       "2                            44                           27   \n",
       "3                            44                           27   \n",
       "4                            44                           27   \n",
       "5                            44                           27   \n",
       "6                            44                           27   \n",
       "7                            44                           27   \n",
       "8                            44                           27   \n",
       "9                            44                           27   \n",
       "\n",
       "   Scheduled depature time_houre  Scheduled depature time_min  \\\n",
       "0                              7                           40   \n",
       "1                              9                           50   \n",
       "2                             10                           45   \n",
       "3                             12                           30   \n",
       "4                             14                           15   \n",
       "5                             14                           30   \n",
       "6                             14                           35   \n",
       "7                             15                           40   \n",
       "8                             16                           10   \n",
       "9                             16                           45   \n",
       "\n",
       "   Scheduled depature time_dow  Scheduled arrival time_year  \\\n",
       "0                            1                         2015   \n",
       "1                            1                         2015   \n",
       "2                            1                         2015   \n",
       "3                            1                         2015   \n",
       "4                            1                         2015   \n",
       "5                            1                         2015   \n",
       "6                            1                         2015   \n",
       "7                            1                         2015   \n",
       "8                            1                         2015   \n",
       "9                            1                         2015   \n",
       "\n",
       "   Scheduled arrival time_month  Scheduled arrival time_week  \\\n",
       "0                            10                           44   \n",
       "1                            10                           44   \n",
       "2                            10                           44   \n",
       "3                            10                           44   \n",
       "4                            10                           44   \n",
       "5                            10                           44   \n",
       "6                            10                           44   \n",
       "7                            10                           44   \n",
       "8                            10                           44   \n",
       "9                            10                           44   \n",
       "\n",
       "   Scheduled arrival time_day  Scheduled arrival time_houre  \\\n",
       "0                          27                            20   \n",
       "1                          27                            20   \n",
       "2                          27                            23   \n",
       "3                          28                             1   \n",
       "4                          27                            16   \n",
       "5                          27                            17   \n",
       "6                          28                             1   \n",
       "7                          27                            21   \n",
       "8                          28                             0   \n",
       "9                          27                            20   \n",
       "\n",
       "   Scheduled arrival time_min  Scheduled arrival time_dow  \n",
       "0                          45                           1  \n",
       "1                          35                           1  \n",
       "2                          35                           1  \n",
       "3                          20                           2  \n",
       "4                          40                           1  \n",
       "5                          15                           1  \n",
       "6                          25                           2  \n",
       "7                          20                           1  \n",
       "8                          35                           2  \n",
       "9                          55                           1  "
      ]
     },
     "execution_count": 11,
     "metadata": {},
     "output_type": "execute_result"
    }
   ],
   "source": [
    "df.head(10)"
   ]
  },
  {
   "cell_type": "markdown",
   "metadata": {},
   "source": [
    "<h2 id=\"Dealing with None values\">Dealing with None values</h2>\n"
   ]
  },
  {
   "cell_type": "code",
   "execution_count": 12,
   "metadata": {},
   "outputs": [],
   "source": [
    "imputer = SimpleImputer(strategy='most_frequent')\n",
    "imputer.fit(df)\n",
    "df = pd.DataFrame(imputer.transform(df), columns=df.columns)"
   ]
  },
  {
   "cell_type": "markdown",
   "metadata": {},
   "source": [
    "<h2 id=\"Encoding\">Encoding using ordinal</h2>\n"
   ]
  },
  {
   "cell_type": "code",
   "execution_count": 13,
   "metadata": {},
   "outputs": [
    {
     "data": {
      "text/plain": [
       "OrdinalEncoder(categories='auto', dtype=<class 'numpy.float64'>)"
      ]
     },
     "execution_count": 13,
     "metadata": {},
     "output_type": "execute_result"
    }
   ],
   "source": [
    "encoder = OrdinalEncoder()\n",
    "ft = ['Depature Airport', 'Destination Airport']\n",
    "encoder.fit(df[ft])"
   ]
  },
  {
   "cell_type": "code",
   "execution_count": 14,
   "metadata": {},
   "outputs": [],
   "source": [
    "def Ordinal_e_new_features(df, features_name, encoder):\n",
    "    new_feats = encoder.transform(df[features_name])\n",
    "    new_cols = pd.DataFrame(new_feats, dtype=int)\n",
    "    new_df = pd.concat([df, new_cols], axis=1)\n",
    "    new_df.drop(features_name, axis=1, inplace=True)\n",
    "    return new_df"
   ]
  },
  {
   "cell_type": "code",
   "execution_count": 15,
   "metadata": {},
   "outputs": [],
   "source": [
    "df = Ordinal_e_new_features(df, ft, encoder)"
   ]
  },
  {
   "cell_type": "code",
   "execution_count": 16,
   "metadata": {},
   "outputs": [],
   "source": [
    "df=df.rename(columns={0: 'Depature Airport', 1: 'Destination Airport'})"
   ]
  },
  {
   "cell_type": "code",
   "execution_count": 17,
   "metadata": {},
   "outputs": [
    {
     "data": {
      "text/html": [
       "<div>\n",
       "<style scoped>\n",
       "    .dataframe tbody tr th:only-of-type {\n",
       "        vertical-align: middle;\n",
       "    }\n",
       "\n",
       "    .dataframe tbody tr th {\n",
       "        vertical-align: top;\n",
       "    }\n",
       "\n",
       "    .dataframe thead th {\n",
       "        text-align: right;\n",
       "    }\n",
       "</style>\n",
       "<table border=\"1\" class=\"dataframe\">\n",
       "  <thead>\n",
       "    <tr style=\"text-align: right;\">\n",
       "      <th></th>\n",
       "      <th>Delay</th>\n",
       "      <th>flight duration</th>\n",
       "      <th>Scheduled depature time_year</th>\n",
       "      <th>Scheduled depature time_month</th>\n",
       "      <th>Scheduled depature time_week</th>\n",
       "      <th>Scheduled depature time_day</th>\n",
       "      <th>Scheduled depature time_houre</th>\n",
       "      <th>Scheduled depature time_min</th>\n",
       "      <th>Scheduled depature time_dow</th>\n",
       "      <th>Scheduled arrival time_year</th>\n",
       "      <th>Scheduled arrival time_month</th>\n",
       "      <th>Scheduled arrival time_week</th>\n",
       "      <th>Scheduled arrival time_day</th>\n",
       "      <th>Scheduled arrival time_houre</th>\n",
       "      <th>Scheduled arrival time_min</th>\n",
       "      <th>Scheduled arrival time_dow</th>\n",
       "      <th>Depature Airport</th>\n",
       "      <th>Destination Airport</th>\n",
       "    </tr>\n",
       "  </thead>\n",
       "  <tbody>\n",
       "    <tr>\n",
       "      <th>0</th>\n",
       "      <td>0</td>\n",
       "      <td>13.0833</td>\n",
       "      <td>2015</td>\n",
       "      <td>10</td>\n",
       "      <td>44</td>\n",
       "      <td>27</td>\n",
       "      <td>7</td>\n",
       "      <td>40</td>\n",
       "      <td>1</td>\n",
       "      <td>2015</td>\n",
       "      <td>10</td>\n",
       "      <td>44</td>\n",
       "      <td>27</td>\n",
       "      <td>20</td>\n",
       "      <td>45</td>\n",
       "      <td>1</td>\n",
       "      <td>144</td>\n",
       "      <td>56</td>\n",
       "    </tr>\n",
       "    <tr>\n",
       "      <th>1</th>\n",
       "      <td>0.0333333</td>\n",
       "      <td>10.75</td>\n",
       "      <td>2015</td>\n",
       "      <td>10</td>\n",
       "      <td>44</td>\n",
       "      <td>27</td>\n",
       "      <td>9</td>\n",
       "      <td>50</td>\n",
       "      <td>1</td>\n",
       "      <td>2015</td>\n",
       "      <td>10</td>\n",
       "      <td>44</td>\n",
       "      <td>27</td>\n",
       "      <td>20</td>\n",
       "      <td>35</td>\n",
       "      <td>1</td>\n",
       "      <td>144</td>\n",
       "      <td>68</td>\n",
       "    </tr>\n",
       "    <tr>\n",
       "      <th>2</th>\n",
       "      <td>0</td>\n",
       "      <td>12.8333</td>\n",
       "      <td>2015</td>\n",
       "      <td>10</td>\n",
       "      <td>44</td>\n",
       "      <td>27</td>\n",
       "      <td>10</td>\n",
       "      <td>45</td>\n",
       "      <td>1</td>\n",
       "      <td>2015</td>\n",
       "      <td>10</td>\n",
       "      <td>44</td>\n",
       "      <td>27</td>\n",
       "      <td>23</td>\n",
       "      <td>35</td>\n",
       "      <td>1</td>\n",
       "      <td>144</td>\n",
       "      <td>94</td>\n",
       "    </tr>\n",
       "    <tr>\n",
       "      <th>3</th>\n",
       "      <td>0</td>\n",
       "      <td>12.8333</td>\n",
       "      <td>2015</td>\n",
       "      <td>10</td>\n",
       "      <td>44</td>\n",
       "      <td>27</td>\n",
       "      <td>12</td>\n",
       "      <td>30</td>\n",
       "      <td>1</td>\n",
       "      <td>2015</td>\n",
       "      <td>10</td>\n",
       "      <td>44</td>\n",
       "      <td>28</td>\n",
       "      <td>1</td>\n",
       "      <td>20</td>\n",
       "      <td>2</td>\n",
       "      <td>144</td>\n",
       "      <td>82</td>\n",
       "    </tr>\n",
       "    <tr>\n",
       "      <th>4</th>\n",
       "      <td>0.15</td>\n",
       "      <td>2.41667</td>\n",
       "      <td>2015</td>\n",
       "      <td>10</td>\n",
       "      <td>44</td>\n",
       "      <td>27</td>\n",
       "      <td>14</td>\n",
       "      <td>15</td>\n",
       "      <td>1</td>\n",
       "      <td>2015</td>\n",
       "      <td>10</td>\n",
       "      <td>44</td>\n",
       "      <td>27</td>\n",
       "      <td>16</td>\n",
       "      <td>40</td>\n",
       "      <td>1</td>\n",
       "      <td>113</td>\n",
       "      <td>144</td>\n",
       "    </tr>\n",
       "    <tr>\n",
       "      <th>5</th>\n",
       "      <td>0</td>\n",
       "      <td>2.75</td>\n",
       "      <td>2015</td>\n",
       "      <td>10</td>\n",
       "      <td>44</td>\n",
       "      <td>27</td>\n",
       "      <td>14</td>\n",
       "      <td>30</td>\n",
       "      <td>1</td>\n",
       "      <td>2015</td>\n",
       "      <td>10</td>\n",
       "      <td>44</td>\n",
       "      <td>27</td>\n",
       "      <td>17</td>\n",
       "      <td>15</td>\n",
       "      <td>1</td>\n",
       "      <td>53</td>\n",
       "      <td>144</td>\n",
       "    </tr>\n",
       "    <tr>\n",
       "      <th>6</th>\n",
       "      <td>0</td>\n",
       "      <td>10.8333</td>\n",
       "      <td>2015</td>\n",
       "      <td>10</td>\n",
       "      <td>44</td>\n",
       "      <td>27</td>\n",
       "      <td>14</td>\n",
       "      <td>35</td>\n",
       "      <td>1</td>\n",
       "      <td>2015</td>\n",
       "      <td>10</td>\n",
       "      <td>44</td>\n",
       "      <td>28</td>\n",
       "      <td>1</td>\n",
       "      <td>25</td>\n",
       "      <td>2</td>\n",
       "      <td>144</td>\n",
       "      <td>68</td>\n",
       "    </tr>\n",
       "    <tr>\n",
       "      <th>7</th>\n",
       "      <td>0.0166667</td>\n",
       "      <td>5.66667</td>\n",
       "      <td>2015</td>\n",
       "      <td>10</td>\n",
       "      <td>44</td>\n",
       "      <td>27</td>\n",
       "      <td>15</td>\n",
       "      <td>40</td>\n",
       "      <td>1</td>\n",
       "      <td>2015</td>\n",
       "      <td>10</td>\n",
       "      <td>44</td>\n",
       "      <td>27</td>\n",
       "      <td>21</td>\n",
       "      <td>20</td>\n",
       "      <td>1</td>\n",
       "      <td>35</td>\n",
       "      <td>144</td>\n",
       "    </tr>\n",
       "    <tr>\n",
       "      <th>8</th>\n",
       "      <td>0</td>\n",
       "      <td>8.41667</td>\n",
       "      <td>2015</td>\n",
       "      <td>10</td>\n",
       "      <td>44</td>\n",
       "      <td>27</td>\n",
       "      <td>16</td>\n",
       "      <td>10</td>\n",
       "      <td>1</td>\n",
       "      <td>2015</td>\n",
       "      <td>10</td>\n",
       "      <td>44</td>\n",
       "      <td>28</td>\n",
       "      <td>0</td>\n",
       "      <td>35</td>\n",
       "      <td>2</td>\n",
       "      <td>144</td>\n",
       "      <td>171</td>\n",
       "    </tr>\n",
       "    <tr>\n",
       "      <th>9</th>\n",
       "      <td>0</td>\n",
       "      <td>4.16667</td>\n",
       "      <td>2015</td>\n",
       "      <td>10</td>\n",
       "      <td>44</td>\n",
       "      <td>27</td>\n",
       "      <td>16</td>\n",
       "      <td>45</td>\n",
       "      <td>1</td>\n",
       "      <td>2015</td>\n",
       "      <td>10</td>\n",
       "      <td>44</td>\n",
       "      <td>27</td>\n",
       "      <td>20</td>\n",
       "      <td>55</td>\n",
       "      <td>1</td>\n",
       "      <td>156</td>\n",
       "      <td>144</td>\n",
       "    </tr>\n",
       "  </tbody>\n",
       "</table>\n",
       "</div>"
      ],
      "text/plain": [
       "       Delay flight duration Scheduled depature time_year  \\\n",
       "0          0         13.0833                         2015   \n",
       "1  0.0333333           10.75                         2015   \n",
       "2          0         12.8333                         2015   \n",
       "3          0         12.8333                         2015   \n",
       "4       0.15         2.41667                         2015   \n",
       "5          0            2.75                         2015   \n",
       "6          0         10.8333                         2015   \n",
       "7  0.0166667         5.66667                         2015   \n",
       "8          0         8.41667                         2015   \n",
       "9          0         4.16667                         2015   \n",
       "\n",
       "  Scheduled depature time_month Scheduled depature time_week  \\\n",
       "0                            10                           44   \n",
       "1                            10                           44   \n",
       "2                            10                           44   \n",
       "3                            10                           44   \n",
       "4                            10                           44   \n",
       "5                            10                           44   \n",
       "6                            10                           44   \n",
       "7                            10                           44   \n",
       "8                            10                           44   \n",
       "9                            10                           44   \n",
       "\n",
       "  Scheduled depature time_day Scheduled depature time_houre  \\\n",
       "0                          27                             7   \n",
       "1                          27                             9   \n",
       "2                          27                            10   \n",
       "3                          27                            12   \n",
       "4                          27                            14   \n",
       "5                          27                            14   \n",
       "6                          27                            14   \n",
       "7                          27                            15   \n",
       "8                          27                            16   \n",
       "9                          27                            16   \n",
       "\n",
       "  Scheduled depature time_min Scheduled depature time_dow  \\\n",
       "0                          40                           1   \n",
       "1                          50                           1   \n",
       "2                          45                           1   \n",
       "3                          30                           1   \n",
       "4                          15                           1   \n",
       "5                          30                           1   \n",
       "6                          35                           1   \n",
       "7                          40                           1   \n",
       "8                          10                           1   \n",
       "9                          45                           1   \n",
       "\n",
       "  Scheduled arrival time_year Scheduled arrival time_month  \\\n",
       "0                        2015                           10   \n",
       "1                        2015                           10   \n",
       "2                        2015                           10   \n",
       "3                        2015                           10   \n",
       "4                        2015                           10   \n",
       "5                        2015                           10   \n",
       "6                        2015                           10   \n",
       "7                        2015                           10   \n",
       "8                        2015                           10   \n",
       "9                        2015                           10   \n",
       "\n",
       "  Scheduled arrival time_week Scheduled arrival time_day  \\\n",
       "0                          44                         27   \n",
       "1                          44                         27   \n",
       "2                          44                         27   \n",
       "3                          44                         28   \n",
       "4                          44                         27   \n",
       "5                          44                         27   \n",
       "6                          44                         28   \n",
       "7                          44                         27   \n",
       "8                          44                         28   \n",
       "9                          44                         27   \n",
       "\n",
       "  Scheduled arrival time_houre Scheduled arrival time_min  \\\n",
       "0                           20                         45   \n",
       "1                           20                         35   \n",
       "2                           23                         35   \n",
       "3                            1                         20   \n",
       "4                           16                         40   \n",
       "5                           17                         15   \n",
       "6                            1                         25   \n",
       "7                           21                         20   \n",
       "8                            0                         35   \n",
       "9                           20                         55   \n",
       "\n",
       "  Scheduled arrival time_dow  Depature Airport  Destination Airport  \n",
       "0                          1               144                   56  \n",
       "1                          1               144                   68  \n",
       "2                          1               144                   94  \n",
       "3                          2               144                   82  \n",
       "4                          1               113                  144  \n",
       "5                          1                53                  144  \n",
       "6                          2               144                   68  \n",
       "7                          1                35                  144  \n",
       "8                          2               144                  171  \n",
       "9                          1               156                  144  "
      ]
     },
     "execution_count": 17,
     "metadata": {},
     "output_type": "execute_result"
    }
   ],
   "source": [
    "df.head(10)"
   ]
  },
  {
   "cell_type": "markdown",
   "metadata": {},
   "source": [
    "<h2 id=\"Visualizing the data\">Visualizing the data</h2>"
   ]
  },
  {
   "cell_type": "markdown",
   "metadata": {},
   "source": [
    "<p id=\"visualizing\">First time we use only Delay and flight duration,\n",
    "Seconde one we use PCA to reduce the dimensions to 2 and in\n",
    "Third one we use PCA to reduce the dimentions to 3.\n",
    "</p>\n"
   ]
  },
  {
   "cell_type": "code",
   "execution_count": 18,
   "metadata": {},
   "outputs": [
    {
     "data": {
      "image/png": "[encoded data removed]",
      "text/plain": [
       "<Figure size 432x288 with 1 Axes>"
      ]
     },
     "metadata": {
      "needs_background": "light"
     },
     "output_type": "display_data"
    }
   ],
   "source": [
    "plt.scatter(df['flight duration'],df['Delay'],s=0.1)\n",
    "plt.title(\"Delay to flight duration\")\n",
    "plt.xlabel(\"Flight Duration\")\n",
    "plt.ylabel(\"Delay\")\n",
    "plt.show()"
   ]
  },
  {
   "cell_type": "code",
   "execution_count": 19,
   "metadata": {},
   "outputs": [
    {
     "data": {
      "image/png": "[encoded data removed]",
      "text/plain": [
       "<Figure size 432x288 with 1 Axes>"
      ]
     },
     "metadata": {
      "needs_background": "light"
     },
     "output_type": "display_data"
    }
   ],
   "source": [
    "dim_reducer = PCA(n_components=2)\n",
    "df_reduced = dim_reducer.fit_transform(df)\n",
    "plt.scatter(df_reduced[:,0],df_reduced[:,1],s=0.1)\n",
    "plt.title(\"2D PCA\")\n",
    "plt.xlabel(\"First Principal Component\")\n",
    "plt.ylabel(\"Second Principal Component\")\n",
    "plt.show()"
   ]
  },
  {
   "cell_type": "markdown",
   "metadata": {},
   "source": [
    "<h2 id=\"Outlier Detection & Removal \">Outlier Detection & Removal </h2>"
   ]
  },
  {
   "cell_type": "code",
   "execution_count": 20,
   "metadata": {},
   "outputs": [
    {
     "data": {
      "text/plain": [
       "<matplotlib.axes._subplots.AxesSubplot at 0x28b4c20ca88>"
      ]
     },
     "execution_count": 20,
     "metadata": {},
     "output_type": "execute_result"
    },
    {
     "data": {
      "image/png": "[encoded data removed]",
      "text/plain": [
       "<Figure size 432x288 with 1 Axes>"
      ]
     },
     "metadata": {
      "needs_background": "light"
     },
     "output_type": "display_data"
    }
   ],
   "source": [
    "plt.title('Box Plot', fontsize=40)\n",
    "sns.boxplot(x=df['flight duration'])"
   ]
  },
  {
   "cell_type": "code",
   "execution_count": 21,
   "metadata": {},
   "outputs": [
    {
     "data": {
      "text/plain": [
       "<matplotlib.axes._subplots.AxesSubplot at 0x28b55930bc8>"
      ]
     },
     "execution_count": 21,
     "metadata": {},
     "output_type": "execute_result"
    },
    {
     "data": {
      "image/png": "[encoded data removed]",
      "text/plain": [
       "<Figure size 432x288 with 1 Axes>"
      ]
     },
     "metadata": {
      "needs_background": "light"
     },
     "output_type": "display_data"
    }
   ],
   "source": [
    "plt.title('Box Plot', fontsize=40)\n",
    "sns.boxplot(x=df['Destination Airport'])"
   ]
  },
  {
   "cell_type": "code",
   "execution_count": 22,
   "metadata": {},
   "outputs": [
    {
     "data": {
      "text/plain": [
       "<matplotlib.axes._subplots.AxesSubplot at 0x28b4c1e1cc8>"
      ]
     },
     "execution_count": 22,
     "metadata": {},
     "output_type": "execute_result"
    },
    {
     "data": {
      "image/png": "[encoded data removed]",
      "text/plain": [
       "<Figure size 432x288 with 1 Axes>"
      ]
     },
     "metadata": {
      "needs_background": "light"
     },
     "output_type": "display_data"
    }
   ],
   "source": [
    "plt.title('Box Plot', fontsize=40)\n",
    "sns.boxplot(x=df['Depature Airport'])"
   ]
  },
  {
   "cell_type": "code",
   "execution_count": 23,
   "metadata": {},
   "outputs": [
    {
     "data": {
      "text/plain": [
       "<matplotlib.axes._subplots.AxesSubplot at 0x28b4d3b5108>"
      ]
     },
     "execution_count": 23,
     "metadata": {},
     "output_type": "execute_result"
    },
    {
     "data": {
      "image/png": "[encoded data removed]",
      "text/plain": [
       "<Figure size 432x288 with 1 Axes>"
      ]
     },
     "metadata": {
      "needs_background": "light"
     },
     "output_type": "display_data"
    }
   ],
   "source": [
    "plt.title('Box Plot', fontsize=40)\n",
    "sns.boxplot(x=df['Delay'])"
   ]
  },
  {
   "cell_type": "markdown",
   "metadata": {},
   "source": [
    "We can see that we have Outlier in flight duration and delay"
   ]
  },
  {
   "cell_type": "code",
   "execution_count": 24,
   "metadata": {},
   "outputs": [],
   "source": [
    "def removeOutliers(datafframe,feature):\n",
    "\n",
    "    upper_limit = datafframe[feature].mean() + 3 * datafframe[feature].std()\n",
    "    lower_limit = datafframe[feature].mean() - 3 * datafframe[feature].std()\n",
    "    new_train_data = datafframe[(datafframe[feature] < upper_limit) & (datafframe[feature] > lower_limit)]\n",
    "\n",
    "    return new_train_data"
   ]
  },
  {
   "cell_type": "code",
   "execution_count": 25,
   "metadata": {},
   "outputs": [],
   "source": [
    "df=removeOutliers(df,'Delay')\n",
    "df=removeOutliers(df,'flight duration')"
   ]
  },
  {
   "cell_type": "markdown",
   "metadata": {},
   "source": [
    "<h2 id=\"Splitting to test and train\">Splitting to test and train</h2>"
   ]
  },
  {
   "cell_type": "code",
   "execution_count": 26,
   "metadata": {},
   "outputs": [],
   "source": [
    "train = df.loc[df['Scheduled depature time_year'] < 2018] \n",
    "test = df.loc[df['Scheduled depature time_year'] == 2018]"
   ]
  },
  {
   "cell_type": "code",
   "execution_count": 27,
   "metadata": {},
   "outputs": [
    {
     "data": {
      "text/html": [
       "<div>\n",
       "<style scoped>\n",
       "    .dataframe tbody tr th:only-of-type {\n",
       "        vertical-align: middle;\n",
       "    }\n",
       "\n",
       "    .dataframe tbody tr th {\n",
       "        vertical-align: top;\n",
       "    }\n",
       "\n",
       "    .dataframe thead th {\n",
       "        text-align: right;\n",
       "    }\n",
       "</style>\n",
       "<table border=\"1\" class=\"dataframe\">\n",
       "  <thead>\n",
       "    <tr style=\"text-align: right;\">\n",
       "      <th></th>\n",
       "      <th>Delay</th>\n",
       "      <th>flight duration</th>\n",
       "      <th>Scheduled depature time_year</th>\n",
       "      <th>Scheduled depature time_month</th>\n",
       "      <th>Scheduled depature time_week</th>\n",
       "      <th>Scheduled depature time_day</th>\n",
       "      <th>Scheduled depature time_houre</th>\n",
       "      <th>Scheduled depature time_min</th>\n",
       "      <th>Scheduled depature time_dow</th>\n",
       "      <th>Scheduled arrival time_year</th>\n",
       "      <th>Scheduled arrival time_month</th>\n",
       "      <th>Scheduled arrival time_week</th>\n",
       "      <th>Scheduled arrival time_day</th>\n",
       "      <th>Scheduled arrival time_houre</th>\n",
       "      <th>Scheduled arrival time_min</th>\n",
       "      <th>Scheduled arrival time_dow</th>\n",
       "      <th>Depature Airport</th>\n",
       "      <th>Destination Airport</th>\n",
       "    </tr>\n",
       "  </thead>\n",
       "  <tbody>\n",
       "    <tr>\n",
       "      <th>4</th>\n",
       "      <td>0.15</td>\n",
       "      <td>2.41667</td>\n",
       "      <td>2015</td>\n",
       "      <td>10</td>\n",
       "      <td>44</td>\n",
       "      <td>27</td>\n",
       "      <td>14</td>\n",
       "      <td>15</td>\n",
       "      <td>1</td>\n",
       "      <td>2015</td>\n",
       "      <td>10</td>\n",
       "      <td>44</td>\n",
       "      <td>27</td>\n",
       "      <td>16</td>\n",
       "      <td>40</td>\n",
       "      <td>1</td>\n",
       "      <td>113</td>\n",
       "      <td>144</td>\n",
       "    </tr>\n",
       "    <tr>\n",
       "      <th>5</th>\n",
       "      <td>0</td>\n",
       "      <td>2.75</td>\n",
       "      <td>2015</td>\n",
       "      <td>10</td>\n",
       "      <td>44</td>\n",
       "      <td>27</td>\n",
       "      <td>14</td>\n",
       "      <td>30</td>\n",
       "      <td>1</td>\n",
       "      <td>2015</td>\n",
       "      <td>10</td>\n",
       "      <td>44</td>\n",
       "      <td>27</td>\n",
       "      <td>17</td>\n",
       "      <td>15</td>\n",
       "      <td>1</td>\n",
       "      <td>53</td>\n",
       "      <td>144</td>\n",
       "    </tr>\n",
       "    <tr>\n",
       "      <th>7</th>\n",
       "      <td>0.0166667</td>\n",
       "      <td>5.66667</td>\n",
       "      <td>2015</td>\n",
       "      <td>10</td>\n",
       "      <td>44</td>\n",
       "      <td>27</td>\n",
       "      <td>15</td>\n",
       "      <td>40</td>\n",
       "      <td>1</td>\n",
       "      <td>2015</td>\n",
       "      <td>10</td>\n",
       "      <td>44</td>\n",
       "      <td>27</td>\n",
       "      <td>21</td>\n",
       "      <td>20</td>\n",
       "      <td>1</td>\n",
       "      <td>35</td>\n",
       "      <td>144</td>\n",
       "    </tr>\n",
       "    <tr>\n",
       "      <th>8</th>\n",
       "      <td>0</td>\n",
       "      <td>8.41667</td>\n",
       "      <td>2015</td>\n",
       "      <td>10</td>\n",
       "      <td>44</td>\n",
       "      <td>27</td>\n",
       "      <td>16</td>\n",
       "      <td>10</td>\n",
       "      <td>1</td>\n",
       "      <td>2015</td>\n",
       "      <td>10</td>\n",
       "      <td>44</td>\n",
       "      <td>28</td>\n",
       "      <td>0</td>\n",
       "      <td>35</td>\n",
       "      <td>2</td>\n",
       "      <td>144</td>\n",
       "      <td>171</td>\n",
       "    </tr>\n",
       "    <tr>\n",
       "      <th>9</th>\n",
       "      <td>0</td>\n",
       "      <td>4.16667</td>\n",
       "      <td>2015</td>\n",
       "      <td>10</td>\n",
       "      <td>44</td>\n",
       "      <td>27</td>\n",
       "      <td>16</td>\n",
       "      <td>45</td>\n",
       "      <td>1</td>\n",
       "      <td>2015</td>\n",
       "      <td>10</td>\n",
       "      <td>44</td>\n",
       "      <td>27</td>\n",
       "      <td>20</td>\n",
       "      <td>55</td>\n",
       "      <td>1</td>\n",
       "      <td>156</td>\n",
       "      <td>144</td>\n",
       "    </tr>\n",
       "    <tr>\n",
       "      <th>10</th>\n",
       "      <td>0</td>\n",
       "      <td>3.5</td>\n",
       "      <td>2015</td>\n",
       "      <td>10</td>\n",
       "      <td>44</td>\n",
       "      <td>27</td>\n",
       "      <td>16</td>\n",
       "      <td>55</td>\n",
       "      <td>1</td>\n",
       "      <td>2015</td>\n",
       "      <td>10</td>\n",
       "      <td>44</td>\n",
       "      <td>27</td>\n",
       "      <td>20</td>\n",
       "      <td>25</td>\n",
       "      <td>1</td>\n",
       "      <td>100</td>\n",
       "      <td>144</td>\n",
       "    </tr>\n",
       "    <tr>\n",
       "      <th>11</th>\n",
       "      <td>0</td>\n",
       "      <td>8.75</td>\n",
       "      <td>2015</td>\n",
       "      <td>10</td>\n",
       "      <td>44</td>\n",
       "      <td>27</td>\n",
       "      <td>17</td>\n",
       "      <td>0</td>\n",
       "      <td>1</td>\n",
       "      <td>2015</td>\n",
       "      <td>10</td>\n",
       "      <td>44</td>\n",
       "      <td>28</td>\n",
       "      <td>1</td>\n",
       "      <td>45</td>\n",
       "      <td>2</td>\n",
       "      <td>144</td>\n",
       "      <td>119</td>\n",
       "    </tr>\n",
       "    <tr>\n",
       "      <th>12</th>\n",
       "      <td>0.233333</td>\n",
       "      <td>2.25</td>\n",
       "      <td>2015</td>\n",
       "      <td>10</td>\n",
       "      <td>44</td>\n",
       "      <td>27</td>\n",
       "      <td>17</td>\n",
       "      <td>10</td>\n",
       "      <td>1</td>\n",
       "      <td>2015</td>\n",
       "      <td>10</td>\n",
       "      <td>44</td>\n",
       "      <td>27</td>\n",
       "      <td>19</td>\n",
       "      <td>25</td>\n",
       "      <td>1</td>\n",
       "      <td>144</td>\n",
       "      <td>98</td>\n",
       "    </tr>\n",
       "    <tr>\n",
       "      <th>13</th>\n",
       "      <td>0</td>\n",
       "      <td>8.33333</td>\n",
       "      <td>2015</td>\n",
       "      <td>10</td>\n",
       "      <td>44</td>\n",
       "      <td>27</td>\n",
       "      <td>17</td>\n",
       "      <td>25</td>\n",
       "      <td>1</td>\n",
       "      <td>2015</td>\n",
       "      <td>10</td>\n",
       "      <td>44</td>\n",
       "      <td>28</td>\n",
       "      <td>1</td>\n",
       "      <td>45</td>\n",
       "      <td>2</td>\n",
       "      <td>144</td>\n",
       "      <td>160</td>\n",
       "    </tr>\n",
       "    <tr>\n",
       "      <th>14</th>\n",
       "      <td>0</td>\n",
       "      <td>3.66667</td>\n",
       "      <td>2015</td>\n",
       "      <td>10</td>\n",
       "      <td>44</td>\n",
       "      <td>27</td>\n",
       "      <td>17</td>\n",
       "      <td>35</td>\n",
       "      <td>1</td>\n",
       "      <td>2015</td>\n",
       "      <td>10</td>\n",
       "      <td>44</td>\n",
       "      <td>27</td>\n",
       "      <td>21</td>\n",
       "      <td>15</td>\n",
       "      <td>1</td>\n",
       "      <td>12</td>\n",
       "      <td>144</td>\n",
       "    </tr>\n",
       "  </tbody>\n",
       "</table>\n",
       "</div>"
      ],
      "text/plain": [
       "        Delay flight duration Scheduled depature time_year  \\\n",
       "4        0.15         2.41667                         2015   \n",
       "5           0            2.75                         2015   \n",
       "7   0.0166667         5.66667                         2015   \n",
       "8           0         8.41667                         2015   \n",
       "9           0         4.16667                         2015   \n",
       "10          0             3.5                         2015   \n",
       "11          0            8.75                         2015   \n",
       "12   0.233333            2.25                         2015   \n",
       "13          0         8.33333                         2015   \n",
       "14          0         3.66667                         2015   \n",
       "\n",
       "   Scheduled depature time_month Scheduled depature time_week  \\\n",
       "4                             10                           44   \n",
       "5                             10                           44   \n",
       "7                             10                           44   \n",
       "8                             10                           44   \n",
       "9                             10                           44   \n",
       "10                            10                           44   \n",
       "11                            10                           44   \n",
       "12                            10                           44   \n",
       "13                            10                           44   \n",
       "14                            10                           44   \n",
       "\n",
       "   Scheduled depature time_day Scheduled depature time_houre  \\\n",
       "4                           27                            14   \n",
       "5                           27                            14   \n",
       "7                           27                            15   \n",
       "8                           27                            16   \n",
       "9                           27                            16   \n",
       "10                          27                            16   \n",
       "11                          27                            17   \n",
       "12                          27                            17   \n",
       "13                          27                            17   \n",
       "14                          27                            17   \n",
       "\n",
       "   Scheduled depature time_min Scheduled depature time_dow  \\\n",
       "4                           15                           1   \n",
       "5                           30                           1   \n",
       "7                           40                           1   \n",
       "8                           10                           1   \n",
       "9                           45                           1   \n",
       "10                          55                           1   \n",
       "11                           0                           1   \n",
       "12                          10                           1   \n",
       "13                          25                           1   \n",
       "14                          35                           1   \n",
       "\n",
       "   Scheduled arrival time_year Scheduled arrival time_month  \\\n",
       "4                         2015                           10   \n",
       "5                         2015                           10   \n",
       "7                         2015                           10   \n",
       "8                         2015                           10   \n",
       "9                         2015                           10   \n",
       "10                        2015                           10   \n",
       "11                        2015                           10   \n",
       "12                        2015                           10   \n",
       "13                        2015                           10   \n",
       "14                        2015                           10   \n",
       "\n",
       "   Scheduled arrival time_week Scheduled arrival time_day  \\\n",
       "4                           44                         27   \n",
       "5                           44                         27   \n",
       "7                           44                         27   \n",
       "8                           44                         28   \n",
       "9                           44                         27   \n",
       "10                          44                         27   \n",
       "11                          44                         28   \n",
       "12                          44                         27   \n",
       "13                          44                         28   \n",
       "14                          44                         27   \n",
       "\n",
       "   Scheduled arrival time_houre Scheduled arrival time_min  \\\n",
       "4                            16                         40   \n",
       "5                            17                         15   \n",
       "7                            21                         20   \n",
       "8                             0                         35   \n",
       "9                            20                         55   \n",
       "10                           20                         25   \n",
       "11                            1                         45   \n",
       "12                           19                         25   \n",
       "13                            1                         45   \n",
       "14                           21                         15   \n",
       "\n",
       "   Scheduled arrival time_dow  Depature Airport  Destination Airport  \n",
       "4                           1               113                  144  \n",
       "5                           1                53                  144  \n",
       "7                           1                35                  144  \n",
       "8                           2               144                  171  \n",
       "9                           1               156                  144  \n",
       "10                          1               100                  144  \n",
       "11                          2               144                  119  \n",
       "12                          1               144                   98  \n",
       "13                          2               144                  160  \n",
       "14                          1                12                  144  "
      ]
     },
     "execution_count": 27,
     "metadata": {},
     "output_type": "execute_result"
    }
   ],
   "source": [
    "train.head(10)"
   ]
  },
  {
   "cell_type": "code",
   "execution_count": 28,
   "metadata": {},
   "outputs": [],
   "source": [
    "y_test=test['Delay']\n",
    "x_test=test[['flight duration']]\n",
    "X_test=test.drop('Delay',axis=1)\n",
    "y_train=train['Delay']\n",
    "x_train=train[['flight duration']]\n",
    "X_train=train.drop('Delay',axis=1)"
   ]
  },
  {
   "cell_type": "markdown",
   "metadata": {},
   "source": [
    "<h2 id=\"Scale the data\">Scale the data</h2>"
   ]
  },
  {
   "cell_type": "code",
   "execution_count": 29,
   "metadata": {},
   "outputs": [],
   "source": [
    "scaler = RobustScaler()\n",
    "scaler.fit_transform(x_train)\n",
    "x_train = scaler.transform(x_train)\n",
    "x_test=scaler.transform(x_test)\n",
    "scaler.fit_transform(X_train)\n",
    "X_train = scaler.transform(X_train)\n",
    "X_test=scaler.transform(X_test)"
   ]
  },
  {
   "cell_type": "code",
   "execution_count": 30,
   "metadata": {},
   "outputs": [],
   "source": [
    "x_train=x_train.reshape(-1, 1)\n",
    "x_test=x_test.reshape(-1,1)"
   ]
  },
  {
   "cell_type": "markdown",
   "metadata": {},
   "source": [
    "<h2 id=\"Simple Linear Regression\">Simple Linear Regression</h2>"
   ]
  },
  {
   "cell_type": "code",
   "execution_count": 31,
   "metadata": {},
   "outputs": [
    {
     "name": "stdout",
     "output_type": "stream",
     "text": [
      "Model intercept : 0.1114359938095183\n",
      "Model coefficient : [0.02499832]\n"
     ]
    }
   ],
   "source": [
    "regressor = LinearRegression()\n",
    "regressor.fit(x_train, y_train)\n",
    "print(f\"Model intercept : {regressor.intercept_}\")\n",
    "print(f\"Model coefficient : {regressor.coef_}\")\n",
    "\n",
    "y_pred = regressor.predict(x_test)"
   ]
  },
  {
   "cell_type": "code",
   "execution_count": 32,
   "metadata": {},
   "outputs": [
    {
     "name": "stdout",
     "output_type": "stream",
     "text": [
      "test\n",
      "Mean Absolute Error: 0.13913077824858922\n",
      "Mean Squared Error: 0.049476033990883246\n",
      "Root Mean Squared Error: 0.2224320884919333\n",
      "R2-score: -0.07113407844319952\n"
     ]
    }
   ],
   "source": [
    "print('test')\n",
    "print('Mean Absolute Error:', metrics.mean_absolute_error(y_test, y_pred))\n",
    "print('Mean Squared Error:', metrics.mean_squared_error(y_test, y_pred))\n",
    "print('Root Mean Squared Error:', np.sqrt(metrics.mean_squared_error(y_test, y_pred)))\n",
    "print('R2-score:', r2_score(y_test,y_pred ) )"
   ]
  },
  {
   "cell_type": "code",
   "execution_count": 33,
   "metadata": {},
   "outputs": [
    {
     "name": "stdout",
     "output_type": "stream",
     "text": [
      "train\n",
      "Mean Absolute Error: 0.15353954967761002\n",
      "Mean Squared Error: 0.07668975868353019\n",
      "Root Mean Squared Error: 0.2769291582400275\n",
      "R2-score: 0.0074995522349310395\n"
     ]
    }
   ],
   "source": [
    "print('train')\n",
    "y_pred = regressor.predict(x_train)\n",
    "print('Mean Absolute Error:', metrics.mean_absolute_error(y_train, y_pred))\n",
    "print('Mean Squared Error:', metrics.mean_squared_error(y_train, y_pred))\n",
    "print('Root Mean Squared Error:', np.sqrt(metrics.mean_squared_error(y_train, y_pred)))\n",
    "print('R2-score:', r2_score(y_train,y_pred ) )"
   ]
  },
  {
   "cell_type": "code",
   "execution_count": 34,
   "metadata": {},
   "outputs": [
    {
     "data": {
      "text/plain": [
       "Text(0, 0.5, 'Delay')"
      ]
     },
     "execution_count": 34,
     "metadata": {},
     "output_type": "execute_result"
    },
    {
     "data": {
      "image/png": "[encoded data removed]",
      "text/plain": [
       "<Figure size 432x288 with 1 Axes>"
      ]
     },
     "metadata": {
      "needs_background": "light"
     },
     "output_type": "display_data"
    }
   ],
   "source": [
    "plt.scatter(df['flight duration'], df['Delay'],  color='blue',s=1)\n",
    "XX = np.arange(0.0, 10.0, 0.1)\n",
    "yy = regressor.intercept_+ regressor.coef_[0]*XX\n",
    "plt.plot(XX, yy, '-r' )\n",
    "plt.title(\"Delay to flight duration using simple Linear Regression\")\n",
    "\n",
    "plt.xlabel(\"Flight Duration\")\n",
    "plt.ylabel(\"Delay\")"
   ]
  },
  {
   "cell_type": "markdown",
   "metadata": {},
   "source": [
    "<h2 id=\"Multiple Linear Regression\">Multiple Linear Regression</h2>"
   ]
  },
  {
   "cell_type": "code",
   "execution_count": 35,
   "metadata": {},
   "outputs": [
    {
     "name": "stdout",
     "output_type": "stream",
     "text": [
      "Model intercept : 0.11219626246058768\n",
      "Model coefficients : [ 2.73239865e-02  1.79851234e+00  8.20786411e-01  4.89739524e-03\n",
      "  7.74912059e-02  2.77614691e-02  5.37310913e-03 -6.30951731e-03\n",
      " -1.78741826e+00 -8.17549316e-01 -1.08706272e-03 -8.64865799e-02\n",
      "  6.52340420e-03  1.43408027e-03  9.38006534e-03 -5.62356910e-03\n",
      "  1.25828914e-02]\n"
     ]
    }
   ],
   "source": [
    "regressor = LinearRegression()\n",
    "regressor.fit(X_train, y_train)\n",
    "print(f\"Model intercept : {regressor.intercept_}\")\n",
    "print(f\"Model coefficients : {regressor.coef_}\")\n",
    "\n",
    "y_pred = regressor.predict(X_test)"
   ]
  },
  {
   "cell_type": "code",
   "execution_count": 36,
   "metadata": {},
   "outputs": [
    {
     "name": "stdout",
     "output_type": "stream",
     "text": [
      "test\n",
      "Mean Absolute Error: 0.15062395424884317\n",
      "Mean Squared Error: 0.051631411584780774\n",
      "Root Mean Squared Error: 0.2272254642085274\n",
      "R2-score: -0.1177970424382917\n"
     ]
    }
   ],
   "source": [
    "print('test')\n",
    "print('Mean Absolute Error:', metrics.mean_absolute_error(y_test, y_pred))\n",
    "print('Mean Squared Error:', metrics.mean_squared_error(y_test, y_pred))\n",
    "print('Root Mean Squared Error:', np.sqrt(metrics.mean_squared_error(y_test, y_pred)))\n",
    "print('R2-score:', r2_score(y_test,y_pred ) )"
   ]
  },
  {
   "cell_type": "code",
   "execution_count": 37,
   "metadata": {},
   "outputs": [
    {
     "name": "stdout",
     "output_type": "stream",
     "text": [
      "train\n",
      "Mean Absolute Error: 0.1521426454561674\n",
      "Mean Squared Error: 0.07616428722157337\n",
      "Root Mean Squared Error: 0.27597878038279205\n",
      "R2-score: 0.014300077757929075\n"
     ]
    }
   ],
   "source": [
    "print('train')\n",
    "y_pred = regressor.predict(X_train)\n",
    "print('Mean Absolute Error:', metrics.mean_absolute_error(y_train, y_pred))\n",
    "print('Mean Squared Error:', metrics.mean_squared_error(y_train, y_pred))\n",
    "print('Root Mean Squared Error:', np.sqrt(metrics.mean_squared_error(y_train, y_pred)))\n",
    "print('R2-score:', r2_score(y_train,y_pred ) )"
   ]
  },
  {
   "cell_type": "markdown",
   "metadata": {},
   "source": [
    "<h2 id=\"Lasso & Ridge with regularization\">Lasso & Ridge with regularization</h2>"
   ]
  },
  {
   "cell_type": "code",
   "execution_count": 55,
   "metadata": {},
   "outputs": [
    {
     "name": "stdout",
     "output_type": "stream",
     "text": [
      "0.049751911278284766\n",
      "0.049751911278284766\n",
      "0.049751911278284766\n",
      "0.049751911278284766\n",
      "0.049751911278284766\n",
      "0.049751911278284766\n",
      "0.049751911278284766\n",
      "0.049751911278284766\n",
      "0.049751911278284766\n"
     ]
    },
    {
     "data": {
      "image/png": "[encoded data removed]",
      "text/plain": [
       "<Figure size 432x288 with 1 Axes>"
      ]
     },
     "metadata": {
      "needs_background": "light"
     },
     "output_type": "display_data"
    },
    {
     "name": "stdout",
     "output_type": "stream",
     "text": [
      "test\n",
      "Mean Absolute Error: 0.14059513769055443\n",
      "Mean Squared Error: 0.049751911278284766\n",
      "Root Mean Squared Error: 0.2230513646635787\n",
      "R2-score: -0.07710669872352938\n",
      "train\n",
      "Mean Absolute Error: 0.15523564675279844\n",
      "Mean Squared Error: 0.0772692434106419\n",
      "Root Mean Squared Error: 0.27797345810462176\n",
      "R2-score: 0.0\n",
      "Best value of alpha: 2.2\n"
     ]
    }
   ],
   "source": [
    "alphas = [2.2, 2, 1.5, 1.3, 1.2, 1.1, 1, 0.3, 0.1]\n",
    "losses = []\n",
    "for alpha in alphas:\n",
    "    lasso = Lasso(alpha=alpha)\n",
    "    lasso.fit(X_train, y_train)\n",
    "    y_pred = lasso.predict(X_test)\n",
    "    mse = mean_squared_error(y_test, y_pred)\n",
    "    print(mse)\n",
    "    losses.append(mse)\n",
    "plt.plot(alphas, losses)\n",
    "plt.title(\"Lasso alpha value selection\")\n",
    "plt.xlabel(\"alpha\")\n",
    "plt.ylabel(\"Mean squared error\")\n",
    "plt.show()\n",
    "\n",
    "best_alpha = alphas[np.argmin(losses)]\n",
    "lasso = Lasso(alpha=alpha)\n",
    "lasso.fit(X_train, y_train)\n",
    "y_pred = lasso.predict(X_test)\n",
    "print('test')\n",
    "print('Mean Absolute Error:', metrics.mean_absolute_error(y_test, y_pred))\n",
    "print('Mean Squared Error:', metrics.mean_squared_error(y_test, y_pred))\n",
    "print('Root Mean Squared Error:', np.sqrt(metrics.mean_squared_error(y_test, y_pred)))\n",
    "print('R2-score:', r2_score(y_test,y_pred ) )\n",
    "y_pred = lasso.predict(X_train)\n",
    "print('train')\n",
    "print('Mean Absolute Error:', metrics.mean_absolute_error(y_train, y_pred))\n",
    "print('Mean Squared Error:', metrics.mean_squared_error(y_train, y_pred))\n",
    "print('Root Mean Squared Error:', np.sqrt(metrics.mean_squared_error(y_train, y_pred)))\n",
    "print('R2-score:', r2_score(y_train,y_pred ) )\n",
    "print(\"Best value of alpha:\", best_alpha)"
   ]
  },
  {
   "cell_type": "code",
   "execution_count": 57,
   "metadata": {},
   "outputs": [
    {
     "name": "stdout",
     "output_type": "stream",
     "text": [
      "0.04947603261050793\n",
      "0.04947603273599491\n",
      "0.049476033049713805\n",
      "0.04947603317520195\n",
      "0.04947603323794618\n",
      "0.04947603330069047\n",
      "0.04947603336343483\n",
      "0.049476033802647854\n",
      "0.04947603392813804\n"
     ]
    },
    {
     "data": {
      "image/png": "[encoded data removed]",
      "text/plain": [
       "<Figure size 432x288 with 1 Axes>"
      ]
     },
     "metadata": {
      "needs_background": "light"
     },
     "output_type": "display_data"
    },
    {
     "name": "stdout",
     "output_type": "stream",
     "text": [
      "test\n",
      "Mean Absolute Error: 0.15062260608459946\n",
      "Mean Squared Error: 0.051631199546090016\n",
      "Root Mean Squared Error: 0.22722499762589946\n",
      "R2-score: -0.11779245189516807\n",
      "train\n",
      "Mean Absolute Error: 0.1521426884069587\n",
      "Mean Squared Error: 0.07616433015671112\n",
      "Root Mean Squared Error: 0.2759788581698082\n",
      "R2-score: 0.014299522101682838\n",
      "Best value of alpha: 2.2\n"
     ]
    }
   ],
   "source": [
    "alphas = [2.2, 2, 1.5, 1.3, 1.2, 1.1, 1, 0.3, 0.1]\n",
    "losses = []\n",
    "for alpha in alphas:\n",
    "    ridge = Ridge(alpha=alpha)\n",
    "    ridge.fit(x_train, y_train)\n",
    "    y_pred = ridge.predict(x_test)\n",
    "    mse = mean_squared_error(y_test, y_pred)\n",
    "    print(mse)\n",
    "    losses.append(mse)\n",
    "plt.plot(alphas, losses)\n",
    "plt.title(\"Ridge alpha value selection\")\n",
    "plt.xlabel(\"alpha\")\n",
    "plt.ylabel(\"Mean squared error\")\n",
    "plt.show()\n",
    "\n",
    "best_alpha = alphas[np.argmin(losses)]\n",
    "ridge = Ridge(alpha=alpha)\n",
    "ridge.fit(X_train, y_train)\n",
    "y_pred = ridge.predict(X_test)\n",
    "print('test')\n",
    "print('Mean Absolute Error:', metrics.mean_absolute_error(y_test, y_pred))\n",
    "print('Mean Squared Error:', metrics.mean_squared_error(y_test, y_pred))\n",
    "print('Root Mean Squared Error:', np.sqrt(metrics.mean_squared_error(y_test, y_pred)))\n",
    "print('R2-score:', r2_score(y_test,y_pred ) )\n",
    "y_pred = ridge.predict(X_train)\n",
    "print('train')\n",
    "print('Mean Absolute Error:', metrics.mean_absolute_error(y_train, y_pred))\n",
    "print('Mean Squared Error:', metrics.mean_squared_error(y_train, y_pred))\n",
    "print('Root Mean Squared Error:', np.sqrt(metrics.mean_squared_error(y_train, y_pred)))\n",
    "print('R2-score:', r2_score(y_train,y_pred ) )\n",
    "print(\"Best value of alpha:\", best_alpha)"
   ]
  },
  {
   "cell_type": "markdown",
   "metadata": {},
   "source": [
    "<h2 id=\"Polynomial Regression with one feature (flight duration)\">Polynomial Regression with one feature (flight duration)</h2>"
   ]
  },
  {
   "cell_type": "code",
   "execution_count": 40,
   "metadata": {
    "scrolled": true
   },
   "outputs": [
    {
     "data": {
      "text/plain": [
       "array([[ 1.00000e+00, -1.50000e-01,  2.25000e-02],\n",
       "       [ 1.00000e+00,  5.00000e-02,  2.50000e-03],\n",
       "       [ 1.00000e+00,  1.80000e+00,  3.24000e+00],\n",
       "       ...,\n",
       "       [ 1.00000e+00,  3.70000e+00,  1.36900e+01],\n",
       "       [ 1.00000e+00,  7.00000e-01,  4.90000e-01],\n",
       "       [ 1.00000e+00,  3.65000e+00,  1.33225e+01]])"
      ]
     },
     "execution_count": 40,
     "metadata": {},
     "output_type": "execute_result"
    }
   ],
   "source": [
    "poly = PolynomialFeatures(degree=2)\n",
    "train_x_poly = poly.fit_transform(x_train)\n",
    "train_x_poly"
   ]
  },
  {
   "cell_type": "code",
   "execution_count": 41,
   "metadata": {},
   "outputs": [
    {
     "name": "stdout",
     "output_type": "stream",
     "text": [
      "Coefficients:  [0.         0.01841862 0.00298728]\n",
      "Intercept:  0.11001860230494646\n"
     ]
    }
   ],
   "source": [
    "clf = linear_model.LinearRegression()\n",
    "train_y_ = clf.fit(train_x_poly, y_train)\n",
    "# The coefficients\n",
    "print ('Coefficients: ', clf.coef_)\n",
    "print ('Intercept: ',clf.intercept_)"
   ]
  },
  {
   "cell_type": "code",
   "execution_count": 42,
   "metadata": {},
   "outputs": [
    {
     "name": "stdout",
     "output_type": "stream",
     "text": [
      "test\n",
      "Mean Absolute Error: 0.13904087761000886\n",
      "Mean Squared Error: 0.04942336718537309\n",
      "Root Mean Squared Error: 0.222313668462767\n",
      "R2-score: -0.06999386558387721\n"
     ]
    }
   ],
   "source": [
    "test_x_poly = poly.fit_transform(x_test)\n",
    "test_y_ = clf.predict(test_x_poly)\n",
    "print('test')\n",
    "print('Mean Absolute Error:', metrics.mean_absolute_error(y_test, test_y_))\n",
    "print('Mean Squared Error:', metrics.mean_squared_error(y_test, test_y_))\n",
    "print('Root Mean Squared Error:', np.sqrt(metrics.mean_squared_error(y_test, test_y_)))\n",
    "print('R2-score:', r2_score(y_test,test_y_ ) )"
   ]
  },
  {
   "cell_type": "code",
   "execution_count": 43,
   "metadata": {},
   "outputs": [
    {
     "name": "stdout",
     "output_type": "stream",
     "text": [
      "train\n",
      "Mean Absolute Error: 0.15353509334506463\n",
      "Mean Squared Error: 0.07666977742470296\n",
      "Root Mean Squared Error: 0.2768930794091881\n",
      "R2-score: 0.007758144890239516\n"
     ]
    }
   ],
   "source": [
    "test_x_poly = poly.fit_transform(x_train)\n",
    "test_y_ = clf.predict(test_x_poly)\n",
    "print('train')\n",
    "print('Mean Absolute Error:', metrics.mean_absolute_error(y_train, test_y_))\n",
    "print('Mean Squared Error:', metrics.mean_squared_error(y_train, test_y_))\n",
    "print('Root Mean Squared Error:', np.sqrt(metrics.mean_squared_error(y_train, test_y_)))\n",
    "print('R2-score:', r2_score(y_train,test_y_ ) )"
   ]
  },
  {
   "cell_type": "code",
   "execution_count": 44,
   "metadata": {},
   "outputs": [
    {
     "data": {
      "text/plain": [
       "Text(0, 0.5, 'Delay')"
      ]
     },
     "execution_count": 44,
     "metadata": {},
     "output_type": "execute_result"
    },
    {
     "data": {
      "image/png": "[encoded data removed]",
      "text/plain": [
       "<Figure size 432x288 with 1 Axes>"
      ]
     },
     "metadata": {
      "needs_background": "light"
     },
     "output_type": "display_data"
    }
   ],
   "source": [
    "plt.scatter(df['flight duration'], df['Delay'],  color='blue',s=1)\n",
    "XX = np.arange(0.0, 10.0, 0.1)\n",
    "yy = clf.intercept_+ clf.coef_[1]*XX+ clf.coef_[2]*np.power(XX, 2)\n",
    "plt.plot(XX, yy, '-r' )\n",
    "plt.title(\"Delay to flight duration using Polynomial Regression\")\n",
    "plt.xlabel(\"Flight Duration\")\n",
    "plt.ylabel(\"Delay\")"
   ]
  },
  {
   "cell_type": "markdown",
   "metadata": {},
   "source": [
    "<h2 id=\"Polynomial Regression with all features\">Polynomial Regression with all features</h2>"
   ]
  },
  {
   "cell_type": "code",
   "execution_count": 45,
   "metadata": {},
   "outputs": [
    {
     "data": {
      "text/plain": [
       "array([[ 1.        , -0.15      , -1.        , ...,  0.25826391,\n",
       "        -0.        ,  0.        ],\n",
       "       [ 1.        ,  0.05      , -1.        , ...,  2.22547702,\n",
       "        -0.        ,  0.        ],\n",
       "       [ 1.        ,  1.8       , -1.        , ...,  3.19295888,\n",
       "        -0.        ,  0.        ],\n",
       "       ...,\n",
       "       [ 1.        ,  3.7       ,  1.        , ...,  0.        ,\n",
       "        -0.        ,  4.48027778],\n",
       "       [ 1.        ,  0.7       ,  1.        , ...,  0.        ,\n",
       "        -0.        ,  1.73361111],\n",
       "       [ 1.        ,  3.65      ,  1.        , ...,  0.        ,\n",
       "        -0.        ,  0.66694444]])"
      ]
     },
     "execution_count": 45,
     "metadata": {},
     "output_type": "execute_result"
    }
   ],
   "source": [
    "poly_all = PolynomialFeatures(degree=2)\n",
    "train_x_poly_all = poly_all.fit_transform(X_train)\n",
    "train_x_poly_all"
   ]
  },
  {
   "cell_type": "code",
   "execution_count": 46,
   "metadata": {},
   "outputs": [
    {
     "name": "stdout",
     "output_type": "stream",
     "text": [
      "Coefficients:  [ 1.81983197e+06  7.00222092e+08 -1.26641494e+10 -1.49623842e+11\n",
      "  4.66258796e+10 -2.38518759e+09  4.62146581e+09  2.10066628e+08\n",
      "  9.73279990e+08  1.26650815e+10  1.49626245e+11 -4.66320085e+10\n",
      "  2.39527001e+09 -4.62146581e+09 -2.10066628e+08 -7.93830309e+08\n",
      " -9.91821289e-05  2.04734802e-02 -6.34234868e+07 -7.61889273e+08\n",
      "  5.95004528e+09 -1.02525519e+09 -1.39610371e+08 -8.37190026e+08\n",
      " -3.80540921e+07  2.98397081e+07  7.62471841e+08 -5.94854323e+09\n",
      "  1.02142458e+09  1.45911889e+08  8.37190026e+08  3.80540921e+07\n",
      "  8.23163426e+07 -1.86238289e-02  4.41551208e-03  1.85098192e+10\n",
      " -1.79857936e+10  1.88109861e+10 -4.81266681e+09 -5.02846915e+09\n",
      " -2.28566785e+08  2.71579827e+09 -3.57750834e+10  2.84487450e+10\n",
      " -2.13895994e+10  1.25501294e+10  5.02846920e+09  2.28566782e+08\n",
      " -5.39591612e+09  8.98254395e-01  2.19858551e+00  9.32625587e+08\n",
      "  4.62720305e+09 -2.63193253e+10  3.92702989e+10  1.78501358e+09\n",
      "  9.79302919e+07  1.79857935e+10 -1.86524606e+09 -4.62720825e+09\n",
      " -4.55692373e+10 -3.92702989e+10 -1.78501358e+09 -9.79303725e+07\n",
      "  4.41888809e-01  1.12290382e+00 -1.11958370e+10  8.27949136e+09\n",
      " -6.76668424e+09 -3.07576556e+08 -3.99201601e+09 -1.72254707e+10\n",
      " -5.39211791e+08  1.19662847e+10  6.72182899e+09  6.76668424e+09\n",
      "  3.07576556e+08  4.70854695e+09 -4.38861847e-02 -2.14672089e-02\n",
      " -9.02285242e+01 -9.21428449e+08 -4.18831115e+07  1.75227336e+08\n",
      "  4.81266680e+09  2.63193257e+10 -8.27949179e+09  1.70546910e+08\n",
      "  9.21428451e+08  4.18831114e+07 -1.75227343e+08  3.75881195e-02\n",
      "  9.10396576e-02 -2.76272709e+09 -2.51157008e+08  1.96942074e+08\n",
      "  5.03231409e+09 -3.92603853e+10  6.74140220e+09  9.63018462e+08\n",
      "  5.52545417e+09  2.51157008e+08  5.43287861e+08  7.05051422e-03\n",
      "  1.65176392e-03 -5.70811381e+06  8.95191244e+06  2.28741555e+08\n",
      " -1.78456297e+09  3.06427373e+08  4.37735667e+07  2.51157008e+08\n",
      "  1.14162276e+07  2.46949028e+07  7.18939304e-03  2.11715698e-03\n",
      "  3.25570789e+09 -2.68224238e+09 -1.14119598e+07  3.77137286e+09\n",
      "  1.42260925e+08 -1.96942074e+08 -8.95191244e+06 -5.12272607e+07\n",
      "  6.18696213e-03  5.73348999e-03  1.72652642e+10 -2.84487449e+10\n",
      "  1.98040840e+10 -1.25501294e+10 -5.03231414e+09 -2.28741552e+08\n",
      "  5.36236024e+09 -9.06116486e-01 -2.20336914e+00  9.32620475e+08\n",
      "  5.39216985e+08  4.55692369e+10  3.92603853e+10  1.78456297e+09\n",
      "  1.14120404e+07 -4.56106186e-01 -1.12257385e+00 -7.70447732e+08\n",
      " -6.72182857e+09 -6.74140220e+09 -3.06427373e+08 -4.48790380e+09\n",
      "  5.37681580e-02  2.02789307e-02 -1.70546820e+08 -9.63018464e+08\n",
      " -4.37735666e+07 -1.42260919e+08 -3.86362076e-02 -9.09829140e-02\n",
      " -2.76272709e+09 -2.51157008e+08 -5.43287861e+08 -1.04775429e-02\n",
      "  5.59043884e-03 -5.70811382e+06 -2.46949028e+07  7.06958771e-03\n",
      " -7.02857971e-04 -3.20448063e+09 -7.16400146e-03 -6.65920973e-03\n",
      " -1.93786621e-03  2.28296518e-02  4.11224365e-03]\n",
      "Intercept:  1280899642.0188513\n"
     ]
    }
   ],
   "source": [
    "clf_all = linear_model.LinearRegression()\n",
    "train_y_all = clf_all.fit(train_x_poly_all, y_train)\n",
    "# The coefficients\n",
    "print ('Coefficients: ', clf_all.coef_)\n",
    "print ('Intercept: ',clf_all.intercept_)"
   ]
  },
  {
   "cell_type": "code",
   "execution_count": 47,
   "metadata": {},
   "outputs": [
    {
     "name": "stdout",
     "output_type": "stream",
     "text": [
      "test\n",
      "Mean Absolute Error: 0.3290183549376639\n",
      "Mean Squared Error: 0.12630430632716708\n",
      "Root Mean Squared Error: 0.3553931714695248\n",
      "R2-score: -1.7344319228595975\n"
     ]
    }
   ],
   "source": [
    "test_x_poly_all = poly.fit_transform(X_test)\n",
    "test_y_all = clf_all.predict(test_x_poly_all)\n",
    "print('test')\n",
    "print('Mean Absolute Error:', metrics.mean_absolute_error(y_test, test_y_all))\n",
    "print('Mean Squared Error:', metrics.mean_squared_error(y_test, test_y_all))\n",
    "print('Root Mean Squared Error:', np.sqrt(metrics.mean_squared_error(y_test, test_y_all)))\n",
    "print('R2-score:', r2_score(y_test,test_y_all ) )"
   ]
  },
  {
   "cell_type": "code",
   "execution_count": 48,
   "metadata": {},
   "outputs": [
    {
     "name": "stdout",
     "output_type": "stream",
     "text": [
      "train\n",
      "Mean Absolute Error: 0.15008197166321988\n",
      "Mean Squared Error: 0.07531060159866002\n",
      "Root Mean Squared Error: 0.27442777118699196\n",
      "R2-score: 0.025348272165327534\n"
     ]
    }
   ],
   "source": [
    "test_x_poly_all = poly.fit_transform(X_train)\n",
    "test_y_all = clf_all.predict(test_x_poly_all)\n",
    "print('train')\n",
    "print('Mean Absolute Error:', metrics.mean_absolute_error(y_train, test_y_all))\n",
    "print('Mean Squared Error:', metrics.mean_squared_error(y_train, test_y_all))\n",
    "print('Root Mean Squared Error:', np.sqrt(metrics.mean_squared_error(y_train, test_y_all)))\n",
    "print('R2-score:', r2_score(y_train,test_y_all ) )"
   ]
  },
  {
   "cell_type": "markdown",
   "metadata": {},
   "source": [
    "<h2 id=\"Using Neural Networks\">Using Neural Networks</h2>"
   ]
  },
  {
   "cell_type": "code",
   "execution_count": 49,
   "metadata": {},
   "outputs": [
    {
     "name": "stdout",
     "output_type": "stream",
     "text": [
      "WARNING:tensorflow:From C:\\AI\\anaconda3\\lib\\site-packages\\tensorflow\\python\\ops\\init_ops.py:1251: calling VarianceScaling.__init__ (from tensorflow.python.ops.init_ops) with dtype is deprecated and will be removed in a future version.\n",
      "Instructions for updating:\n",
      "Call initializer instance with the dtype argument instead of passing it to the constructor\n"
     ]
    }
   ],
   "source": [
    "model2 = Sequential()\n",
    "model2.add(Dense(16, input_dim=17, activation='relu'))\n",
    "model2.add(Dense(8, activation='relu'))\n",
    "model2.add(Dense(1, activation='relu'))\n",
    "model2.compile(loss='mean_absolute_error',\n",
    "              optimizer='adam',\n",
    "              metrics=['accuracy'])"
   ]
  },
  {
   "cell_type": "code",
   "execution_count": 50,
   "metadata": {},
   "outputs": [
    {
     "name": "stdout",
     "output_type": "stream",
     "text": [
      "Epoch 1/5\n",
      "477762/477762 [==============================] - 14s 30us/sample - loss: 0.1175 - acc: 0.5153\n",
      "Epoch 2/5\n",
      "477762/477762 [==============================] - 14s 29us/sample - loss: 0.1172 - acc: 0.5155\n",
      "Epoch 3/5\n",
      "477762/477762 [==============================] - 14s 29us/sample - loss: 0.1172 - acc: 0.5155\n",
      "Epoch 4/5\n",
      "477762/477762 [==============================] - 14s 30us/sample - loss: 0.1172 - acc: 0.5155\n",
      "Epoch 5/5\n",
      "477762/477762 [==============================] - 14s 30us/sample - loss: 0.1172 - acc: 0.5155\n"
     ]
    },
    {
     "data": {
      "text/plain": [
       "<tensorflow.python.keras.callbacks.History at 0x28b0070bd48>"
      ]
     },
     "execution_count": 50,
     "metadata": {},
     "output_type": "execute_result"
    }
   ],
   "source": [
    "model2.fit(X_train, y_train, epochs=5, batch_size=32)"
   ]
  },
  {
   "cell_type": "code",
   "execution_count": 51,
   "metadata": {},
   "outputs": [],
   "source": [
    "predicted = model2.predict(X_test, batch_size=128)"
   ]
  },
  {
   "cell_type": "code",
   "execution_count": 52,
   "metadata": {},
   "outputs": [
    {
     "name": "stdout",
     "output_type": "stream",
     "text": [
      "test\n",
      "Mean Absolute Error: 0.05749415482946202\n",
      "Mean Squared Error: 0.049495905443351765\n",
      "Root Mean Squared Error: 0.22247675259080837\n",
      "R2-score: -0.07156428653003033\n"
     ]
    }
   ],
   "source": [
    "print('test')\n",
    "print('Mean Absolute Error:', metrics.mean_absolute_error(y_test, predicted))\n",
    "print('Mean Squared Error:', metrics.mean_squared_error(y_test, predicted))\n",
    "print('Root Mean Squared Error:', np.sqrt(metrics.mean_squared_error(y_test, predicted)))\n",
    "print('R2-score:', r2_score(y_test,predicted ) )"
   ]
  },
  {
   "cell_type": "code",
   "execution_count": 53,
   "metadata": {},
   "outputs": [],
   "source": [
    "predicted = model2.predict(X_train, batch_size=128)"
   ]
  },
  {
   "cell_type": "code",
   "execution_count": 54,
   "metadata": {},
   "outputs": [
    {
     "name": "stdout",
     "output_type": "stream",
     "text": [
      "train\n",
      "Mean Absolute Error: 0.11717316013691612\n",
      "Mean Squared Error: 0.09099879286711328\n",
      "Root Mean Squared Error: 0.3016600617700548\n",
      "R2-score: -0.177684533333744\n"
     ]
    }
   ],
   "source": [
    "print('train')\n",
    "print('Mean Absolute Error:', metrics.mean_absolute_error(y_train, predicted))\n",
    "print('Mean Squared Error:', metrics.mean_squared_error(y_train, predicted))\n",
    "print('Root Mean Squared Error:', np.sqrt(metrics.mean_squared_error(y_train, predicted)))\n",
    "print('R2-score:', r2_score(y_train,predicted ) )"
   ]
  }
 ],
 "metadata": {
  "kernelspec": {
   "display_name": "Python 3",
   "language": "python",
   "name": "python3"
  },
  "language_info": {
   "codemirror_mode": {
    "name": "ipython",
    "version": 3
   },
   "file_extension": ".py",
   "mimetype": "text/x-python",
   "name": "python",
   "nbconvert_exporter": "python",
   "pygments_lexer": "ipython3",
   "version": "3.7.6"
  }
 },
 "nbformat": 4,
 "nbformat_minor": 5
}
