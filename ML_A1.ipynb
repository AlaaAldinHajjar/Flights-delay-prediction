{
 "cells": [
  {
   "cell_type": "code",
   "execution_count": 1,
   "metadata": {},
   "outputs": [
    {
     "name": "stderr",
     "output_type": "stream",
     "text": [
      "C:\\AI\\anaconda3\\lib\\site-packages\\tensorflow\\python\\framework\\dtypes.py:516: FutureWarning: Passing (type, 1) or '1type' as a synonym of type is deprecated; in a future version of numpy, it will be understood as (type, (1,)) / '(1,)type'.\n",
      "  _np_qint8 = np.dtype([(\"qint8\", np.int8, 1)])\n",
      "C:\\AI\\anaconda3\\lib\\site-packages\\tensorflow\\python\\framework\\dtypes.py:517: FutureWarning: Passing (type, 1) or '1type' as a synonym of type is deprecated; in a future version of numpy, it will be understood as (type, (1,)) / '(1,)type'.\n",
      "  _np_quint8 = np.dtype([(\"quint8\", np.uint8, 1)])\n",
      "C:\\AI\\anaconda3\\lib\\site-packages\\tensorflow\\python\\framework\\dtypes.py:518: FutureWarning: Passing (type, 1) or '1type' as a synonym of type is deprecated; in a future version of numpy, it will be understood as (type, (1,)) / '(1,)type'.\n",
      "  _np_qint16 = np.dtype([(\"qint16\", np.int16, 1)])\n",
      "C:\\AI\\anaconda3\\lib\\site-packages\\tensorflow\\python\\framework\\dtypes.py:519: FutureWarning: Passing (type, 1) or '1type' as a synonym of type is deprecated; in a future version of numpy, it will be understood as (type, (1,)) / '(1,)type'.\n",
      "  _np_quint16 = np.dtype([(\"quint16\", np.uint16, 1)])\n",
      "C:\\AI\\anaconda3\\lib\\site-packages\\tensorflow\\python\\framework\\dtypes.py:520: FutureWarning: Passing (type, 1) or '1type' as a synonym of type is deprecated; in a future version of numpy, it will be understood as (type, (1,)) / '(1,)type'.\n",
      "  _np_qint32 = np.dtype([(\"qint32\", np.int32, 1)])\n",
      "C:\\AI\\anaconda3\\lib\\site-packages\\tensorflow\\python\\framework\\dtypes.py:525: FutureWarning: Passing (type, 1) or '1type' as a synonym of type is deprecated; in a future version of numpy, it will be understood as (type, (1,)) / '(1,)type'.\n",
      "  np_resource = np.dtype([(\"resource\", np.ubyte, 1)])\n",
      "C:\\AI\\anaconda3\\lib\\site-packages\\tensorboard\\compat\\tensorflow_stub\\dtypes.py:541: FutureWarning: Passing (type, 1) or '1type' as a synonym of type is deprecated; in a future version of numpy, it will be understood as (type, (1,)) / '(1,)type'.\n",
      "  _np_qint8 = np.dtype([(\"qint8\", np.int8, 1)])\n",
      "C:\\AI\\anaconda3\\lib\\site-packages\\tensorboard\\compat\\tensorflow_stub\\dtypes.py:542: FutureWarning: Passing (type, 1) or '1type' as a synonym of type is deprecated; in a future version of numpy, it will be understood as (type, (1,)) / '(1,)type'.\n",
      "  _np_quint8 = np.dtype([(\"quint8\", np.uint8, 1)])\n",
      "C:\\AI\\anaconda3\\lib\\site-packages\\tensorboard\\compat\\tensorflow_stub\\dtypes.py:543: FutureWarning: Passing (type, 1) or '1type' as a synonym of type is deprecated; in a future version of numpy, it will be understood as (type, (1,)) / '(1,)type'.\n",
      "  _np_qint16 = np.dtype([(\"qint16\", np.int16, 1)])\n",
      "C:\\AI\\anaconda3\\lib\\site-packages\\tensorboard\\compat\\tensorflow_stub\\dtypes.py:544: FutureWarning: Passing (type, 1) or '1type' as a synonym of type is deprecated; in a future version of numpy, it will be understood as (type, (1,)) / '(1,)type'.\n",
      "  _np_quint16 = np.dtype([(\"quint16\", np.uint16, 1)])\n",
      "C:\\AI\\anaconda3\\lib\\site-packages\\tensorboard\\compat\\tensorflow_stub\\dtypes.py:545: FutureWarning: Passing (type, 1) or '1type' as a synonym of type is deprecated; in a future version of numpy, it will be understood as (type, (1,)) / '(1,)type'.\n",
      "  _np_qint32 = np.dtype([(\"qint32\", np.int32, 1)])\n",
      "C:\\AI\\anaconda3\\lib\\site-packages\\tensorboard\\compat\\tensorflow_stub\\dtypes.py:550: FutureWarning: Passing (type, 1) or '1type' as a synonym of type is deprecated; in a future version of numpy, it will be understood as (type, (1,)) / '(1,)type'.\n",
      "  np_resource = np.dtype([(\"resource\", np.ubyte, 1)])\n"
     ]
    }
   ],
   "source": [
    "import pandas as pd\n",
    "import numpy as np\n",
    "from sklearn.preprocessing import OneHotEncoder, PolynomialFeatures\n",
    "from sklearn.impute import SimpleImputer\n",
    "from sklearn.model_selection import train_test_split\n",
    "from sklearn.decomposition import PCA\n",
    "from sklearn.preprocessing import PolynomialFeatures\n",
    "from sklearn import linear_model\n",
    "from sklearn.metrics import r2_score\n",
    "from sklearn.linear_model import Lasso, Ridge\n",
    "from sklearn.metrics import mean_squared_error\n",
    "from sklearn.datasets import load_breast_cancer\n",
    "from sklearn.preprocessing import StandardScaler\n",
    "from sklearn.preprocessing import RobustScaler\n",
    "from sklearn.linear_model import LinearRegression\n",
    "from sklearn import metrics\n",
    "from tensorflow.keras.models import Sequential\n",
    "from tensorflow.keras.layers import Dense\n",
    "import seaborn as sns\n",
    "from mpl_toolkits.mplot3d import Axes3D\n",
    "import matplotlib.pyplot as plt\n",
    "%matplotlib inline"
   ]
  },
  {
   "cell_type": "code",
   "execution_count": 2,
   "metadata": {},
   "outputs": [],
   "source": [
    "df = pd.read_csv('flight_delay.csv')"
   ]
  },
  {
   "cell_type": "code",
   "execution_count": 3,
   "metadata": {},
   "outputs": [
    {
     "data": {
      "text/html": [
       "<div>\n",
       "<style scoped>\n",
       "    .dataframe tbody tr th:only-of-type {\n",
       "        vertical-align: middle;\n",
       "    }\n",
       "\n",
       "    .dataframe tbody tr th {\n",
       "        vertical-align: top;\n",
       "    }\n",
       "\n",
       "    .dataframe thead th {\n",
       "        text-align: right;\n",
       "    }\n",
       "</style>\n",
       "<table border=\"1\" class=\"dataframe\">\n",
       "  <thead>\n",
       "    <tr style=\"text-align: right;\">\n",
       "      <th></th>\n",
       "      <th>Depature Airport</th>\n",
       "      <th>Scheduled depature time</th>\n",
       "      <th>Destination Airport</th>\n",
       "      <th>Scheduled arrival time</th>\n",
       "      <th>Delay</th>\n",
       "    </tr>\n",
       "  </thead>\n",
       "  <tbody>\n",
       "    <tr>\n",
       "      <th>0</th>\n",
       "      <td>SVO</td>\n",
       "      <td>2015-10-27 07:40:00</td>\n",
       "      <td>HAV</td>\n",
       "      <td>2015-10-27 20:45:00</td>\n",
       "      <td>0.0</td>\n",
       "    </tr>\n",
       "    <tr>\n",
       "      <th>1</th>\n",
       "      <td>SVO</td>\n",
       "      <td>2015-10-27 09:50:00</td>\n",
       "      <td>JFK</td>\n",
       "      <td>2015-10-27 20:35:00</td>\n",
       "      <td>2.0</td>\n",
       "    </tr>\n",
       "    <tr>\n",
       "      <th>2</th>\n",
       "      <td>SVO</td>\n",
       "      <td>2015-10-27 10:45:00</td>\n",
       "      <td>MIA</td>\n",
       "      <td>2015-10-27 23:35:00</td>\n",
       "      <td>0.0</td>\n",
       "    </tr>\n",
       "    <tr>\n",
       "      <th>3</th>\n",
       "      <td>SVO</td>\n",
       "      <td>2015-10-27 12:30:00</td>\n",
       "      <td>LAX</td>\n",
       "      <td>2015-10-28 01:20:00</td>\n",
       "      <td>0.0</td>\n",
       "    </tr>\n",
       "    <tr>\n",
       "      <th>4</th>\n",
       "      <td>OTP</td>\n",
       "      <td>2015-10-27 14:15:00</td>\n",
       "      <td>SVO</td>\n",
       "      <td>2015-10-27 16:40:00</td>\n",
       "      <td>9.0</td>\n",
       "    </tr>\n",
       "    <tr>\n",
       "      <th>5</th>\n",
       "      <td>HAM</td>\n",
       "      <td>2015-10-27 14:30:00</td>\n",
       "      <td>SVO</td>\n",
       "      <td>2015-10-27 17:15:00</td>\n",
       "      <td>0.0</td>\n",
       "    </tr>\n",
       "    <tr>\n",
       "      <th>6</th>\n",
       "      <td>SVO</td>\n",
       "      <td>2015-10-27 14:35:00</td>\n",
       "      <td>JFK</td>\n",
       "      <td>2015-10-28 01:25:00</td>\n",
       "      <td>0.0</td>\n",
       "    </tr>\n",
       "    <tr>\n",
       "      <th>7</th>\n",
       "      <td>DXB</td>\n",
       "      <td>2015-10-27 15:40:00</td>\n",
       "      <td>SVO</td>\n",
       "      <td>2015-10-27 21:20:00</td>\n",
       "      <td>1.0</td>\n",
       "    </tr>\n",
       "    <tr>\n",
       "      <th>8</th>\n",
       "      <td>SVO</td>\n",
       "      <td>2015-10-27 16:10:00</td>\n",
       "      <td>VVO</td>\n",
       "      <td>2015-10-28 00:35:00</td>\n",
       "      <td>0.0</td>\n",
       "    </tr>\n",
       "    <tr>\n",
       "      <th>9</th>\n",
       "      <td>TLV</td>\n",
       "      <td>2015-10-27 16:45:00</td>\n",
       "      <td>SVO</td>\n",
       "      <td>2015-10-27 20:55:00</td>\n",
       "      <td>0.0</td>\n",
       "    </tr>\n",
       "  </tbody>\n",
       "</table>\n",
       "</div>"
      ],
      "text/plain": [
       "  Depature Airport Scheduled depature time Destination Airport  \\\n",
       "0              SVO     2015-10-27 07:40:00                 HAV   \n",
       "1              SVO     2015-10-27 09:50:00                 JFK   \n",
       "2              SVO     2015-10-27 10:45:00                 MIA   \n",
       "3              SVO     2015-10-27 12:30:00                 LAX   \n",
       "4              OTP     2015-10-27 14:15:00                 SVO   \n",
       "5              HAM     2015-10-27 14:30:00                 SVO   \n",
       "6              SVO     2015-10-27 14:35:00                 JFK   \n",
       "7              DXB     2015-10-27 15:40:00                 SVO   \n",
       "8              SVO     2015-10-27 16:10:00                 VVO   \n",
       "9              TLV     2015-10-27 16:45:00                 SVO   \n",
       "\n",
       "  Scheduled arrival time  Delay  \n",
       "0    2015-10-27 20:45:00    0.0  \n",
       "1    2015-10-27 20:35:00    2.0  \n",
       "2    2015-10-27 23:35:00    0.0  \n",
       "3    2015-10-28 01:20:00    0.0  \n",
       "4    2015-10-27 16:40:00    9.0  \n",
       "5    2015-10-27 17:15:00    0.0  \n",
       "6    2015-10-28 01:25:00    0.0  \n",
       "7    2015-10-27 21:20:00    1.0  \n",
       "8    2015-10-28 00:35:00    0.0  \n",
       "9    2015-10-27 20:55:00    0.0  "
      ]
     },
     "execution_count": 3,
     "metadata": {},
     "output_type": "execute_result"
    }
   ],
   "source": [
    "df.head(10)"
   ]
  },
  {
   "cell_type": "code",
   "execution_count": 4,
   "metadata": {},
   "outputs": [
    {
     "data": {
      "text/plain": [
       "Depature Airport            object\n",
       "Scheduled depature time     object\n",
       "Destination Airport         object\n",
       "Scheduled arrival time      object\n",
       "Delay                      float64\n",
       "dtype: object"
      ]
     },
     "execution_count": 4,
     "metadata": {},
     "output_type": "execute_result"
    }
   ],
   "source": [
    "types = df.dtypes\n",
    "types"
   ]
  },
  {
   "cell_type": "code",
   "execution_count": 5,
   "metadata": {},
   "outputs": [],
   "source": [
    "df['Scheduled depature time'] = pd.to_datetime(df['Scheduled depature time'])\n",
    "df['Scheduled arrival time'] = pd.to_datetime(df['Scheduled arrival time'])"
   ]
  },
  {
   "cell_type": "code",
   "execution_count": 6,
   "metadata": {},
   "outputs": [],
   "source": [
    "df['Scheduled depature time'] = pd.to_datetime(df['Scheduled depature time'], \n",
    " format = '%Y-%m-%d%H:%M:%S', \n",
    " errors = 'coerce')\n",
    "df['Scheduled arrival time'] = pd.to_datetime(df['Scheduled arrival time'], \n",
    " format = '%Y-%m-%d%H:%M:%S', \n",
    " errors = 'coerce')"
   ]
  },
  {
   "cell_type": "code",
   "execution_count": 7,
   "metadata": {},
   "outputs": [],
   "source": [
    "de=df['Scheduled arrival time']-df['Scheduled depature time']\n",
    "de=de.dt.total_seconds()/3600\n",
    "df['flight duration']=de\n",
    "df['Delay']=df['Delay']/60"
   ]
  },
  {
   "cell_type": "code",
   "execution_count": 8,
   "metadata": {},
   "outputs": [],
   "source": [
    "df['Scheduled depature time_year'] = df['Scheduled depature time'].dt.year\n",
    "df['Scheduled depature time_month'] = df['Scheduled depature time'].dt.month\n",
    "df['Scheduled depature time_week'] = df['Scheduled depature time'].dt.week\n",
    "df['Scheduled depature time_day'] = df['Scheduled depature time'].dt.day\n",
    "df['Scheduled depature time_houre'] = df['Scheduled depature time'].dt.hour\n",
    "df['Scheduled depature time_min'] = df['Scheduled depature time'].dt.minute\n",
    "df['Scheduled depature time_dow'] = df['Scheduled depature time'].dt.dayofweek"
   ]
  },
  {
   "cell_type": "code",
   "execution_count": 9,
   "metadata": {},
   "outputs": [],
   "source": [
    "df['Scheduled arrival time_year'] = df['Scheduled arrival time'].dt.year\n",
    "df['Scheduled arrival time_month'] = df['Scheduled arrival time'].dt.month\n",
    "df['Scheduled arrival time_week'] = df['Scheduled arrival time'].dt.week\n",
    "df['Scheduled arrival time_day'] = df['Scheduled arrival time'].dt.day\n",
    "df['Scheduled arrival time_houre'] = df['Scheduled arrival time'].dt.hour\n",
    "df['Scheduled arrival time_min'] = df['Scheduled arrival time'].dt.minute\n",
    "df['Scheduled arrival time_dow'] = df['Scheduled arrival time'].dt.dayofweek"
   ]
  },
  {
   "cell_type": "code",
   "execution_count": 10,
   "metadata": {},
   "outputs": [],
   "source": [
    "df = df.drop(['Scheduled arrival time', 'Scheduled depature time'], axis=1)"
   ]
  },
  {
   "cell_type": "code",
   "execution_count": 11,
   "metadata": {},
   "outputs": [
    {
     "data": {
      "text/html": [
       "<div>\n",
       "<style scoped>\n",
       "    .dataframe tbody tr th:only-of-type {\n",
       "        vertical-align: middle;\n",
       "    }\n",
       "\n",
       "    .dataframe tbody tr th {\n",
       "        vertical-align: top;\n",
       "    }\n",
       "\n",
       "    .dataframe thead th {\n",
       "        text-align: right;\n",
       "    }\n",
       "</style>\n",
       "<table border=\"1\" class=\"dataframe\">\n",
       "  <thead>\n",
       "    <tr style=\"text-align: right;\">\n",
       "      <th></th>\n",
       "      <th>Depature Airport</th>\n",
       "      <th>Destination Airport</th>\n",
       "      <th>Delay</th>\n",
       "      <th>flight duration</th>\n",
       "      <th>Scheduled depature time_year</th>\n",
       "      <th>Scheduled depature time_month</th>\n",
       "      <th>Scheduled depature time_week</th>\n",
       "      <th>Scheduled depature time_day</th>\n",
       "      <th>Scheduled depature time_houre</th>\n",
       "      <th>Scheduled depature time_min</th>\n",
       "      <th>Scheduled depature time_dow</th>\n",
       "      <th>Scheduled arrival time_year</th>\n",
       "      <th>Scheduled arrival time_month</th>\n",
       "      <th>Scheduled arrival time_week</th>\n",
       "      <th>Scheduled arrival time_day</th>\n",
       "      <th>Scheduled arrival time_houre</th>\n",
       "      <th>Scheduled arrival time_min</th>\n",
       "      <th>Scheduled arrival time_dow</th>\n",
       "    </tr>\n",
       "  </thead>\n",
       "  <tbody>\n",
       "    <tr>\n",
       "      <th>0</th>\n",
       "      <td>SVO</td>\n",
       "      <td>HAV</td>\n",
       "      <td>0.000000</td>\n",
       "      <td>13.083333</td>\n",
       "      <td>2015</td>\n",
       "      <td>10</td>\n",
       "      <td>44</td>\n",
       "      <td>27</td>\n",
       "      <td>7</td>\n",
       "      <td>40</td>\n",
       "      <td>1</td>\n",
       "      <td>2015</td>\n",
       "      <td>10</td>\n",
       "      <td>44</td>\n",
       "      <td>27</td>\n",
       "      <td>20</td>\n",
       "      <td>45</td>\n",
       "      <td>1</td>\n",
       "    </tr>\n",
       "    <tr>\n",
       "      <th>1</th>\n",
       "      <td>SVO</td>\n",
       "      <td>JFK</td>\n",
       "      <td>0.033333</td>\n",
       "      <td>10.750000</td>\n",
       "      <td>2015</td>\n",
       "      <td>10</td>\n",
       "      <td>44</td>\n",
       "      <td>27</td>\n",
       "      <td>9</td>\n",
       "      <td>50</td>\n",
       "      <td>1</td>\n",
       "      <td>2015</td>\n",
       "      <td>10</td>\n",
       "      <td>44</td>\n",
       "      <td>27</td>\n",
       "      <td>20</td>\n",
       "      <td>35</td>\n",
       "      <td>1</td>\n",
       "    </tr>\n",
       "    <tr>\n",
       "      <th>2</th>\n",
       "      <td>SVO</td>\n",
       "      <td>MIA</td>\n",
       "      <td>0.000000</td>\n",
       "      <td>12.833333</td>\n",
       "      <td>2015</td>\n",
       "      <td>10</td>\n",
       "      <td>44</td>\n",
       "      <td>27</td>\n",
       "      <td>10</td>\n",
       "      <td>45</td>\n",
       "      <td>1</td>\n",
       "      <td>2015</td>\n",
       "      <td>10</td>\n",
       "      <td>44</td>\n",
       "      <td>27</td>\n",
       "      <td>23</td>\n",
       "      <td>35</td>\n",
       "      <td>1</td>\n",
       "    </tr>\n",
       "    <tr>\n",
       "      <th>3</th>\n",
       "      <td>SVO</td>\n",
       "      <td>LAX</td>\n",
       "      <td>0.000000</td>\n",
       "      <td>12.833333</td>\n",
       "      <td>2015</td>\n",
       "      <td>10</td>\n",
       "      <td>44</td>\n",
       "      <td>27</td>\n",
       "      <td>12</td>\n",
       "      <td>30</td>\n",
       "      <td>1</td>\n",
       "      <td>2015</td>\n",
       "      <td>10</td>\n",
       "      <td>44</td>\n",
       "      <td>28</td>\n",
       "      <td>1</td>\n",
       "      <td>20</td>\n",
       "      <td>2</td>\n",
       "    </tr>\n",
       "    <tr>\n",
       "      <th>4</th>\n",
       "      <td>OTP</td>\n",
       "      <td>SVO</td>\n",
       "      <td>0.150000</td>\n",
       "      <td>2.416667</td>\n",
       "      <td>2015</td>\n",
       "      <td>10</td>\n",
       "      <td>44</td>\n",
       "      <td>27</td>\n",
       "      <td>14</td>\n",
       "      <td>15</td>\n",
       "      <td>1</td>\n",
       "      <td>2015</td>\n",
       "      <td>10</td>\n",
       "      <td>44</td>\n",
       "      <td>27</td>\n",
       "      <td>16</td>\n",
       "      <td>40</td>\n",
       "      <td>1</td>\n",
       "    </tr>\n",
       "    <tr>\n",
       "      <th>5</th>\n",
       "      <td>HAM</td>\n",
       "      <td>SVO</td>\n",
       "      <td>0.000000</td>\n",
       "      <td>2.750000</td>\n",
       "      <td>2015</td>\n",
       "      <td>10</td>\n",
       "      <td>44</td>\n",
       "      <td>27</td>\n",
       "      <td>14</td>\n",
       "      <td>30</td>\n",
       "      <td>1</td>\n",
       "      <td>2015</td>\n",
       "      <td>10</td>\n",
       "      <td>44</td>\n",
       "      <td>27</td>\n",
       "      <td>17</td>\n",
       "      <td>15</td>\n",
       "      <td>1</td>\n",
       "    </tr>\n",
       "    <tr>\n",
       "      <th>6</th>\n",
       "      <td>SVO</td>\n",
       "      <td>JFK</td>\n",
       "      <td>0.000000</td>\n",
       "      <td>10.833333</td>\n",
       "      <td>2015</td>\n",
       "      <td>10</td>\n",
       "      <td>44</td>\n",
       "      <td>27</td>\n",
       "      <td>14</td>\n",
       "      <td>35</td>\n",
       "      <td>1</td>\n",
       "      <td>2015</td>\n",
       "      <td>10</td>\n",
       "      <td>44</td>\n",
       "      <td>28</td>\n",
       "      <td>1</td>\n",
       "      <td>25</td>\n",
       "      <td>2</td>\n",
       "    </tr>\n",
       "    <tr>\n",
       "      <th>7</th>\n",
       "      <td>DXB</td>\n",
       "      <td>SVO</td>\n",
       "      <td>0.016667</td>\n",
       "      <td>5.666667</td>\n",
       "      <td>2015</td>\n",
       "      <td>10</td>\n",
       "      <td>44</td>\n",
       "      <td>27</td>\n",
       "      <td>15</td>\n",
       "      <td>40</td>\n",
       "      <td>1</td>\n",
       "      <td>2015</td>\n",
       "      <td>10</td>\n",
       "      <td>44</td>\n",
       "      <td>27</td>\n",
       "      <td>21</td>\n",
       "      <td>20</td>\n",
       "      <td>1</td>\n",
       "    </tr>\n",
       "    <tr>\n",
       "      <th>8</th>\n",
       "      <td>SVO</td>\n",
       "      <td>VVO</td>\n",
       "      <td>0.000000</td>\n",
       "      <td>8.416667</td>\n",
       "      <td>2015</td>\n",
       "      <td>10</td>\n",
       "      <td>44</td>\n",
       "      <td>27</td>\n",
       "      <td>16</td>\n",
       "      <td>10</td>\n",
       "      <td>1</td>\n",
       "      <td>2015</td>\n",
       "      <td>10</td>\n",
       "      <td>44</td>\n",
       "      <td>28</td>\n",
       "      <td>0</td>\n",
       "      <td>35</td>\n",
       "      <td>2</td>\n",
       "    </tr>\n",
       "    <tr>\n",
       "      <th>9</th>\n",
       "      <td>TLV</td>\n",
       "      <td>SVO</td>\n",
       "      <td>0.000000</td>\n",
       "      <td>4.166667</td>\n",
       "      <td>2015</td>\n",
       "      <td>10</td>\n",
       "      <td>44</td>\n",
       "      <td>27</td>\n",
       "      <td>16</td>\n",
       "      <td>45</td>\n",
       "      <td>1</td>\n",
       "      <td>2015</td>\n",
       "      <td>10</td>\n",
       "      <td>44</td>\n",
       "      <td>27</td>\n",
       "      <td>20</td>\n",
       "      <td>55</td>\n",
       "      <td>1</td>\n",
       "    </tr>\n",
       "  </tbody>\n",
       "</table>\n",
       "</div>"
      ],
      "text/plain": [
       "  Depature Airport Destination Airport     Delay  flight duration  \\\n",
       "0              SVO                 HAV  0.000000        13.083333   \n",
       "1              SVO                 JFK  0.033333        10.750000   \n",
       "2              SVO                 MIA  0.000000        12.833333   \n",
       "3              SVO                 LAX  0.000000        12.833333   \n",
       "4              OTP                 SVO  0.150000         2.416667   \n",
       "5              HAM                 SVO  0.000000         2.750000   \n",
       "6              SVO                 JFK  0.000000        10.833333   \n",
       "7              DXB                 SVO  0.016667         5.666667   \n",
       "8              SVO                 VVO  0.000000         8.416667   \n",
       "9              TLV                 SVO  0.000000         4.166667   \n",
       "\n",
       "   Scheduled depature time_year  Scheduled depature time_month  \\\n",
       "0                          2015                             10   \n",
       "1                          2015                             10   \n",
       "2                          2015                             10   \n",
       "3                          2015                             10   \n",
       "4                          2015                             10   \n",
       "5                          2015                             10   \n",
       "6                          2015                             10   \n",
       "7                          2015                             10   \n",
       "8                          2015                             10   \n",
       "9                          2015                             10   \n",
       "\n",
       "   Scheduled depature time_week  Scheduled depature time_day  \\\n",
       "0                            44                           27   \n",
       "1                            44                           27   \n",
       "2                            44                           27   \n",
       "3                            44                           27   \n",
       "4                            44                           27   \n",
       "5                            44                           27   \n",
       "6                            44                           27   \n",
       "7                            44                           27   \n",
       "8                            44                           27   \n",
       "9                            44                           27   \n",
       "\n",
       "   Scheduled depature time_houre  Scheduled depature time_min  \\\n",
       "0                              7                           40   \n",
       "1                              9                           50   \n",
       "2                             10                           45   \n",
       "3                             12                           30   \n",
       "4                             14                           15   \n",
       "5                             14                           30   \n",
       "6                             14                           35   \n",
       "7                             15                           40   \n",
       "8                             16                           10   \n",
       "9                             16                           45   \n",
       "\n",
       "   Scheduled depature time_dow  Scheduled arrival time_year  \\\n",
       "0                            1                         2015   \n",
       "1                            1                         2015   \n",
       "2                            1                         2015   \n",
       "3                            1                         2015   \n",
       "4                            1                         2015   \n",
       "5                            1                         2015   \n",
       "6                            1                         2015   \n",
       "7                            1                         2015   \n",
       "8                            1                         2015   \n",
       "9                            1                         2015   \n",
       "\n",
       "   Scheduled arrival time_month  Scheduled arrival time_week  \\\n",
       "0                            10                           44   \n",
       "1                            10                           44   \n",
       "2                            10                           44   \n",
       "3                            10                           44   \n",
       "4                            10                           44   \n",
       "5                            10                           44   \n",
       "6                            10                           44   \n",
       "7                            10                           44   \n",
       "8                            10                           44   \n",
       "9                            10                           44   \n",
       "\n",
       "   Scheduled arrival time_day  Scheduled arrival time_houre  \\\n",
       "0                          27                            20   \n",
       "1                          27                            20   \n",
       "2                          27                            23   \n",
       "3                          28                             1   \n",
       "4                          27                            16   \n",
       "5                          27                            17   \n",
       "6                          28                             1   \n",
       "7                          27                            21   \n",
       "8                          28                             0   \n",
       "9                          27                            20   \n",
       "\n",
       "   Scheduled arrival time_min  Scheduled arrival time_dow  \n",
       "0                          45                           1  \n",
       "1                          35                           1  \n",
       "2                          35                           1  \n",
       "3                          20                           2  \n",
       "4                          40                           1  \n",
       "5                          15                           1  \n",
       "6                          25                           2  \n",
       "7                          20                           1  \n",
       "8                          35                           2  \n",
       "9                          55                           1  "
      ]
     },
     "execution_count": 11,
     "metadata": {},
     "output_type": "execute_result"
    }
   ],
   "source": [
    "df.head(10)"
   ]
  },
  {
   "cell_type": "code",
   "execution_count": 12,
   "metadata": {},
   "outputs": [
    {
     "data": {
      "image/png": "[encoded data removed]",
      "text/plain": [
       "<Figure size 432x288 with 1 Axes>"
      ]
     },
     "metadata": {
      "needs_background": "light"
     },
     "output_type": "display_data"
    }
   ],
   "source": [
    "plt.scatter(df['flight duration'],df['Delay'],s=0.1)\n",
    "plt.show()"
   ]
  },
  {
   "cell_type": "code",
   "execution_count": 13,
   "metadata": {},
   "outputs": [],
   "source": [
    "imputer = SimpleImputer(strategy='most_frequent')\n",
    "imputer.fit(df)\n",
    "df = pd.DataFrame(imputer.transform(df), columns=df.columns)"
   ]
  },
  {
   "cell_type": "code",
   "execution_count": 14,
   "metadata": {},
   "outputs": [
    {
     "data": {
      "text/plain": [
       "OrdinalEncoder(categories='auto', dtype=<class 'numpy.float64'>)"
      ]
     },
     "execution_count": 14,
     "metadata": {},
     "output_type": "execute_result"
    }
   ],
   "source": [
    "from sklearn.preprocessing import OrdinalEncoder\n",
    "encoder = OrdinalEncoder()\n",
    "ft = ['Depature Airport', 'Destination Airport']\n",
    "encoder.fit(df[ft])"
   ]
  },
  {
   "cell_type": "code",
   "execution_count": 15,
   "metadata": {},
   "outputs": [],
   "source": [
    "def Ordinal_e_new_features(df, features_name, encoder):\n",
    "    new_feats = encoder.transform(df[features_name])\n",
    "    new_cols = pd.DataFrame(new_feats, dtype=int)\n",
    "    new_df = pd.concat([df, new_cols], axis=1)\n",
    "    new_df.drop(features_name, axis=1, inplace=True)\n",
    "    return new_df"
   ]
  },
  {
   "cell_type": "code",
   "execution_count": 16,
   "metadata": {},
   "outputs": [],
   "source": [
    "df = Ordinal_e_new_features(df, ft, encoder)"
   ]
  },
  {
   "cell_type": "code",
   "execution_count": 17,
   "metadata": {},
   "outputs": [],
   "source": [
    "df=df.rename(columns={0: 'Depature Airport', 1: 'Destination Airport'})"
   ]
  },
  {
   "cell_type": "code",
   "execution_count": 18,
   "metadata": {},
   "outputs": [
    {
     "data": {
      "text/html": [
       "<div>\n",
       "<style scoped>\n",
       "    .dataframe tbody tr th:only-of-type {\n",
       "        vertical-align: middle;\n",
       "    }\n",
       "\n",
       "    .dataframe tbody tr th {\n",
       "        vertical-align: top;\n",
       "    }\n",
       "\n",
       "    .dataframe thead th {\n",
       "        text-align: right;\n",
       "    }\n",
       "</style>\n",
       "<table border=\"1\" class=\"dataframe\">\n",
       "  <thead>\n",
       "    <tr style=\"text-align: right;\">\n",
       "      <th></th>\n",
       "      <th>Delay</th>\n",
       "      <th>flight duration</th>\n",
       "      <th>Scheduled depature time_year</th>\n",
       "      <th>Scheduled depature time_month</th>\n",
       "      <th>Scheduled depature time_week</th>\n",
       "      <th>Scheduled depature time_day</th>\n",
       "      <th>Scheduled depature time_houre</th>\n",
       "      <th>Scheduled depature time_min</th>\n",
       "      <th>Scheduled depature time_dow</th>\n",
       "      <th>Scheduled arrival time_year</th>\n",
       "      <th>Scheduled arrival time_month</th>\n",
       "      <th>Scheduled arrival time_week</th>\n",
       "      <th>Scheduled arrival time_day</th>\n",
       "      <th>Scheduled arrival time_houre</th>\n",
       "      <th>Scheduled arrival time_min</th>\n",
       "      <th>Scheduled arrival time_dow</th>\n",
       "      <th>Depature Airport</th>\n",
       "      <th>Destination Airport</th>\n",
       "    </tr>\n",
       "  </thead>\n",
       "  <tbody>\n",
       "    <tr>\n",
       "      <th>0</th>\n",
       "      <td>0</td>\n",
       "      <td>13.0833</td>\n",
       "      <td>2015</td>\n",
       "      <td>10</td>\n",
       "      <td>44</td>\n",
       "      <td>27</td>\n",
       "      <td>7</td>\n",
       "      <td>40</td>\n",
       "      <td>1</td>\n",
       "      <td>2015</td>\n",
       "      <td>10</td>\n",
       "      <td>44</td>\n",
       "      <td>27</td>\n",
       "      <td>20</td>\n",
       "      <td>45</td>\n",
       "      <td>1</td>\n",
       "      <td>144</td>\n",
       "      <td>56</td>\n",
       "    </tr>\n",
       "    <tr>\n",
       "      <th>1</th>\n",
       "      <td>0.0333333</td>\n",
       "      <td>10.75</td>\n",
       "      <td>2015</td>\n",
       "      <td>10</td>\n",
       "      <td>44</td>\n",
       "      <td>27</td>\n",
       "      <td>9</td>\n",
       "      <td>50</td>\n",
       "      <td>1</td>\n",
       "      <td>2015</td>\n",
       "      <td>10</td>\n",
       "      <td>44</td>\n",
       "      <td>27</td>\n",
       "      <td>20</td>\n",
       "      <td>35</td>\n",
       "      <td>1</td>\n",
       "      <td>144</td>\n",
       "      <td>68</td>\n",
       "    </tr>\n",
       "    <tr>\n",
       "      <th>2</th>\n",
       "      <td>0</td>\n",
       "      <td>12.8333</td>\n",
       "      <td>2015</td>\n",
       "      <td>10</td>\n",
       "      <td>44</td>\n",
       "      <td>27</td>\n",
       "      <td>10</td>\n",
       "      <td>45</td>\n",
       "      <td>1</td>\n",
       "      <td>2015</td>\n",
       "      <td>10</td>\n",
       "      <td>44</td>\n",
       "      <td>27</td>\n",
       "      <td>23</td>\n",
       "      <td>35</td>\n",
       "      <td>1</td>\n",
       "      <td>144</td>\n",
       "      <td>94</td>\n",
       "    </tr>\n",
       "    <tr>\n",
       "      <th>3</th>\n",
       "      <td>0</td>\n",
       "      <td>12.8333</td>\n",
       "      <td>2015</td>\n",
       "      <td>10</td>\n",
       "      <td>44</td>\n",
       "      <td>27</td>\n",
       "      <td>12</td>\n",
       "      <td>30</td>\n",
       "      <td>1</td>\n",
       "      <td>2015</td>\n",
       "      <td>10</td>\n",
       "      <td>44</td>\n",
       "      <td>28</td>\n",
       "      <td>1</td>\n",
       "      <td>20</td>\n",
       "      <td>2</td>\n",
       "      <td>144</td>\n",
       "      <td>82</td>\n",
       "    </tr>\n",
       "    <tr>\n",
       "      <th>4</th>\n",
       "      <td>0.15</td>\n",
       "      <td>2.41667</td>\n",
       "      <td>2015</td>\n",
       "      <td>10</td>\n",
       "      <td>44</td>\n",
       "      <td>27</td>\n",
       "      <td>14</td>\n",
       "      <td>15</td>\n",
       "      <td>1</td>\n",
       "      <td>2015</td>\n",
       "      <td>10</td>\n",
       "      <td>44</td>\n",
       "      <td>27</td>\n",
       "      <td>16</td>\n",
       "      <td>40</td>\n",
       "      <td>1</td>\n",
       "      <td>113</td>\n",
       "      <td>144</td>\n",
       "    </tr>\n",
       "    <tr>\n",
       "      <th>5</th>\n",
       "      <td>0</td>\n",
       "      <td>2.75</td>\n",
       "      <td>2015</td>\n",
       "      <td>10</td>\n",
       "      <td>44</td>\n",
       "      <td>27</td>\n",
       "      <td>14</td>\n",
       "      <td>30</td>\n",
       "      <td>1</td>\n",
       "      <td>2015</td>\n",
       "      <td>10</td>\n",
       "      <td>44</td>\n",
       "      <td>27</td>\n",
       "      <td>17</td>\n",
       "      <td>15</td>\n",
       "      <td>1</td>\n",
       "      <td>53</td>\n",
       "      <td>144</td>\n",
       "    </tr>\n",
       "    <tr>\n",
       "      <th>6</th>\n",
       "      <td>0</td>\n",
       "      <td>10.8333</td>\n",
       "      <td>2015</td>\n",
       "      <td>10</td>\n",
       "      <td>44</td>\n",
       "      <td>27</td>\n",
       "      <td>14</td>\n",
       "      <td>35</td>\n",
       "      <td>1</td>\n",
       "      <td>2015</td>\n",
       "      <td>10</td>\n",
       "      <td>44</td>\n",
       "      <td>28</td>\n",
       "      <td>1</td>\n",
       "      <td>25</td>\n",
       "      <td>2</td>\n",
       "      <td>144</td>\n",
       "      <td>68</td>\n",
       "    </tr>\n",
       "    <tr>\n",
       "      <th>7</th>\n",
       "      <td>0.0166667</td>\n",
       "      <td>5.66667</td>\n",
       "      <td>2015</td>\n",
       "      <td>10</td>\n",
       "      <td>44</td>\n",
       "      <td>27</td>\n",
       "      <td>15</td>\n",
       "      <td>40</td>\n",
       "      <td>1</td>\n",
       "      <td>2015</td>\n",
       "      <td>10</td>\n",
       "      <td>44</td>\n",
       "      <td>27</td>\n",
       "      <td>21</td>\n",
       "      <td>20</td>\n",
       "      <td>1</td>\n",
       "      <td>35</td>\n",
       "      <td>144</td>\n",
       "    </tr>\n",
       "    <tr>\n",
       "      <th>8</th>\n",
       "      <td>0</td>\n",
       "      <td>8.41667</td>\n",
       "      <td>2015</td>\n",
       "      <td>10</td>\n",
       "      <td>44</td>\n",
       "      <td>27</td>\n",
       "      <td>16</td>\n",
       "      <td>10</td>\n",
       "      <td>1</td>\n",
       "      <td>2015</td>\n",
       "      <td>10</td>\n",
       "      <td>44</td>\n",
       "      <td>28</td>\n",
       "      <td>0</td>\n",
       "      <td>35</td>\n",
       "      <td>2</td>\n",
       "      <td>144</td>\n",
       "      <td>171</td>\n",
       "    </tr>\n",
       "    <tr>\n",
       "      <th>9</th>\n",
       "      <td>0</td>\n",
       "      <td>4.16667</td>\n",
       "      <td>2015</td>\n",
       "      <td>10</td>\n",
       "      <td>44</td>\n",
       "      <td>27</td>\n",
       "      <td>16</td>\n",
       "      <td>45</td>\n",
       "      <td>1</td>\n",
       "      <td>2015</td>\n",
       "      <td>10</td>\n",
       "      <td>44</td>\n",
       "      <td>27</td>\n",
       "      <td>20</td>\n",
       "      <td>55</td>\n",
       "      <td>1</td>\n",
       "      <td>156</td>\n",
       "      <td>144</td>\n",
       "    </tr>\n",
       "  </tbody>\n",
       "</table>\n",
       "</div>"
      ],
      "text/plain": [
       "       Delay flight duration Scheduled depature time_year  \\\n",
       "0          0         13.0833                         2015   \n",
       "1  0.0333333           10.75                         2015   \n",
       "2          0         12.8333                         2015   \n",
       "3          0         12.8333                         2015   \n",
       "4       0.15         2.41667                         2015   \n",
       "5          0            2.75                         2015   \n",
       "6          0         10.8333                         2015   \n",
       "7  0.0166667         5.66667                         2015   \n",
       "8          0         8.41667                         2015   \n",
       "9          0         4.16667                         2015   \n",
       "\n",
       "  Scheduled depature time_month Scheduled depature time_week  \\\n",
       "0                            10                           44   \n",
       "1                            10                           44   \n",
       "2                            10                           44   \n",
       "3                            10                           44   \n",
       "4                            10                           44   \n",
       "5                            10                           44   \n",
       "6                            10                           44   \n",
       "7                            10                           44   \n",
       "8                            10                           44   \n",
       "9                            10                           44   \n",
       "\n",
       "  Scheduled depature time_day Scheduled depature time_houre  \\\n",
       "0                          27                             7   \n",
       "1                          27                             9   \n",
       "2                          27                            10   \n",
       "3                          27                            12   \n",
       "4                          27                            14   \n",
       "5                          27                            14   \n",
       "6                          27                            14   \n",
       "7                          27                            15   \n",
       "8                          27                            16   \n",
       "9                          27                            16   \n",
       "\n",
       "  Scheduled depature time_min Scheduled depature time_dow  \\\n",
       "0                          40                           1   \n",
       "1                          50                           1   \n",
       "2                          45                           1   \n",
       "3                          30                           1   \n",
       "4                          15                           1   \n",
       "5                          30                           1   \n",
       "6                          35                           1   \n",
       "7                          40                           1   \n",
       "8                          10                           1   \n",
       "9                          45                           1   \n",
       "\n",
       "  Scheduled arrival time_year Scheduled arrival time_month  \\\n",
       "0                        2015                           10   \n",
       "1                        2015                           10   \n",
       "2                        2015                           10   \n",
       "3                        2015                           10   \n",
       "4                        2015                           10   \n",
       "5                        2015                           10   \n",
       "6                        2015                           10   \n",
       "7                        2015                           10   \n",
       "8                        2015                           10   \n",
       "9                        2015                           10   \n",
       "\n",
       "  Scheduled arrival time_week Scheduled arrival time_day  \\\n",
       "0                          44                         27   \n",
       "1                          44                         27   \n",
       "2                          44                         27   \n",
       "3                          44                         28   \n",
       "4                          44                         27   \n",
       "5                          44                         27   \n",
       "6                          44                         28   \n",
       "7                          44                         27   \n",
       "8                          44                         28   \n",
       "9                          44                         27   \n",
       "\n",
       "  Scheduled arrival time_houre Scheduled arrival time_min  \\\n",
       "0                           20                         45   \n",
       "1                           20                         35   \n",
       "2                           23                         35   \n",
       "3                            1                         20   \n",
       "4                           16                         40   \n",
       "5                           17                         15   \n",
       "6                            1                         25   \n",
       "7                           21                         20   \n",
       "8                            0                         35   \n",
       "9                           20                         55   \n",
       "\n",
       "  Scheduled arrival time_dow  Depature Airport  Destination Airport  \n",
       "0                          1               144                   56  \n",
       "1                          1               144                   68  \n",
       "2                          1               144                   94  \n",
       "3                          2               144                   82  \n",
       "4                          1               113                  144  \n",
       "5                          1                53                  144  \n",
       "6                          2               144                   68  \n",
       "7                          1                35                  144  \n",
       "8                          2               144                  171  \n",
       "9                          1               156                  144  "
      ]
     },
     "execution_count": 18,
     "metadata": {},
     "output_type": "execute_result"
    }
   ],
   "source": [
    "df.head(10)"
   ]
  },
  {
   "cell_type": "code",
   "execution_count": 19,
   "metadata": {},
   "outputs": [],
   "source": [
    "def removeOutliers(datafframe,feature):\n",
    "\n",
    "    upper_limit = datafframe[feature].mean() + 3 * datafframe[feature].std()\n",
    "    lower_limit = datafframe[feature].mean() - 3 * datafframe[feature].std()\n",
    "    new_train_data = datafframe[(datafframe[feature] < upper_limit) & (datafframe[feature] > lower_limit)]\n",
    "\n",
    "    return new_train_data"
   ]
  },
  {
   "cell_type": "code",
   "execution_count": 20,
   "metadata": {},
   "outputs": [],
   "source": [
    "df=removeOutliers(df,'Delay')"
   ]
  },
  {
   "cell_type": "code",
   "execution_count": 21,
   "metadata": {},
   "outputs": [
    {
     "data": {
      "image/png": "[encoded data removed]",
      "text/plain": [
       "<Figure size 432x288 with 1 Axes>"
      ]
     },
     "metadata": {
      "needs_background": "light"
     },
     "output_type": "display_data"
    }
   ],
   "source": [
    "plt.scatter(df['flight duration'],df['Delay'],s=0.1)\n",
    "plt.show()"
   ]
  },
  {
   "cell_type": "code",
   "execution_count": 22,
   "metadata": {},
   "outputs": [
    {
     "data": {
      "image/png": "[encoded data removed]",
      "text/plain": [
       "<Figure size 432x288 with 1 Axes>"
      ]
     },
     "metadata": {
      "needs_background": "light"
     },
     "output_type": "display_data"
    }
   ],
   "source": [
    "dim_reducer = PCA(n_components=2)\n",
    "df_reduced = dim_reducer.fit_transform(df)\n",
    "plt.scatter(df_reduced[:,0],df_reduced[:,1],s=0.1)\n",
    "plt.xlabel(\"First Principal Component\")\n",
    "plt.ylabel(\"Second Principal Component\")\n",
    "plt.show()"
   ]
  },
  {
   "cell_type": "code",
   "execution_count": 23,
   "metadata": {},
   "outputs": [
    {
     "ename": "KeyError",
     "evalue": "0.016666666666666666",
     "output_type": "error",
     "traceback": [
      "\u001b[1;31m---------------------------------------------------------------------------\u001b[0m",
      "\u001b[1;31mKeyError\u001b[0m                                  Traceback (most recent call last)",
      "\u001b[1;32m<ipython-input-23-9c1b2e0b0fa8>\u001b[0m in \u001b[0;36m<module>\u001b[1;34m\u001b[0m\n\u001b[0;32m     42\u001b[0m \u001b[1;32mfor\u001b[0m \u001b[0ml\u001b[0m \u001b[1;32min\u001b[0m \u001b[0mnp\u001b[0m\u001b[1;33m.\u001b[0m\u001b[0munique\u001b[0m\u001b[1;33m(\u001b[0m\u001b[0my\u001b[0m\u001b[1;33m)\u001b[0m\u001b[1;33m:\u001b[0m\u001b[1;33m\u001b[0m\u001b[1;33m\u001b[0m\u001b[0m\n\u001b[0;32m     43\u001b[0m     \u001b[0mix\u001b[0m\u001b[1;33m=\u001b[0m\u001b[0mnp\u001b[0m\u001b[1;33m.\u001b[0m\u001b[0mwhere\u001b[0m\u001b[1;33m(\u001b[0m\u001b[0my\u001b[0m\u001b[1;33m==\u001b[0m\u001b[0ml\u001b[0m\u001b[1;33m)\u001b[0m\u001b[1;33m\u001b[0m\u001b[1;33m\u001b[0m\u001b[0m\n\u001b[1;32m---> 44\u001b[1;33m     \u001b[0max\u001b[0m\u001b[1;33m.\u001b[0m\u001b[0mscatter\u001b[0m\u001b[1;33m(\u001b[0m\u001b[0mXax\u001b[0m\u001b[1;33m[\u001b[0m\u001b[0mix\u001b[0m\u001b[1;33m]\u001b[0m\u001b[1;33m,\u001b[0m \u001b[0mYax\u001b[0m\u001b[1;33m[\u001b[0m\u001b[0mix\u001b[0m\u001b[1;33m]\u001b[0m\u001b[1;33m,\u001b[0m \u001b[0mZax\u001b[0m\u001b[1;33m[\u001b[0m\u001b[0mix\u001b[0m\u001b[1;33m]\u001b[0m\u001b[1;33m,\u001b[0m \u001b[0mc\u001b[0m\u001b[1;33m=\u001b[0m\u001b[0mcdict\u001b[0m\u001b[1;33m[\u001b[0m\u001b[0ml\u001b[0m\u001b[1;33m]\u001b[0m\u001b[1;33m,\u001b[0m \u001b[0ms\u001b[0m\u001b[1;33m=\u001b[0m\u001b[1;36m1\u001b[0m\u001b[1;33m,\u001b[0m\u001b[0mlabel\u001b[0m\u001b[1;33m=\u001b[0m\u001b[0mlabl\u001b[0m\u001b[1;33m[\u001b[0m\u001b[0ml\u001b[0m\u001b[1;33m]\u001b[0m\u001b[1;33m,\u001b[0m \u001b[0mmarker\u001b[0m\u001b[1;33m=\u001b[0m\u001b[0mmarker\u001b[0m\u001b[1;33m[\u001b[0m\u001b[0ml\u001b[0m\u001b[1;33m]\u001b[0m\u001b[1;33m,\u001b[0m \u001b[0malpha\u001b[0m\u001b[1;33m=\u001b[0m\u001b[0malpha\u001b[0m\u001b[1;33m[\u001b[0m\u001b[0ml\u001b[0m\u001b[1;33m]\u001b[0m\u001b[1;33m)\u001b[0m\u001b[1;33m\u001b[0m\u001b[1;33m\u001b[0m\u001b[0m\n\u001b[0m\u001b[0;32m     45\u001b[0m \u001b[1;31m# for loop ends\u001b[0m\u001b[1;33m\u001b[0m\u001b[1;33m\u001b[0m\u001b[1;33m\u001b[0m\u001b[0m\n\u001b[0;32m     46\u001b[0m \u001b[0max\u001b[0m\u001b[1;33m.\u001b[0m\u001b[0mset_xlabel\u001b[0m\u001b[1;33m(\u001b[0m\u001b[1;34m\"First Principal Component\"\u001b[0m\u001b[1;33m,\u001b[0m \u001b[0mfontsize\u001b[0m\u001b[1;33m=\u001b[0m\u001b[1;36m14\u001b[0m\u001b[1;33m)\u001b[0m\u001b[1;33m\u001b[0m\u001b[1;33m\u001b[0m\u001b[0m\n",
      "\u001b[1;31mKeyError\u001b[0m: 0.016666666666666666"
     ]
    },
    {
     "data": {
      "image/png": "[encoded data removed]",
      "text/plain": [
       "<Figure size 504x360 with 1 Axes>"
      ]
     },
     "metadata": {},
     "output_type": "display_data"
    }
   ],
   "source": [
    "import numpy as np\n",
    "import pandas as pd\n",
    "import matplotlib.pyplot as plt\n",
    "\n",
    "from mpl_toolkits.mplot3d import Axes3D\n",
    "from sklearn.datasets import load_breast_cancer\n",
    "from sklearn.decomposition import PCA\n",
    "from sklearn import datasets\n",
    "from sklearn.preprocessing import StandardScaler\n",
    "# %matplotlib notebook\n",
    "\n",
    "X = df.drop('Delay',axis=1)\n",
    "y = df['Delay']\n",
    "sc = StandardScaler()\n",
    "\n",
    "scaler = StandardScaler()\n",
    "scaler.fit(X) \n",
    "X_scaled = scaler.transform(X)\n",
    "\n",
    "pca = PCA(n_components=3)\n",
    "pca.fit(X_scaled) \n",
    "X_pca = pca.transform(X_scaled) \n",
    "\n",
    "ex_variance=np.var(X_pca,axis=0)\n",
    "ex_variance_ratio = ex_variance/np.sum(ex_variance)\n",
    "ex_variance_ratio\n",
    "\n",
    "\n",
    "Xax = X_pca[:,0]\n",
    "Yax = X_pca[:,1]\n",
    "Zax = X_pca[:,2]\n",
    "\n",
    "cdict = {0:'red',1:'green'}\n",
    "labl = {0:'Malignant',1:'Benign'}\n",
    "marker = {0:'*',1:'o'}\n",
    "alpha = {0:.3, 1:.5}\n",
    "\n",
    "fig = plt.figure(figsize=(7,5))\n",
    "ax = fig.add_subplot(111, projection='3d')\n",
    "\n",
    "fig.patch.set_facecolor('white')\n",
    "for l in np.unique(y):\n",
    "    ix=np.where(y==l) \n",
    "    ax.scatter(Xax[ix], Yax[ix], Zax[ix], c=cdict[l], s=1,label=labl[l], marker=marker[l], alpha=alpha[l])\n",
    "# for loop ends\n",
    "ax.set_xlabel(\"First Principal Component\", fontsize=14)\n",
    "ax.set_ylabel(\"Second Principal Component\", fontsize=14)\n",
    "ax.set_zlabel(\"Third Principal Component\", fontsize=14)\n",
    "\n",
    "ax.legend()\n",
    "plt.show()"
   ]
  },
  {
   "cell_type": "code",
   "execution_count": 24,
   "metadata": {},
   "outputs": [
    {
     "data": {
      "text/plain": [
       "<matplotlib.axes._subplots.AxesSubplot at 0x1c4246d1488>"
      ]
     },
     "execution_count": 24,
     "metadata": {},
     "output_type": "execute_result"
    },
    {
     "data": {
      "image/png": "[encoded data removed]",
      "text/plain": [
       "<Figure size 432x288 with 1 Axes>"
      ]
     },
     "metadata": {
      "needs_background": "light"
     },
     "output_type": "display_data"
    }
   ],
   "source": [
    "sns.boxplot(data=df['flight duration'])"
   ]
  },
  {
   "cell_type": "code",
   "execution_count": 25,
   "metadata": {},
   "outputs": [
    {
     "data": {
      "text/plain": [
       "<matplotlib.axes._subplots.AxesSubplot at 0x1c42491cb48>"
      ]
     },
     "execution_count": 25,
     "metadata": {},
     "output_type": "execute_result"
    },
    {
     "data": {
      "image/png": "[encoded data removed]",
      "text/plain": [
       "<Figure size 432x288 with 1 Axes>"
      ]
     },
     "metadata": {
      "needs_background": "light"
     },
     "output_type": "display_data"
    }
   ],
   "source": [
    "sns.boxplot(data=df['Destination Airport'])"
   ]
  },
  {
   "cell_type": "code",
   "execution_count": 26,
   "metadata": {},
   "outputs": [
    {
     "data": {
      "text/plain": [
       "<matplotlib.axes._subplots.AxesSubplot at 0x1c42fb94248>"
      ]
     },
     "execution_count": 26,
     "metadata": {},
     "output_type": "execute_result"
    },
    {
     "data": {
      "image/png": "[encoded data removed]",
      "text/plain": [
       "<Figure size 432x288 with 1 Axes>"
      ]
     },
     "metadata": {
      "needs_background": "light"
     },
     "output_type": "display_data"
    }
   ],
   "source": [
    "sns.boxplot(data=df['Depature Airport'])"
   ]
  },
  {
   "cell_type": "code",
   "execution_count": 27,
   "metadata": {},
   "outputs": [
    {
     "data": {
      "text/plain": [
       "<matplotlib.axes._subplots.AxesSubplot at 0x1c42fb6e048>"
      ]
     },
     "execution_count": 27,
     "metadata": {},
     "output_type": "execute_result"
    },
    {
     "data": {
      "image/png": "[encoded data removed]",
      "text/plain": [
       "<Figure size 432x288 with 1 Axes>"
      ]
     },
     "metadata": {
      "needs_background": "light"
     },
     "output_type": "display_data"
    }
   ],
   "source": [
    "sns.boxplot(data=df['Delay'])"
   ]
  },
  {
   "cell_type": "code",
   "execution_count": 28,
   "metadata": {},
   "outputs": [],
   "source": [
    "train = df.loc[df['Scheduled depature time_year'] < 2018] \n",
    "test = df.loc[df['Scheduled depature time_year'] == 2018]"
   ]
  },
  {
   "cell_type": "code",
   "execution_count": 29,
   "metadata": {},
   "outputs": [
    {
     "data": {
      "text/html": [
       "<div>\n",
       "<style scoped>\n",
       "    .dataframe tbody tr th:only-of-type {\n",
       "        vertical-align: middle;\n",
       "    }\n",
       "\n",
       "    .dataframe tbody tr th {\n",
       "        vertical-align: top;\n",
       "    }\n",
       "\n",
       "    .dataframe thead th {\n",
       "        text-align: right;\n",
       "    }\n",
       "</style>\n",
       "<table border=\"1\" class=\"dataframe\">\n",
       "  <thead>\n",
       "    <tr style=\"text-align: right;\">\n",
       "      <th></th>\n",
       "      <th>Delay</th>\n",
       "      <th>flight duration</th>\n",
       "      <th>Scheduled depature time_year</th>\n",
       "      <th>Scheduled depature time_month</th>\n",
       "      <th>Scheduled depature time_week</th>\n",
       "      <th>Scheduled depature time_day</th>\n",
       "      <th>Scheduled depature time_houre</th>\n",
       "      <th>Scheduled depature time_min</th>\n",
       "      <th>Scheduled depature time_dow</th>\n",
       "      <th>Scheduled arrival time_year</th>\n",
       "      <th>Scheduled arrival time_month</th>\n",
       "      <th>Scheduled arrival time_week</th>\n",
       "      <th>Scheduled arrival time_day</th>\n",
       "      <th>Scheduled arrival time_houre</th>\n",
       "      <th>Scheduled arrival time_min</th>\n",
       "      <th>Scheduled arrival time_dow</th>\n",
       "      <th>Depature Airport</th>\n",
       "      <th>Destination Airport</th>\n",
       "    </tr>\n",
       "  </thead>\n",
       "  <tbody>\n",
       "    <tr>\n",
       "      <th>0</th>\n",
       "      <td>0</td>\n",
       "      <td>13.0833</td>\n",
       "      <td>2015</td>\n",
       "      <td>10</td>\n",
       "      <td>44</td>\n",
       "      <td>27</td>\n",
       "      <td>7</td>\n",
       "      <td>40</td>\n",
       "      <td>1</td>\n",
       "      <td>2015</td>\n",
       "      <td>10</td>\n",
       "      <td>44</td>\n",
       "      <td>27</td>\n",
       "      <td>20</td>\n",
       "      <td>45</td>\n",
       "      <td>1</td>\n",
       "      <td>144</td>\n",
       "      <td>56</td>\n",
       "    </tr>\n",
       "    <tr>\n",
       "      <th>1</th>\n",
       "      <td>0.0333333</td>\n",
       "      <td>10.75</td>\n",
       "      <td>2015</td>\n",
       "      <td>10</td>\n",
       "      <td>44</td>\n",
       "      <td>27</td>\n",
       "      <td>9</td>\n",
       "      <td>50</td>\n",
       "      <td>1</td>\n",
       "      <td>2015</td>\n",
       "      <td>10</td>\n",
       "      <td>44</td>\n",
       "      <td>27</td>\n",
       "      <td>20</td>\n",
       "      <td>35</td>\n",
       "      <td>1</td>\n",
       "      <td>144</td>\n",
       "      <td>68</td>\n",
       "    </tr>\n",
       "    <tr>\n",
       "      <th>2</th>\n",
       "      <td>0</td>\n",
       "      <td>12.8333</td>\n",
       "      <td>2015</td>\n",
       "      <td>10</td>\n",
       "      <td>44</td>\n",
       "      <td>27</td>\n",
       "      <td>10</td>\n",
       "      <td>45</td>\n",
       "      <td>1</td>\n",
       "      <td>2015</td>\n",
       "      <td>10</td>\n",
       "      <td>44</td>\n",
       "      <td>27</td>\n",
       "      <td>23</td>\n",
       "      <td>35</td>\n",
       "      <td>1</td>\n",
       "      <td>144</td>\n",
       "      <td>94</td>\n",
       "    </tr>\n",
       "    <tr>\n",
       "      <th>3</th>\n",
       "      <td>0</td>\n",
       "      <td>12.8333</td>\n",
       "      <td>2015</td>\n",
       "      <td>10</td>\n",
       "      <td>44</td>\n",
       "      <td>27</td>\n",
       "      <td>12</td>\n",
       "      <td>30</td>\n",
       "      <td>1</td>\n",
       "      <td>2015</td>\n",
       "      <td>10</td>\n",
       "      <td>44</td>\n",
       "      <td>28</td>\n",
       "      <td>1</td>\n",
       "      <td>20</td>\n",
       "      <td>2</td>\n",
       "      <td>144</td>\n",
       "      <td>82</td>\n",
       "    </tr>\n",
       "    <tr>\n",
       "      <th>4</th>\n",
       "      <td>0.15</td>\n",
       "      <td>2.41667</td>\n",
       "      <td>2015</td>\n",
       "      <td>10</td>\n",
       "      <td>44</td>\n",
       "      <td>27</td>\n",
       "      <td>14</td>\n",
       "      <td>15</td>\n",
       "      <td>1</td>\n",
       "      <td>2015</td>\n",
       "      <td>10</td>\n",
       "      <td>44</td>\n",
       "      <td>27</td>\n",
       "      <td>16</td>\n",
       "      <td>40</td>\n",
       "      <td>1</td>\n",
       "      <td>113</td>\n",
       "      <td>144</td>\n",
       "    </tr>\n",
       "    <tr>\n",
       "      <th>5</th>\n",
       "      <td>0</td>\n",
       "      <td>2.75</td>\n",
       "      <td>2015</td>\n",
       "      <td>10</td>\n",
       "      <td>44</td>\n",
       "      <td>27</td>\n",
       "      <td>14</td>\n",
       "      <td>30</td>\n",
       "      <td>1</td>\n",
       "      <td>2015</td>\n",
       "      <td>10</td>\n",
       "      <td>44</td>\n",
       "      <td>27</td>\n",
       "      <td>17</td>\n",
       "      <td>15</td>\n",
       "      <td>1</td>\n",
       "      <td>53</td>\n",
       "      <td>144</td>\n",
       "    </tr>\n",
       "    <tr>\n",
       "      <th>6</th>\n",
       "      <td>0</td>\n",
       "      <td>10.8333</td>\n",
       "      <td>2015</td>\n",
       "      <td>10</td>\n",
       "      <td>44</td>\n",
       "      <td>27</td>\n",
       "      <td>14</td>\n",
       "      <td>35</td>\n",
       "      <td>1</td>\n",
       "      <td>2015</td>\n",
       "      <td>10</td>\n",
       "      <td>44</td>\n",
       "      <td>28</td>\n",
       "      <td>1</td>\n",
       "      <td>25</td>\n",
       "      <td>2</td>\n",
       "      <td>144</td>\n",
       "      <td>68</td>\n",
       "    </tr>\n",
       "    <tr>\n",
       "      <th>7</th>\n",
       "      <td>0.0166667</td>\n",
       "      <td>5.66667</td>\n",
       "      <td>2015</td>\n",
       "      <td>10</td>\n",
       "      <td>44</td>\n",
       "      <td>27</td>\n",
       "      <td>15</td>\n",
       "      <td>40</td>\n",
       "      <td>1</td>\n",
       "      <td>2015</td>\n",
       "      <td>10</td>\n",
       "      <td>44</td>\n",
       "      <td>27</td>\n",
       "      <td>21</td>\n",
       "      <td>20</td>\n",
       "      <td>1</td>\n",
       "      <td>35</td>\n",
       "      <td>144</td>\n",
       "    </tr>\n",
       "    <tr>\n",
       "      <th>8</th>\n",
       "      <td>0</td>\n",
       "      <td>8.41667</td>\n",
       "      <td>2015</td>\n",
       "      <td>10</td>\n",
       "      <td>44</td>\n",
       "      <td>27</td>\n",
       "      <td>16</td>\n",
       "      <td>10</td>\n",
       "      <td>1</td>\n",
       "      <td>2015</td>\n",
       "      <td>10</td>\n",
       "      <td>44</td>\n",
       "      <td>28</td>\n",
       "      <td>0</td>\n",
       "      <td>35</td>\n",
       "      <td>2</td>\n",
       "      <td>144</td>\n",
       "      <td>171</td>\n",
       "    </tr>\n",
       "    <tr>\n",
       "      <th>9</th>\n",
       "      <td>0</td>\n",
       "      <td>4.16667</td>\n",
       "      <td>2015</td>\n",
       "      <td>10</td>\n",
       "      <td>44</td>\n",
       "      <td>27</td>\n",
       "      <td>16</td>\n",
       "      <td>45</td>\n",
       "      <td>1</td>\n",
       "      <td>2015</td>\n",
       "      <td>10</td>\n",
       "      <td>44</td>\n",
       "      <td>27</td>\n",
       "      <td>20</td>\n",
       "      <td>55</td>\n",
       "      <td>1</td>\n",
       "      <td>156</td>\n",
       "      <td>144</td>\n",
       "    </tr>\n",
       "  </tbody>\n",
       "</table>\n",
       "</div>"
      ],
      "text/plain": [
       "       Delay flight duration Scheduled depature time_year  \\\n",
       "0          0         13.0833                         2015   \n",
       "1  0.0333333           10.75                         2015   \n",
       "2          0         12.8333                         2015   \n",
       "3          0         12.8333                         2015   \n",
       "4       0.15         2.41667                         2015   \n",
       "5          0            2.75                         2015   \n",
       "6          0         10.8333                         2015   \n",
       "7  0.0166667         5.66667                         2015   \n",
       "8          0         8.41667                         2015   \n",
       "9          0         4.16667                         2015   \n",
       "\n",
       "  Scheduled depature time_month Scheduled depature time_week  \\\n",
       "0                            10                           44   \n",
       "1                            10                           44   \n",
       "2                            10                           44   \n",
       "3                            10                           44   \n",
       "4                            10                           44   \n",
       "5                            10                           44   \n",
       "6                            10                           44   \n",
       "7                            10                           44   \n",
       "8                            10                           44   \n",
       "9                            10                           44   \n",
       "\n",
       "  Scheduled depature time_day Scheduled depature time_houre  \\\n",
       "0                          27                             7   \n",
       "1                          27                             9   \n",
       "2                          27                            10   \n",
       "3                          27                            12   \n",
       "4                          27                            14   \n",
       "5                          27                            14   \n",
       "6                          27                            14   \n",
       "7                          27                            15   \n",
       "8                          27                            16   \n",
       "9                          27                            16   \n",
       "\n",
       "  Scheduled depature time_min Scheduled depature time_dow  \\\n",
       "0                          40                           1   \n",
       "1                          50                           1   \n",
       "2                          45                           1   \n",
       "3                          30                           1   \n",
       "4                          15                           1   \n",
       "5                          30                           1   \n",
       "6                          35                           1   \n",
       "7                          40                           1   \n",
       "8                          10                           1   \n",
       "9                          45                           1   \n",
       "\n",
       "  Scheduled arrival time_year Scheduled arrival time_month  \\\n",
       "0                        2015                           10   \n",
       "1                        2015                           10   \n",
       "2                        2015                           10   \n",
       "3                        2015                           10   \n",
       "4                        2015                           10   \n",
       "5                        2015                           10   \n",
       "6                        2015                           10   \n",
       "7                        2015                           10   \n",
       "8                        2015                           10   \n",
       "9                        2015                           10   \n",
       "\n",
       "  Scheduled arrival time_week Scheduled arrival time_day  \\\n",
       "0                          44                         27   \n",
       "1                          44                         27   \n",
       "2                          44                         27   \n",
       "3                          44                         28   \n",
       "4                          44                         27   \n",
       "5                          44                         27   \n",
       "6                          44                         28   \n",
       "7                          44                         27   \n",
       "8                          44                         28   \n",
       "9                          44                         27   \n",
       "\n",
       "  Scheduled arrival time_houre Scheduled arrival time_min  \\\n",
       "0                           20                         45   \n",
       "1                           20                         35   \n",
       "2                           23                         35   \n",
       "3                            1                         20   \n",
       "4                           16                         40   \n",
       "5                           17                         15   \n",
       "6                            1                         25   \n",
       "7                           21                         20   \n",
       "8                            0                         35   \n",
       "9                           20                         55   \n",
       "\n",
       "  Scheduled arrival time_dow  Depature Airport  Destination Airport  \n",
       "0                          1               144                   56  \n",
       "1                          1               144                   68  \n",
       "2                          1               144                   94  \n",
       "3                          2               144                   82  \n",
       "4                          1               113                  144  \n",
       "5                          1                53                  144  \n",
       "6                          2               144                   68  \n",
       "7                          1                35                  144  \n",
       "8                          2               144                  171  \n",
       "9                          1               156                  144  "
      ]
     },
     "execution_count": 29,
     "metadata": {},
     "output_type": "execute_result"
    }
   ],
   "source": [
    "train.head(10)"
   ]
  },
  {
   "cell_type": "code",
   "execution_count": 30,
   "metadata": {},
   "outputs": [],
   "source": [
    "y_test=test['Delay']\n",
    "x_test=test[['flight duration']]\n",
    "X_test=test.drop('Delay',axis=1)\n",
    "y_train=train['Delay']\n",
    "x_train=train[['flight duration']]\n",
    "X_train=train.drop('Delay',axis=1)"
   ]
  },
  {
   "cell_type": "code",
   "execution_count": 31,
   "metadata": {},
   "outputs": [],
   "source": [
    "scaler = RobustScaler()\n",
    "scaler.fit_transform(x_train)\n",
    "x_train = scaler.transform(x_train)\n",
    "x_test=scaler.transform(x_test)\n",
    "X_train = scaler.transform(X_train)\n",
    "X_test=scaler.transform(X_test)"
   ]
  },
  {
   "cell_type": "code",
   "execution_count": 32,
   "metadata": {},
   "outputs": [],
   "source": [
    "x_train=x_train.reshape(-1, 1)\n",
    "x_test=x_test.reshape(-1,1)"
   ]
  },
  {
   "cell_type": "code",
   "execution_count": 33,
   "metadata": {},
   "outputs": [
    {
     "data": {
      "text/plain": [
       "array([[ 1.        ,  5.9047619 , 34.86621315],\n",
       "       [ 1.        ,  4.57142857, 20.89795918],\n",
       "       [ 1.        ,  5.76190476, 33.19954649],\n",
       "       ...,\n",
       "       [ 1.        ,  0.61904762,  0.38321995],\n",
       "       [ 1.        ,  4.9047619 , 24.05668934],\n",
       "       [ 1.        ,  3.42857143, 11.75510204]])"
      ]
     },
     "execution_count": 33,
     "metadata": {},
     "output_type": "execute_result"
    }
   ],
   "source": [
    "poly = PolynomialFeatures(degree=2)\n",
    "train_x_poly = poly.fit_transform(x_train)\n",
    "train_x_poly"
   ]
  },
  {
   "cell_type": "code",
   "execution_count": 34,
   "metadata": {},
   "outputs": [
    {
     "name": "stdout",
     "output_type": "stream",
     "text": [
      "Coefficients:  [0.         0.02384706 0.00042733]\n",
      "Intercept:  0.11251149460466643\n"
     ]
    }
   ],
   "source": [
    "clf = linear_model.LinearRegression()\n",
    "train_y_ = clf.fit(train_x_poly, y_train)\n",
    "# The coefficients\n",
    "print ('Coefficients: ', clf.coef_)\n",
    "print ('Intercept: ',clf.intercept_)"
   ]
  },
  {
   "cell_type": "code",
   "execution_count": 35,
   "metadata": {},
   "outputs": [
    {
     "name": "stdout",
     "output_type": "stream",
     "text": [
      "Mean Absolute Error: 0.14166808717897658\n",
      "Mean Squared Error: 0.05081231014529742\n",
      "Root Mean Squared Error: 0.22541586045639606\n",
      "R2-score: -0.06912349562366171\n"
     ]
    }
   ],
   "source": [
    "test_x_poly = poly.fit_transform(x_test)\n",
    "test_y_ = clf.predict(test_x_poly)\n",
    "\n",
    "print('Mean Absolute Error:', metrics.mean_absolute_error(y_test, test_y_))\n",
    "print('Mean Squared Error:', metrics.mean_squared_error(y_test, test_y_))\n",
    "print('Root Mean Squared Error:', np.sqrt(metrics.mean_squared_error(y_test, test_y_)))\n",
    "print('R2-score:', r2_score(y_test,test_y_ ) )"
   ]
  },
  {
   "cell_type": "code",
   "execution_count": 36,
   "metadata": {},
   "outputs": [
    {
     "data": {
      "text/plain": [
       "Text(0, 0.5, 'Delay')"
      ]
     },
     "execution_count": 36,
     "metadata": {},
     "output_type": "execute_result"
    },
    {
     "data": {
      "image/png": "[encoded data removed]",
      "text/plain": [
       "<Figure size 432x288 with 1 Axes>"
      ]
     },
     "metadata": {
      "needs_background": "light"
     },
     "output_type": "display_data"
    }
   ],
   "source": [
    "plt.scatter(df['flight duration'], df['Delay'],  color='blue',s=1)\n",
    "XX = np.arange(0.0, 25.0, 0.1)\n",
    "yy = clf.intercept_+ clf.coef_[1]*XX+ clf.coef_[2]*np.power(XX, 2)\n",
    "plt.plot(XX, yy, '-r' )\n",
    "plt.xlabel(\"Flight Duration\")\n",
    "plt.ylabel(\"Delay\")"
   ]
  },
  {
   "cell_type": "code",
   "execution_count": 37,
   "metadata": {},
   "outputs": [
    {
     "data": {
      "text/plain": [
       "array([[1.00000000e+00, 5.90476190e+00, 1.14985714e+03, ...,\n",
       "        6.51479592e+03, 2.45602041e+03, 9.25897959e+02],\n",
       "       [1.00000000e+00, 4.57142857e+00, 1.14985714e+03, ...,\n",
       "        6.51479592e+03, 3.00948980e+03, 1.39022449e+03],\n",
       "       [1.00000000e+00, 5.76190476e+00, 1.14985714e+03, ...,\n",
       "        6.51479592e+03, 4.20867347e+03, 2.71887755e+03],\n",
       "       ...,\n",
       "       [1.00000000e+00, 6.19047619e-01, 1.15100000e+03, ...,\n",
       "        6.51479592e+03, 2.87112245e+03, 1.26532653e+03],\n",
       "       [1.00000000e+00, 4.90476190e+00, 1.15100000e+03, ...,\n",
       "        8.91448980e+02, 2.40989796e+03, 6.51479592e+03],\n",
       "       [1.00000000e+00, 3.42857143e+00, 1.15100000e+03, ...,\n",
       "        6.51479592e+03, 4.25479592e+03, 2.77879592e+03]])"
      ]
     },
     "execution_count": 37,
     "metadata": {},
     "output_type": "execute_result"
    }
   ],
   "source": [
    "poly_all = PolynomialFeatures(degree=2)\n",
    "train_x_poly_all = poly_all.fit_transform(X_train)\n",
    "train_x_poly_all"
   ]
  },
  {
   "cell_type": "code",
   "execution_count": 38,
   "metadata": {},
   "outputs": [
    {
     "name": "stdout",
     "output_type": "stream",
     "text": [
      "Coefficients:  [-8.85503082e-04 -1.11363981e-01 -3.70367520e+02  5.44808976e+02\n",
      "  1.32974779e+00  9.49932931e+00  1.05165966e+00 -1.98026745e-01\n",
      "  4.41278829e-01 -3.70347419e+02 -5.59559910e+02  1.31026924e+00\n",
      " -9.85327046e+00 -2.31518388e+00 -1.32496825e-01  2.56195278e-01\n",
      "  4.58549173e-01  2.92292884e-01  1.62831959e+00 -3.03183032e+00\n",
      "  2.23463700e+03 -1.12626871e-01  3.89964932e+01  3.25728264e+00\n",
      "  5.40951413e-02  3.68785977e-01  3.00014093e+00 -2.23410856e+03\n",
      "  1.76872530e-02 -3.93122867e+01 -3.25901273e+00 -5.42629176e-02\n",
      " -3.78211271e-01 -2.52411615e-04  1.94938366e-04  6.43427718e+01\n",
      " -1.27648031e+01 -7.82187326e+01 -2.45683624e+00  4.51438502e+00\n",
      " -4.16424989e-01  1.53274455e+02 -2.98929108e+02  1.24086162e+01\n",
      " -7.95376686e+01  1.34626784e+00  1.81017156e+00 -3.74422627e-02\n",
      "  1.53223722e+02 -7.68105640e-02  1.01278763e-01  1.04770728e+02\n",
      " -7.38643949e+01 -8.52528562e+02  2.23527021e+03  3.72132315e+01\n",
      " -2.36975998e+00 -1.21672806e+01  2.07204540e+02 -2.02783940e+01\n",
      " -5.58968872e+02 -2.23474149e+03 -3.72513539e+01 -7.22276567e+00\n",
      " -6.14113916e-03  8.56420829e-03  3.77400504e+00 -8.34789547e+00\n",
      " -1.12445697e-01 -1.88137910e-03  3.49353851e-01  7.81201485e+01\n",
      "  7.00376503e+01 -2.60195032e+00  6.41489933e+00  1.13093615e-01\n",
      "  1.87019593e-03 -3.52873808e-01 -7.75234564e-05 -4.28482548e-05\n",
      " -1.11841136e+00  3.90172150e+01  6.49019862e-01 -9.29329689e-01\n",
      "  1.64635396e+00  8.66074526e+02  5.28763997e+00 -5.05307603e+00\n",
      " -3.90006755e+01 -6.50124232e-01  6.15617855e-01 -2.05817883e-04\n",
      "  2.77723884e-04  1.63007869e+00  5.42494347e-02  3.68087999e-01\n",
      " -4.54711794e+00 -2.23473668e+03  1.62292573e-02 -3.93328230e+01\n",
      " -3.25881011e+00 -5.43302336e-02 -3.79255063e-01  1.99465891e-05\n",
      " -3.85254334e-06  4.75621651e-04  6.05754615e-03  4.16065403e-01\n",
      " -3.72042689e+01  2.65017319e-04 -6.54283371e-01 -5.42579948e-02\n",
      " -8.86951091e-04 -6.26797128e-03  1.21989646e-05  4.53701064e-06\n",
      "  2.38808853e-01 -1.53293470e+02  1.63249365e+00  4.00841753e-01\n",
      "  6.46945303e-01 -3.68753582e-01 -6.10992686e-03 -4.39355636e-01\n",
      "  6.65948739e-05  6.43257059e-05  2.34908196e+02  1.25372722e+01\n",
      "  7.96338424e+01 -5.35924583e-01 -1.77633503e+00  3.80878897e-02\n",
      " -1.53205312e+02  7.64105807e-02 -1.01534455e-01 -3.11488906e+02\n",
      "  2.40118623e+01  5.45417742e+02  2.23420727e+03  3.72425033e+01\n",
      "  7.95824590e+00  5.99608193e-03 -8.56642459e-03 -1.17599090e+00\n",
      " -3.34925968e+00 -1.67619633e-02 -2.64273901e-04 -4.01095913e-01\n",
      "  1.01704163e-04  4.08047332e-05  6.17091213e+00  3.93162340e+01\n",
      "  6.55370515e-01 -3.32490965e-01  2.01860748e-04 -2.77356470e-04\n",
      "  1.62884292e+00  5.42603141e-02  3.79671843e-01 -2.98611520e-05\n",
      "  3.51763729e-05  4.21842317e-04  6.34382552e-03  1.22048847e-05\n",
      "  2.73367160e-08  1.98991201e-01 -8.25469466e-05 -7.62505725e-05\n",
      " -3.04438078e-06  2.13286568e-05  3.19663490e-06]\n",
      "Intercept:  426100.5738148778\n"
     ]
    }
   ],
   "source": [
    "clf_all = linear_model.LinearRegression()\n",
    "train_y_all = clf_all.fit(train_x_poly_all, y_train)\n",
    "# The coefficients\n",
    "print ('Coefficients: ', clf_all.coef_)\n",
    "print ('Intercept: ',clf_all.intercept_)"
   ]
  },
  {
   "cell_type": "code",
   "execution_count": 39,
   "metadata": {},
   "outputs": [
    {
     "name": "stdout",
     "output_type": "stream",
     "text": [
      "Mean Absolute Error: 0.3333860458141653\n",
      "Mean Squared Error: 0.12938015568912242\n",
      "Root Mean Squared Error: 0.35969453108036326\n",
      "R2-score: -1.7222412033452823\n"
     ]
    }
   ],
   "source": [
    "test_x_poly_all = poly.fit_transform(X_test)\n",
    "test_y_all = clf_all.predict(test_x_poly_all)\n",
    "\n",
    "print('Mean Absolute Error:', metrics.mean_absolute_error(y_test, test_y_all))\n",
    "print('Mean Squared Error:', metrics.mean_squared_error(y_test, test_y_all))\n",
    "print('Root Mean Squared Error:', np.sqrt(metrics.mean_squared_error(y_test, test_y_all)))\n",
    "print('R2-score:', r2_score(y_test,test_y_all ) )"
   ]
  },
  {
   "cell_type": "code",
   "execution_count": 40,
   "metadata": {},
   "outputs": [
    {
     "name": "stdout",
     "output_type": "stream",
     "text": [
      "Model intercept : 0.11274162165590035\n",
      "Model coefficient : [0.02514729]\n"
     ]
    }
   ],
   "source": [
    "regressor = LinearRegression()\n",
    "regressor.fit(x_train, y_train)\n",
    "print(f\"Model intercept : {regressor.intercept_}\")\n",
    "print(f\"Model coefficient : {regressor.coef_}\")\n",
    "\n",
    "y_pred = regressor.predict(x_test)"
   ]
  },
  {
   "cell_type": "code",
   "execution_count": 41,
   "metadata": {},
   "outputs": [
    {
     "name": "stdout",
     "output_type": "stream",
     "text": [
      "Mean Absolute Error: 0.14167798973593432\n",
      "Mean Squared Error: 0.05082066508737267\n",
      "Root Mean Squared Error: 0.2254343919799565\n",
      "R2-score: -0.06929928894720261\n"
     ]
    }
   ],
   "source": [
    "print('Mean Absolute Error:', metrics.mean_absolute_error(y_test, y_pred))\n",
    "print('Mean Squared Error:', metrics.mean_squared_error(y_test, y_pred))\n",
    "print('Root Mean Squared Error:', np.sqrt(metrics.mean_squared_error(y_test, y_pred)))\n",
    "print('R2-score:', r2_score(y_test,y_pred ) )"
   ]
  },
  {
   "cell_type": "code",
   "execution_count": 42,
   "metadata": {},
   "outputs": [
    {
     "data": {
      "text/plain": [
       "Text(0, 0.5, 'Delay')"
      ]
     },
     "execution_count": 42,
     "metadata": {},
     "output_type": "execute_result"
    },
    {
     "data": {
      "image/png": "[encoded data removed]",
      "text/plain": [
       "<Figure size 432x288 with 1 Axes>"
      ]
     },
     "metadata": {
      "needs_background": "light"
     },
     "output_type": "display_data"
    }
   ],
   "source": [
    "plt.scatter(df['flight duration'], df['Delay'],  color='blue',s=1)\n",
    "XX = np.arange(0.0, 25.0, 0.1)\n",
    "yy = regressor.intercept_+ regressor.coef_[0]*XX\n",
    "plt.plot(XX, yy, '-r' )\n",
    "plt.xlabel(\"Flight Duration\")\n",
    "plt.ylabel(\"Delay\")"
   ]
  },
  {
   "cell_type": "code",
   "execution_count": 43,
   "metadata": {},
   "outputs": [
    {
     "name": "stdout",
     "output_type": "stream",
     "text": [
      "Model intercept : -22.315152288501377\n",
      "Model coefficients : [ 2.71773424e-02  3.37794183e+00  2.55545551e-01  3.21702687e-04\n",
      "  9.38929410e-03  4.07950887e-03  3.19883700e-04 -2.88195890e-03\n",
      " -3.35849216e+00 -2.55266029e-01  8.10958344e-05 -1.04776949e-02\n",
      "  1.21289292e-03  9.79822571e-05  4.43448446e-03 -1.59305418e-04\n",
      "  3.89154073e-04]\n"
     ]
    }
   ],
   "source": [
    "regressor = LinearRegression()\n",
    "regressor.fit(X_train, y_train)\n",
    "print(f\"Model intercept : {regressor.intercept_}\")\n",
    "print(f\"Model coefficients : {regressor.coef_}\")\n",
    "\n",
    "y_pred = regressor.predict(X_test)"
   ]
  },
  {
   "cell_type": "code",
   "execution_count": 44,
   "metadata": {},
   "outputs": [
    {
     "name": "stdout",
     "output_type": "stream",
     "text": [
      "Mean Absolute Error: 0.15314027079735051\n",
      "Mean Squared Error: 0.05298737290533192\n",
      "Root Mean Squared Error: 0.23018986273363976\n",
      "R2-score: -0.1148882068631123\n"
     ]
    }
   ],
   "source": [
    "print('Mean Absolute Error:', metrics.mean_absolute_error(y_test, y_pred))\n",
    "print('Mean Squared Error:', metrics.mean_squared_error(y_test, y_pred))\n",
    "print('Root Mean Squared Error:', np.sqrt(metrics.mean_squared_error(y_test, y_pred)))\n",
    "print('R2-score:', r2_score(y_test,y_pred ) )"
   ]
  },
  {
   "cell_type": "code",
   "execution_count": 45,
   "metadata": {},
   "outputs": [
    {
     "name": "stdout",
     "output_type": "stream",
     "text": [
      "0.05124456433109531\n",
      "0.05124456433109531\n",
      "0.05124456433109531\n",
      "0.05124456433109531\n",
      "0.05124456433109531\n",
      "0.05124456433109531\n",
      "0.05124456433109531\n",
      "0.05124456433109531\n",
      "0.05115800566943597\n"
     ]
    },
    {
     "data": {
      "image/png": "[encoded data removed]",
      "text/plain": [
       "<Figure size 432x288 with 1 Axes>"
      ]
     },
     "metadata": {
      "needs_background": "light"
     },
     "output_type": "display_data"
    },
    {
     "name": "stdout",
     "output_type": "stream",
     "text": [
      "Best value of alpha: 0.1\n"
     ]
    }
   ],
   "source": [
    "alphas = [2.2, 2, 1.5, 1.3, 1.2, 1.1, 1, 0.3, 0.1]\n",
    "losses = []\n",
    "for alpha in alphas:\n",
    "    # Write (5 lines): create a Lasso regressor with the alpha value.\n",
    "    # Fit it to the training set, then get the prediction of the validation set (x_val).\n",
    "    # calculate the mean sqaured error loss, then append it to the losses array\n",
    "    lasso = Lasso(alpha=alpha)\n",
    "    lasso.fit(X_train, y_train)\n",
    "    y_pred = lasso.predict(X_test)\n",
    "    mse = mean_squared_error(y_test, y_pred)\n",
    "    print(mse)\n",
    "    losses.append(mse)\n",
    "plt.plot(alphas, losses)\n",
    "plt.title(\"Lasso alpha value selection\")\n",
    "plt.xlabel(\"alpha\")\n",
    "plt.ylabel(\"Mean squared error\")\n",
    "plt.show()\n",
    "\n",
    "best_alpha = alphas[np.argmin(losses)]\n",
    "print(\"Best value of alpha:\", best_alpha)"
   ]
  },
  {
   "cell_type": "code",
   "execution_count": 46,
   "metadata": {},
   "outputs": [
    {
     "name": "stdout",
     "output_type": "stream",
     "text": [
      "0.050820663865724196\n",
      "0.050820663976782116\n",
      "0.05082066425442782\n",
      "0.05082066436548645\n",
      "0.05082066442101585\n",
      "0.0508206644765453\n",
      "0.05082066453207478\n",
      "0.050820664920782764\n",
      "0.05082066503184264\n"
     ]
    },
    {
     "data": {
      "image/png": "[encoded data removed]",
      "text/plain": [
       "<Figure size 432x288 with 1 Axes>"
      ]
     },
     "metadata": {
      "needs_background": "light"
     },
     "output_type": "display_data"
    },
    {
     "name": "stdout",
     "output_type": "stream",
     "text": [
      "Best value of alpha: 2.2\n"
     ]
    }
   ],
   "source": [
    "alphas = [2.2, 2, 1.5, 1.3, 1.2, 1.1, 1, 0.3, 0.1]\n",
    "losses = []\n",
    "for alpha in alphas:\n",
    "    # Write (5 lines): create a Lasso regressor with the alpha value.\n",
    "    # Fit it to the training set, then get the prediction of the validation set (x_val).\n",
    "    # calculate the mean sqaured error loss, then append it to the losses array\n",
    "    ridge = Ridge(alpha=alpha)\n",
    "    ridge.fit(x_train, y_train)\n",
    "    y_pred = ridge.predict(x_test)\n",
    "    mse = mean_squared_error(y_test, y_pred)\n",
    "    print(mse)\n",
    "    losses.append(mse)\n",
    "plt.plot(alphas, losses)\n",
    "plt.title(\"Ridge alpha value selection\")\n",
    "plt.xlabel(\"alpha\")\n",
    "plt.ylabel(\"Mean squared error\")\n",
    "plt.show()\n",
    "\n",
    "best_alpha = alphas[np.argmin(losses)]\n",
    "print(\"Best value of alpha:\", best_alpha)"
   ]
  },
  {
   "cell_type": "code",
   "execution_count": 47,
   "metadata": {},
   "outputs": [
    {
     "name": "stdout",
     "output_type": "stream",
     "text": [
      "WARNING:tensorflow:From C:\\AI\\anaconda3\\lib\\site-packages\\tensorflow\\python\\ops\\init_ops.py:1251: calling VarianceScaling.__init__ (from tensorflow.python.ops.init_ops) with dtype is deprecated and will be removed in a future version.\n",
      "Instructions for updating:\n",
      "Call initializer instance with the dtype argument instead of passing it to the constructor\n"
     ]
    }
   ],
   "source": [
    "model2 = Sequential()\n",
    "model2.add(Dense(16, input_dim=17, activation='relu'))\n",
    "model2.add(Dense(8, activation='relu'))\n",
    "model2.add(Dense(1, activation='relu'))\n",
    "model2.compile(loss='mean_absolute_error',\n",
    "              optimizer='adam',\n",
    "              metrics=['accuracy'])"
   ]
  },
  {
   "cell_type": "code",
   "execution_count": 48,
   "metadata": {},
   "outputs": [
    {
     "name": "stdout",
     "output_type": "stream",
     "text": [
      "492816/492816 [==============================] - 17s 34us/sample - loss: 0.1913 - acc: 0.5068\n"
     ]
    },
    {
     "data": {
      "text/plain": [
       "<tensorflow.python.keras.callbacks.History at 0x1c452e77a88>"
      ]
     },
     "execution_count": 48,
     "metadata": {},
     "output_type": "execute_result"
    }
   ],
   "source": [
    "model2.fit(X_train, y_train, epochs=1, batch_size=32)"
   ]
  },
  {
   "cell_type": "code",
   "execution_count": 49,
   "metadata": {},
   "outputs": [],
   "source": [
    "predicted = model2.predict(X_test, batch_size=128)"
   ]
  },
  {
   "cell_type": "code",
   "execution_count": 50,
   "metadata": {},
   "outputs": [
    {
     "name": "stdout",
     "output_type": "stream",
     "text": [
      "Mean Absolute Error: 0.05934423910890542\n",
      "Mean Squared Error: 0.05104872964437385\n",
      "Root Mean Squared Error: 0.22593965929949936\n",
      "R2-score: -0.07409791305446567\n"
     ]
    }
   ],
   "source": [
    "print('Mean Absolute Error:', metrics.mean_absolute_error(y_test, predicted))\n",
    "print('Mean Squared Error:', metrics.mean_squared_error(y_test, predicted))\n",
    "print('Root Mean Squared Error:', np.sqrt(metrics.mean_squared_error(y_test, predicted)))\n",
    "print('R2-score:', r2_score(y_test,predicted ) )"
   ]
  }
 ],
 "metadata": {
  "kernelspec": {
   "display_name": "Python 3",
   "language": "python",
   "name": "python3"
  },
  "language_info": {
   "codemirror_mode": {
    "name": "ipython",
    "version": 3
   },
   "file_extension": ".py",
   "mimetype": "text/x-python",
   "name": "python",
   "nbconvert_exporter": "python",
   "pygments_lexer": "ipython3",
   "version": "3.7.6"
  }
 },
 "nbformat": 4,
 "nbformat_minor": 5
}
