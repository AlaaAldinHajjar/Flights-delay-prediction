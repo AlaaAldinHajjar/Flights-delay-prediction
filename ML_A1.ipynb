{
 "cells": [
  {
   "cell_type": "code",
   "execution_count": 1,
   "metadata": {},
   "outputs": [
    {
     "name": "stderr",
     "output_type": "stream",
     "text": [
      "C:\\AI\\anaconda3\\lib\\site-packages\\tensorflow\\python\\framework\\dtypes.py:516: FutureWarning: Passing (type, 1) or '1type' as a synonym of type is deprecated; in a future version of numpy, it will be understood as (type, (1,)) / '(1,)type'.\n",
      "  _np_qint8 = np.dtype([(\"qint8\", np.int8, 1)])\n",
      "C:\\AI\\anaconda3\\lib\\site-packages\\tensorflow\\python\\framework\\dtypes.py:517: FutureWarning: Passing (type, 1) or '1type' as a synonym of type is deprecated; in a future version of numpy, it will be understood as (type, (1,)) / '(1,)type'.\n",
      "  _np_quint8 = np.dtype([(\"quint8\", np.uint8, 1)])\n",
      "C:\\AI\\anaconda3\\lib\\site-packages\\tensorflow\\python\\framework\\dtypes.py:518: FutureWarning: Passing (type, 1) or '1type' as a synonym of type is deprecated; in a future version of numpy, it will be understood as (type, (1,)) / '(1,)type'.\n",
      "  _np_qint16 = np.dtype([(\"qint16\", np.int16, 1)])\n",
      "C:\\AI\\anaconda3\\lib\\site-packages\\tensorflow\\python\\framework\\dtypes.py:519: FutureWarning: Passing (type, 1) or '1type' as a synonym of type is deprecated; in a future version of numpy, it will be understood as (type, (1,)) / '(1,)type'.\n",
      "  _np_quint16 = np.dtype([(\"quint16\", np.uint16, 1)])\n",
      "C:\\AI\\anaconda3\\lib\\site-packages\\tensorflow\\python\\framework\\dtypes.py:520: FutureWarning: Passing (type, 1) or '1type' as a synonym of type is deprecated; in a future version of numpy, it will be understood as (type, (1,)) / '(1,)type'.\n",
      "  _np_qint32 = np.dtype([(\"qint32\", np.int32, 1)])\n",
      "C:\\AI\\anaconda3\\lib\\site-packages\\tensorflow\\python\\framework\\dtypes.py:525: FutureWarning: Passing (type, 1) or '1type' as a synonym of type is deprecated; in a future version of numpy, it will be understood as (type, (1,)) / '(1,)type'.\n",
      "  np_resource = np.dtype([(\"resource\", np.ubyte, 1)])\n",
      "C:\\AI\\anaconda3\\lib\\site-packages\\tensorboard\\compat\\tensorflow_stub\\dtypes.py:541: FutureWarning: Passing (type, 1) or '1type' as a synonym of type is deprecated; in a future version of numpy, it will be understood as (type, (1,)) / '(1,)type'.\n",
      "  _np_qint8 = np.dtype([(\"qint8\", np.int8, 1)])\n",
      "C:\\AI\\anaconda3\\lib\\site-packages\\tensorboard\\compat\\tensorflow_stub\\dtypes.py:542: FutureWarning: Passing (type, 1) or '1type' as a synonym of type is deprecated; in a future version of numpy, it will be understood as (type, (1,)) / '(1,)type'.\n",
      "  _np_quint8 = np.dtype([(\"quint8\", np.uint8, 1)])\n",
      "C:\\AI\\anaconda3\\lib\\site-packages\\tensorboard\\compat\\tensorflow_stub\\dtypes.py:543: FutureWarning: Passing (type, 1) or '1type' as a synonym of type is deprecated; in a future version of numpy, it will be understood as (type, (1,)) / '(1,)type'.\n",
      "  _np_qint16 = np.dtype([(\"qint16\", np.int16, 1)])\n",
      "C:\\AI\\anaconda3\\lib\\site-packages\\tensorboard\\compat\\tensorflow_stub\\dtypes.py:544: FutureWarning: Passing (type, 1) or '1type' as a synonym of type is deprecated; in a future version of numpy, it will be understood as (type, (1,)) / '(1,)type'.\n",
      "  _np_quint16 = np.dtype([(\"quint16\", np.uint16, 1)])\n",
      "C:\\AI\\anaconda3\\lib\\site-packages\\tensorboard\\compat\\tensorflow_stub\\dtypes.py:545: FutureWarning: Passing (type, 1) or '1type' as a synonym of type is deprecated; in a future version of numpy, it will be understood as (type, (1,)) / '(1,)type'.\n",
      "  _np_qint32 = np.dtype([(\"qint32\", np.int32, 1)])\n",
      "C:\\AI\\anaconda3\\lib\\site-packages\\tensorboard\\compat\\tensorflow_stub\\dtypes.py:550: FutureWarning: Passing (type, 1) or '1type' as a synonym of type is deprecated; in a future version of numpy, it will be understood as (type, (1,)) / '(1,)type'.\n",
      "  np_resource = np.dtype([(\"resource\", np.ubyte, 1)])\n"
     ]
    }
   ],
   "source": [
    "import pandas as pd\n",
    "import numpy as np\n",
    "from sklearn.preprocessing import OneHotEncoder, PolynomialFeatures\n",
    "from sklearn.impute import SimpleImputer\n",
    "from sklearn.model_selection import train_test_split\n",
    "from sklearn.decomposition import PCA\n",
    "from sklearn.preprocessing import PolynomialFeatures\n",
    "from sklearn import linear_model\n",
    "from sklearn.metrics import r2_score\n",
    "from sklearn.linear_model import Lasso, Ridge\n",
    "from sklearn.metrics import mean_squared_error\n",
    "from sklearn.datasets import load_breast_cancer\n",
    "from sklearn.preprocessing import StandardScaler\n",
    "from sklearn.preprocessing import RobustScaler\n",
    "from sklearn.linear_model import LinearRegression\n",
    "from sklearn import metrics\n",
    "from tensorflow.keras.models import Sequential\n",
    "from tensorflow.keras.layers import Dense\n",
    "import seaborn as sns\n",
    "from mpl_toolkits.mplot3d import Axes3D\n",
    "import matplotlib.pyplot as plt\n",
    "%matplotlib inline"
   ]
  },
  {
   "cell_type": "code",
   "execution_count": 2,
   "metadata": {},
   "outputs": [],
   "source": [
    "df = pd.read_csv('flight_delay.csv')"
   ]
  },
  {
   "cell_type": "code",
   "execution_count": 3,
   "metadata": {},
   "outputs": [
    {
     "data": {
      "text/html": [
       "<div>\n",
       "<style scoped>\n",
       "    .dataframe tbody tr th:only-of-type {\n",
       "        vertical-align: middle;\n",
       "    }\n",
       "\n",
       "    .dataframe tbody tr th {\n",
       "        vertical-align: top;\n",
       "    }\n",
       "\n",
       "    .dataframe thead th {\n",
       "        text-align: right;\n",
       "    }\n",
       "</style>\n",
       "<table border=\"1\" class=\"dataframe\">\n",
       "  <thead>\n",
       "    <tr style=\"text-align: right;\">\n",
       "      <th></th>\n",
       "      <th>Depature Airport</th>\n",
       "      <th>Scheduled depature time</th>\n",
       "      <th>Destination Airport</th>\n",
       "      <th>Scheduled arrival time</th>\n",
       "      <th>Delay</th>\n",
       "    </tr>\n",
       "  </thead>\n",
       "  <tbody>\n",
       "    <tr>\n",
       "      <th>0</th>\n",
       "      <td>SVO</td>\n",
       "      <td>2015-10-27 07:40:00</td>\n",
       "      <td>HAV</td>\n",
       "      <td>2015-10-27 20:45:00</td>\n",
       "      <td>0.0</td>\n",
       "    </tr>\n",
       "    <tr>\n",
       "      <th>1</th>\n",
       "      <td>SVO</td>\n",
       "      <td>2015-10-27 09:50:00</td>\n",
       "      <td>JFK</td>\n",
       "      <td>2015-10-27 20:35:00</td>\n",
       "      <td>2.0</td>\n",
       "    </tr>\n",
       "    <tr>\n",
       "      <th>2</th>\n",
       "      <td>SVO</td>\n",
       "      <td>2015-10-27 10:45:00</td>\n",
       "      <td>MIA</td>\n",
       "      <td>2015-10-27 23:35:00</td>\n",
       "      <td>0.0</td>\n",
       "    </tr>\n",
       "    <tr>\n",
       "      <th>3</th>\n",
       "      <td>SVO</td>\n",
       "      <td>2015-10-27 12:30:00</td>\n",
       "      <td>LAX</td>\n",
       "      <td>2015-10-28 01:20:00</td>\n",
       "      <td>0.0</td>\n",
       "    </tr>\n",
       "    <tr>\n",
       "      <th>4</th>\n",
       "      <td>OTP</td>\n",
       "      <td>2015-10-27 14:15:00</td>\n",
       "      <td>SVO</td>\n",
       "      <td>2015-10-27 16:40:00</td>\n",
       "      <td>9.0</td>\n",
       "    </tr>\n",
       "    <tr>\n",
       "      <th>5</th>\n",
       "      <td>HAM</td>\n",
       "      <td>2015-10-27 14:30:00</td>\n",
       "      <td>SVO</td>\n",
       "      <td>2015-10-27 17:15:00</td>\n",
       "      <td>0.0</td>\n",
       "    </tr>\n",
       "    <tr>\n",
       "      <th>6</th>\n",
       "      <td>SVO</td>\n",
       "      <td>2015-10-27 14:35:00</td>\n",
       "      <td>JFK</td>\n",
       "      <td>2015-10-28 01:25:00</td>\n",
       "      <td>0.0</td>\n",
       "    </tr>\n",
       "    <tr>\n",
       "      <th>7</th>\n",
       "      <td>DXB</td>\n",
       "      <td>2015-10-27 15:40:00</td>\n",
       "      <td>SVO</td>\n",
       "      <td>2015-10-27 21:20:00</td>\n",
       "      <td>1.0</td>\n",
       "    </tr>\n",
       "    <tr>\n",
       "      <th>8</th>\n",
       "      <td>SVO</td>\n",
       "      <td>2015-10-27 16:10:00</td>\n",
       "      <td>VVO</td>\n",
       "      <td>2015-10-28 00:35:00</td>\n",
       "      <td>0.0</td>\n",
       "    </tr>\n",
       "    <tr>\n",
       "      <th>9</th>\n",
       "      <td>TLV</td>\n",
       "      <td>2015-10-27 16:45:00</td>\n",
       "      <td>SVO</td>\n",
       "      <td>2015-10-27 20:55:00</td>\n",
       "      <td>0.0</td>\n",
       "    </tr>\n",
       "  </tbody>\n",
       "</table>\n",
       "</div>"
      ],
      "text/plain": [
       "  Depature Airport Scheduled depature time Destination Airport  \\\n",
       "0              SVO     2015-10-27 07:40:00                 HAV   \n",
       "1              SVO     2015-10-27 09:50:00                 JFK   \n",
       "2              SVO     2015-10-27 10:45:00                 MIA   \n",
       "3              SVO     2015-10-27 12:30:00                 LAX   \n",
       "4              OTP     2015-10-27 14:15:00                 SVO   \n",
       "5              HAM     2015-10-27 14:30:00                 SVO   \n",
       "6              SVO     2015-10-27 14:35:00                 JFK   \n",
       "7              DXB     2015-10-27 15:40:00                 SVO   \n",
       "8              SVO     2015-10-27 16:10:00                 VVO   \n",
       "9              TLV     2015-10-27 16:45:00                 SVO   \n",
       "\n",
       "  Scheduled arrival time  Delay  \n",
       "0    2015-10-27 20:45:00    0.0  \n",
       "1    2015-10-27 20:35:00    2.0  \n",
       "2    2015-10-27 23:35:00    0.0  \n",
       "3    2015-10-28 01:20:00    0.0  \n",
       "4    2015-10-27 16:40:00    9.0  \n",
       "5    2015-10-27 17:15:00    0.0  \n",
       "6    2015-10-28 01:25:00    0.0  \n",
       "7    2015-10-27 21:20:00    1.0  \n",
       "8    2015-10-28 00:35:00    0.0  \n",
       "9    2015-10-27 20:55:00    0.0  "
      ]
     },
     "execution_count": 3,
     "metadata": {},
     "output_type": "execute_result"
    }
   ],
   "source": [
    "df.head(10)"
   ]
  },
  {
   "cell_type": "code",
   "execution_count": 4,
   "metadata": {},
   "outputs": [
    {
     "data": {
      "text/plain": [
       "Depature Airport            object\n",
       "Scheduled depature time     object\n",
       "Destination Airport         object\n",
       "Scheduled arrival time      object\n",
       "Delay                      float64\n",
       "dtype: object"
      ]
     },
     "execution_count": 4,
     "metadata": {},
     "output_type": "execute_result"
    }
   ],
   "source": [
    "types = df.dtypes\n",
    "types"
   ]
  },
  {
   "cell_type": "code",
   "execution_count": 5,
   "metadata": {},
   "outputs": [],
   "source": [
    "df['Scheduled depature time'] = pd.to_datetime(df['Scheduled depature time'])\n",
    "df['Scheduled arrival time'] = pd.to_datetime(df['Scheduled arrival time'])"
   ]
  },
  {
   "cell_type": "code",
   "execution_count": 6,
   "metadata": {},
   "outputs": [],
   "source": [
    "df['Scheduled depature time'] = pd.to_datetime(df['Scheduled depature time'], \n",
    " format = '%Y-%m-%d%H:%M:%S', \n",
    " errors = 'coerce')\n",
    "df['Scheduled arrival time'] = pd.to_datetime(df['Scheduled arrival time'], \n",
    " format = '%Y-%m-%d%H:%M:%S', \n",
    " errors = 'coerce')"
   ]
  },
  {
   "cell_type": "code",
   "execution_count": 7,
   "metadata": {},
   "outputs": [],
   "source": [
    "de=df['Scheduled arrival time']-df['Scheduled depature time']\n",
    "de=de.dt.total_seconds()/60\n",
    "df['flight duration']=de"
   ]
  },
  {
   "cell_type": "code",
   "execution_count": 8,
   "metadata": {},
   "outputs": [],
   "source": [
    "df['Scheduled depature time_year'] = df['Scheduled depature time'].dt.year\n",
    "df['Scheduled depature time_month'] = df['Scheduled depature time'].dt.month\n",
    "df['Scheduled depature time_week'] = df['Scheduled depature time'].dt.week\n",
    "df['Scheduled depature time_day'] = df['Scheduled depature time'].dt.day\n",
    "df['Scheduled depature time_houre'] = df['Scheduled depature time'].dt.hour\n",
    "df['Scheduled depature time_min'] = df['Scheduled depature time'].dt.minute\n",
    "df['Scheduled depature time_dow'] = df['Scheduled depature time'].dt.dayofweek"
   ]
  },
  {
   "cell_type": "code",
   "execution_count": 9,
   "metadata": {},
   "outputs": [],
   "source": [
    "df['Scheduled arrival time_year'] = df['Scheduled arrival time'].dt.year\n",
    "df['Scheduled arrival time_month'] = df['Scheduled arrival time'].dt.month\n",
    "df['Scheduled arrival time_week'] = df['Scheduled arrival time'].dt.week\n",
    "df['Scheduled arrival time_day'] = df['Scheduled arrival time'].dt.day\n",
    "df['Scheduled arrival time_houre'] = df['Scheduled arrival time'].dt.hour\n",
    "df['Scheduled arrival time_min'] = df['Scheduled arrival time'].dt.minute\n",
    "df['Scheduled arrival time_dow'] = df['Scheduled arrival time'].dt.dayofweek"
   ]
  },
  {
   "cell_type": "code",
   "execution_count": 10,
   "metadata": {},
   "outputs": [],
   "source": [
    "df = df.drop(['Scheduled arrival time', 'Scheduled depature time'], axis=1)"
   ]
  },
  {
   "cell_type": "code",
   "execution_count": 11,
   "metadata": {},
   "outputs": [
    {
     "data": {
      "text/html": [
       "<div>\n",
       "<style scoped>\n",
       "    .dataframe tbody tr th:only-of-type {\n",
       "        vertical-align: middle;\n",
       "    }\n",
       "\n",
       "    .dataframe tbody tr th {\n",
       "        vertical-align: top;\n",
       "    }\n",
       "\n",
       "    .dataframe thead th {\n",
       "        text-align: right;\n",
       "    }\n",
       "</style>\n",
       "<table border=\"1\" class=\"dataframe\">\n",
       "  <thead>\n",
       "    <tr style=\"text-align: right;\">\n",
       "      <th></th>\n",
       "      <th>Depature Airport</th>\n",
       "      <th>Destination Airport</th>\n",
       "      <th>Delay</th>\n",
       "      <th>flight duration</th>\n",
       "      <th>Scheduled depature time_year</th>\n",
       "      <th>Scheduled depature time_month</th>\n",
       "      <th>Scheduled depature time_week</th>\n",
       "      <th>Scheduled depature time_day</th>\n",
       "      <th>Scheduled depature time_houre</th>\n",
       "      <th>Scheduled depature time_min</th>\n",
       "      <th>Scheduled depature time_dow</th>\n",
       "      <th>Scheduled arrival time_year</th>\n",
       "      <th>Scheduled arrival time_month</th>\n",
       "      <th>Scheduled arrival time_week</th>\n",
       "      <th>Scheduled arrival time_day</th>\n",
       "      <th>Scheduled arrival time_houre</th>\n",
       "      <th>Scheduled arrival time_min</th>\n",
       "      <th>Scheduled arrival time_dow</th>\n",
       "    </tr>\n",
       "  </thead>\n",
       "  <tbody>\n",
       "    <tr>\n",
       "      <th>0</th>\n",
       "      <td>SVO</td>\n",
       "      <td>HAV</td>\n",
       "      <td>0.0</td>\n",
       "      <td>785.0</td>\n",
       "      <td>2015</td>\n",
       "      <td>10</td>\n",
       "      <td>44</td>\n",
       "      <td>27</td>\n",
       "      <td>7</td>\n",
       "      <td>40</td>\n",
       "      <td>1</td>\n",
       "      <td>2015</td>\n",
       "      <td>10</td>\n",
       "      <td>44</td>\n",
       "      <td>27</td>\n",
       "      <td>20</td>\n",
       "      <td>45</td>\n",
       "      <td>1</td>\n",
       "    </tr>\n",
       "    <tr>\n",
       "      <th>1</th>\n",
       "      <td>SVO</td>\n",
       "      <td>JFK</td>\n",
       "      <td>2.0</td>\n",
       "      <td>645.0</td>\n",
       "      <td>2015</td>\n",
       "      <td>10</td>\n",
       "      <td>44</td>\n",
       "      <td>27</td>\n",
       "      <td>9</td>\n",
       "      <td>50</td>\n",
       "      <td>1</td>\n",
       "      <td>2015</td>\n",
       "      <td>10</td>\n",
       "      <td>44</td>\n",
       "      <td>27</td>\n",
       "      <td>20</td>\n",
       "      <td>35</td>\n",
       "      <td>1</td>\n",
       "    </tr>\n",
       "    <tr>\n",
       "      <th>2</th>\n",
       "      <td>SVO</td>\n",
       "      <td>MIA</td>\n",
       "      <td>0.0</td>\n",
       "      <td>770.0</td>\n",
       "      <td>2015</td>\n",
       "      <td>10</td>\n",
       "      <td>44</td>\n",
       "      <td>27</td>\n",
       "      <td>10</td>\n",
       "      <td>45</td>\n",
       "      <td>1</td>\n",
       "      <td>2015</td>\n",
       "      <td>10</td>\n",
       "      <td>44</td>\n",
       "      <td>27</td>\n",
       "      <td>23</td>\n",
       "      <td>35</td>\n",
       "      <td>1</td>\n",
       "    </tr>\n",
       "    <tr>\n",
       "      <th>3</th>\n",
       "      <td>SVO</td>\n",
       "      <td>LAX</td>\n",
       "      <td>0.0</td>\n",
       "      <td>770.0</td>\n",
       "      <td>2015</td>\n",
       "      <td>10</td>\n",
       "      <td>44</td>\n",
       "      <td>27</td>\n",
       "      <td>12</td>\n",
       "      <td>30</td>\n",
       "      <td>1</td>\n",
       "      <td>2015</td>\n",
       "      <td>10</td>\n",
       "      <td>44</td>\n",
       "      <td>28</td>\n",
       "      <td>1</td>\n",
       "      <td>20</td>\n",
       "      <td>2</td>\n",
       "    </tr>\n",
       "    <tr>\n",
       "      <th>4</th>\n",
       "      <td>OTP</td>\n",
       "      <td>SVO</td>\n",
       "      <td>9.0</td>\n",
       "      <td>145.0</td>\n",
       "      <td>2015</td>\n",
       "      <td>10</td>\n",
       "      <td>44</td>\n",
       "      <td>27</td>\n",
       "      <td>14</td>\n",
       "      <td>15</td>\n",
       "      <td>1</td>\n",
       "      <td>2015</td>\n",
       "      <td>10</td>\n",
       "      <td>44</td>\n",
       "      <td>27</td>\n",
       "      <td>16</td>\n",
       "      <td>40</td>\n",
       "      <td>1</td>\n",
       "    </tr>\n",
       "    <tr>\n",
       "      <th>5</th>\n",
       "      <td>HAM</td>\n",
       "      <td>SVO</td>\n",
       "      <td>0.0</td>\n",
       "      <td>165.0</td>\n",
       "      <td>2015</td>\n",
       "      <td>10</td>\n",
       "      <td>44</td>\n",
       "      <td>27</td>\n",
       "      <td>14</td>\n",
       "      <td>30</td>\n",
       "      <td>1</td>\n",
       "      <td>2015</td>\n",
       "      <td>10</td>\n",
       "      <td>44</td>\n",
       "      <td>27</td>\n",
       "      <td>17</td>\n",
       "      <td>15</td>\n",
       "      <td>1</td>\n",
       "    </tr>\n",
       "    <tr>\n",
       "      <th>6</th>\n",
       "      <td>SVO</td>\n",
       "      <td>JFK</td>\n",
       "      <td>0.0</td>\n",
       "      <td>650.0</td>\n",
       "      <td>2015</td>\n",
       "      <td>10</td>\n",
       "      <td>44</td>\n",
       "      <td>27</td>\n",
       "      <td>14</td>\n",
       "      <td>35</td>\n",
       "      <td>1</td>\n",
       "      <td>2015</td>\n",
       "      <td>10</td>\n",
       "      <td>44</td>\n",
       "      <td>28</td>\n",
       "      <td>1</td>\n",
       "      <td>25</td>\n",
       "      <td>2</td>\n",
       "    </tr>\n",
       "    <tr>\n",
       "      <th>7</th>\n",
       "      <td>DXB</td>\n",
       "      <td>SVO</td>\n",
       "      <td>1.0</td>\n",
       "      <td>340.0</td>\n",
       "      <td>2015</td>\n",
       "      <td>10</td>\n",
       "      <td>44</td>\n",
       "      <td>27</td>\n",
       "      <td>15</td>\n",
       "      <td>40</td>\n",
       "      <td>1</td>\n",
       "      <td>2015</td>\n",
       "      <td>10</td>\n",
       "      <td>44</td>\n",
       "      <td>27</td>\n",
       "      <td>21</td>\n",
       "      <td>20</td>\n",
       "      <td>1</td>\n",
       "    </tr>\n",
       "    <tr>\n",
       "      <th>8</th>\n",
       "      <td>SVO</td>\n",
       "      <td>VVO</td>\n",
       "      <td>0.0</td>\n",
       "      <td>505.0</td>\n",
       "      <td>2015</td>\n",
       "      <td>10</td>\n",
       "      <td>44</td>\n",
       "      <td>27</td>\n",
       "      <td>16</td>\n",
       "      <td>10</td>\n",
       "      <td>1</td>\n",
       "      <td>2015</td>\n",
       "      <td>10</td>\n",
       "      <td>44</td>\n",
       "      <td>28</td>\n",
       "      <td>0</td>\n",
       "      <td>35</td>\n",
       "      <td>2</td>\n",
       "    </tr>\n",
       "    <tr>\n",
       "      <th>9</th>\n",
       "      <td>TLV</td>\n",
       "      <td>SVO</td>\n",
       "      <td>0.0</td>\n",
       "      <td>250.0</td>\n",
       "      <td>2015</td>\n",
       "      <td>10</td>\n",
       "      <td>44</td>\n",
       "      <td>27</td>\n",
       "      <td>16</td>\n",
       "      <td>45</td>\n",
       "      <td>1</td>\n",
       "      <td>2015</td>\n",
       "      <td>10</td>\n",
       "      <td>44</td>\n",
       "      <td>27</td>\n",
       "      <td>20</td>\n",
       "      <td>55</td>\n",
       "      <td>1</td>\n",
       "    </tr>\n",
       "  </tbody>\n",
       "</table>\n",
       "</div>"
      ],
      "text/plain": [
       "  Depature Airport Destination Airport  Delay  flight duration  \\\n",
       "0              SVO                 HAV    0.0            785.0   \n",
       "1              SVO                 JFK    2.0            645.0   \n",
       "2              SVO                 MIA    0.0            770.0   \n",
       "3              SVO                 LAX    0.0            770.0   \n",
       "4              OTP                 SVO    9.0            145.0   \n",
       "5              HAM                 SVO    0.0            165.0   \n",
       "6              SVO                 JFK    0.0            650.0   \n",
       "7              DXB                 SVO    1.0            340.0   \n",
       "8              SVO                 VVO    0.0            505.0   \n",
       "9              TLV                 SVO    0.0            250.0   \n",
       "\n",
       "   Scheduled depature time_year  Scheduled depature time_month  \\\n",
       "0                          2015                             10   \n",
       "1                          2015                             10   \n",
       "2                          2015                             10   \n",
       "3                          2015                             10   \n",
       "4                          2015                             10   \n",
       "5                          2015                             10   \n",
       "6                          2015                             10   \n",
       "7                          2015                             10   \n",
       "8                          2015                             10   \n",
       "9                          2015                             10   \n",
       "\n",
       "   Scheduled depature time_week  Scheduled depature time_day  \\\n",
       "0                            44                           27   \n",
       "1                            44                           27   \n",
       "2                            44                           27   \n",
       "3                            44                           27   \n",
       "4                            44                           27   \n",
       "5                            44                           27   \n",
       "6                            44                           27   \n",
       "7                            44                           27   \n",
       "8                            44                           27   \n",
       "9                            44                           27   \n",
       "\n",
       "   Scheduled depature time_houre  Scheduled depature time_min  \\\n",
       "0                              7                           40   \n",
       "1                              9                           50   \n",
       "2                             10                           45   \n",
       "3                             12                           30   \n",
       "4                             14                           15   \n",
       "5                             14                           30   \n",
       "6                             14                           35   \n",
       "7                             15                           40   \n",
       "8                             16                           10   \n",
       "9                             16                           45   \n",
       "\n",
       "   Scheduled depature time_dow  Scheduled arrival time_year  \\\n",
       "0                            1                         2015   \n",
       "1                            1                         2015   \n",
       "2                            1                         2015   \n",
       "3                            1                         2015   \n",
       "4                            1                         2015   \n",
       "5                            1                         2015   \n",
       "6                            1                         2015   \n",
       "7                            1                         2015   \n",
       "8                            1                         2015   \n",
       "9                            1                         2015   \n",
       "\n",
       "   Scheduled arrival time_month  Scheduled arrival time_week  \\\n",
       "0                            10                           44   \n",
       "1                            10                           44   \n",
       "2                            10                           44   \n",
       "3                            10                           44   \n",
       "4                            10                           44   \n",
       "5                            10                           44   \n",
       "6                            10                           44   \n",
       "7                            10                           44   \n",
       "8                            10                           44   \n",
       "9                            10                           44   \n",
       "\n",
       "   Scheduled arrival time_day  Scheduled arrival time_houre  \\\n",
       "0                          27                            20   \n",
       "1                          27                            20   \n",
       "2                          27                            23   \n",
       "3                          28                             1   \n",
       "4                          27                            16   \n",
       "5                          27                            17   \n",
       "6                          28                             1   \n",
       "7                          27                            21   \n",
       "8                          28                             0   \n",
       "9                          27                            20   \n",
       "\n",
       "   Scheduled arrival time_min  Scheduled arrival time_dow  \n",
       "0                          45                           1  \n",
       "1                          35                           1  \n",
       "2                          35                           1  \n",
       "3                          20                           2  \n",
       "4                          40                           1  \n",
       "5                          15                           1  \n",
       "6                          25                           2  \n",
       "7                          20                           1  \n",
       "8                          35                           2  \n",
       "9                          55                           1  "
      ]
     },
     "execution_count": 11,
     "metadata": {},
     "output_type": "execute_result"
    }
   ],
   "source": [
    "df.head(10)"
   ]
  },
  {
   "cell_type": "code",
   "execution_count": 12,
   "metadata": {},
   "outputs": [
    {
     "data": {
      "image/png": "[encoded data removed]",
      "text/plain": [
       "<Figure size 432x288 with 1 Axes>"
      ]
     },
     "metadata": {
      "needs_background": "light"
     },
     "output_type": "display_data"
    }
   ],
   "source": [
    "plt.scatter(df['flight duration'],df['Delay'],s=0.1)\n",
    "plt.show()"
   ]
  },
  {
   "cell_type": "code",
   "execution_count": 13,
   "metadata": {},
   "outputs": [],
   "source": [
    "imputer = SimpleImputer(strategy='most_frequent')\n",
    "imputer.fit(df)\n",
    "df = pd.DataFrame(imputer.transform(df), columns=df.columns)"
   ]
  },
  {
   "cell_type": "code",
   "execution_count": 14,
   "metadata": {},
   "outputs": [
    {
     "data": {
      "text/plain": [
       "OrdinalEncoder(categories='auto', dtype=<class 'numpy.float64'>)"
      ]
     },
     "execution_count": 14,
     "metadata": {},
     "output_type": "execute_result"
    }
   ],
   "source": [
    "from sklearn.preprocessing import OrdinalEncoder\n",
    "encoder = OrdinalEncoder()\n",
    "ft = ['Depature Airport', 'Destination Airport']\n",
    "encoder.fit(df[ft])"
   ]
  },
  {
   "cell_type": "code",
   "execution_count": 15,
   "metadata": {},
   "outputs": [],
   "source": [
    "def Ordinal_e_new_features(df, features_name, encoder):\n",
    "    new_feats = encoder.transform(df[features_name])\n",
    "    new_cols = pd.DataFrame(new_feats, dtype=int)\n",
    "    new_df = pd.concat([df, new_cols], axis=1)\n",
    "    new_df.drop(features_name, axis=1, inplace=True)\n",
    "    return new_df"
   ]
  },
  {
   "cell_type": "code",
   "execution_count": 16,
   "metadata": {},
   "outputs": [],
   "source": [
    "df = Ordinal_e_new_features(df, ft, encoder)"
   ]
  },
  {
   "cell_type": "code",
   "execution_count": 17,
   "metadata": {},
   "outputs": [],
   "source": [
    "df=df.rename(columns={0: 'Depature Airport', 1: 'Destination Airport'})"
   ]
  },
  {
   "cell_type": "code",
   "execution_count": 18,
   "metadata": {},
   "outputs": [
    {
     "data": {
      "text/html": [
       "<div>\n",
       "<style scoped>\n",
       "    .dataframe tbody tr th:only-of-type {\n",
       "        vertical-align: middle;\n",
       "    }\n",
       "\n",
       "    .dataframe tbody tr th {\n",
       "        vertical-align: top;\n",
       "    }\n",
       "\n",
       "    .dataframe thead th {\n",
       "        text-align: right;\n",
       "    }\n",
       "</style>\n",
       "<table border=\"1\" class=\"dataframe\">\n",
       "  <thead>\n",
       "    <tr style=\"text-align: right;\">\n",
       "      <th></th>\n",
       "      <th>Delay</th>\n",
       "      <th>flight duration</th>\n",
       "      <th>Scheduled depature time_year</th>\n",
       "      <th>Scheduled depature time_month</th>\n",
       "      <th>Scheduled depature time_week</th>\n",
       "      <th>Scheduled depature time_day</th>\n",
       "      <th>Scheduled depature time_houre</th>\n",
       "      <th>Scheduled depature time_min</th>\n",
       "      <th>Scheduled depature time_dow</th>\n",
       "      <th>Scheduled arrival time_year</th>\n",
       "      <th>Scheduled arrival time_month</th>\n",
       "      <th>Scheduled arrival time_week</th>\n",
       "      <th>Scheduled arrival time_day</th>\n",
       "      <th>Scheduled arrival time_houre</th>\n",
       "      <th>Scheduled arrival time_min</th>\n",
       "      <th>Scheduled arrival time_dow</th>\n",
       "      <th>Depature Airport</th>\n",
       "      <th>Destination Airport</th>\n",
       "    </tr>\n",
       "  </thead>\n",
       "  <tbody>\n",
       "    <tr>\n",
       "      <th>0</th>\n",
       "      <td>0</td>\n",
       "      <td>785</td>\n",
       "      <td>2015</td>\n",
       "      <td>10</td>\n",
       "      <td>44</td>\n",
       "      <td>27</td>\n",
       "      <td>7</td>\n",
       "      <td>40</td>\n",
       "      <td>1</td>\n",
       "      <td>2015</td>\n",
       "      <td>10</td>\n",
       "      <td>44</td>\n",
       "      <td>27</td>\n",
       "      <td>20</td>\n",
       "      <td>45</td>\n",
       "      <td>1</td>\n",
       "      <td>144</td>\n",
       "      <td>56</td>\n",
       "    </tr>\n",
       "    <tr>\n",
       "      <th>1</th>\n",
       "      <td>2</td>\n",
       "      <td>645</td>\n",
       "      <td>2015</td>\n",
       "      <td>10</td>\n",
       "      <td>44</td>\n",
       "      <td>27</td>\n",
       "      <td>9</td>\n",
       "      <td>50</td>\n",
       "      <td>1</td>\n",
       "      <td>2015</td>\n",
       "      <td>10</td>\n",
       "      <td>44</td>\n",
       "      <td>27</td>\n",
       "      <td>20</td>\n",
       "      <td>35</td>\n",
       "      <td>1</td>\n",
       "      <td>144</td>\n",
       "      <td>68</td>\n",
       "    </tr>\n",
       "    <tr>\n",
       "      <th>2</th>\n",
       "      <td>0</td>\n",
       "      <td>770</td>\n",
       "      <td>2015</td>\n",
       "      <td>10</td>\n",
       "      <td>44</td>\n",
       "      <td>27</td>\n",
       "      <td>10</td>\n",
       "      <td>45</td>\n",
       "      <td>1</td>\n",
       "      <td>2015</td>\n",
       "      <td>10</td>\n",
       "      <td>44</td>\n",
       "      <td>27</td>\n",
       "      <td>23</td>\n",
       "      <td>35</td>\n",
       "      <td>1</td>\n",
       "      <td>144</td>\n",
       "      <td>94</td>\n",
       "    </tr>\n",
       "    <tr>\n",
       "      <th>3</th>\n",
       "      <td>0</td>\n",
       "      <td>770</td>\n",
       "      <td>2015</td>\n",
       "      <td>10</td>\n",
       "      <td>44</td>\n",
       "      <td>27</td>\n",
       "      <td>12</td>\n",
       "      <td>30</td>\n",
       "      <td>1</td>\n",
       "      <td>2015</td>\n",
       "      <td>10</td>\n",
       "      <td>44</td>\n",
       "      <td>28</td>\n",
       "      <td>1</td>\n",
       "      <td>20</td>\n",
       "      <td>2</td>\n",
       "      <td>144</td>\n",
       "      <td>82</td>\n",
       "    </tr>\n",
       "    <tr>\n",
       "      <th>4</th>\n",
       "      <td>9</td>\n",
       "      <td>145</td>\n",
       "      <td>2015</td>\n",
       "      <td>10</td>\n",
       "      <td>44</td>\n",
       "      <td>27</td>\n",
       "      <td>14</td>\n",
       "      <td>15</td>\n",
       "      <td>1</td>\n",
       "      <td>2015</td>\n",
       "      <td>10</td>\n",
       "      <td>44</td>\n",
       "      <td>27</td>\n",
       "      <td>16</td>\n",
       "      <td>40</td>\n",
       "      <td>1</td>\n",
       "      <td>113</td>\n",
       "      <td>144</td>\n",
       "    </tr>\n",
       "    <tr>\n",
       "      <th>5</th>\n",
       "      <td>0</td>\n",
       "      <td>165</td>\n",
       "      <td>2015</td>\n",
       "      <td>10</td>\n",
       "      <td>44</td>\n",
       "      <td>27</td>\n",
       "      <td>14</td>\n",
       "      <td>30</td>\n",
       "      <td>1</td>\n",
       "      <td>2015</td>\n",
       "      <td>10</td>\n",
       "      <td>44</td>\n",
       "      <td>27</td>\n",
       "      <td>17</td>\n",
       "      <td>15</td>\n",
       "      <td>1</td>\n",
       "      <td>53</td>\n",
       "      <td>144</td>\n",
       "    </tr>\n",
       "    <tr>\n",
       "      <th>6</th>\n",
       "      <td>0</td>\n",
       "      <td>650</td>\n",
       "      <td>2015</td>\n",
       "      <td>10</td>\n",
       "      <td>44</td>\n",
       "      <td>27</td>\n",
       "      <td>14</td>\n",
       "      <td>35</td>\n",
       "      <td>1</td>\n",
       "      <td>2015</td>\n",
       "      <td>10</td>\n",
       "      <td>44</td>\n",
       "      <td>28</td>\n",
       "      <td>1</td>\n",
       "      <td>25</td>\n",
       "      <td>2</td>\n",
       "      <td>144</td>\n",
       "      <td>68</td>\n",
       "    </tr>\n",
       "    <tr>\n",
       "      <th>7</th>\n",
       "      <td>1</td>\n",
       "      <td>340</td>\n",
       "      <td>2015</td>\n",
       "      <td>10</td>\n",
       "      <td>44</td>\n",
       "      <td>27</td>\n",
       "      <td>15</td>\n",
       "      <td>40</td>\n",
       "      <td>1</td>\n",
       "      <td>2015</td>\n",
       "      <td>10</td>\n",
       "      <td>44</td>\n",
       "      <td>27</td>\n",
       "      <td>21</td>\n",
       "      <td>20</td>\n",
       "      <td>1</td>\n",
       "      <td>35</td>\n",
       "      <td>144</td>\n",
       "    </tr>\n",
       "    <tr>\n",
       "      <th>8</th>\n",
       "      <td>0</td>\n",
       "      <td>505</td>\n",
       "      <td>2015</td>\n",
       "      <td>10</td>\n",
       "      <td>44</td>\n",
       "      <td>27</td>\n",
       "      <td>16</td>\n",
       "      <td>10</td>\n",
       "      <td>1</td>\n",
       "      <td>2015</td>\n",
       "      <td>10</td>\n",
       "      <td>44</td>\n",
       "      <td>28</td>\n",
       "      <td>0</td>\n",
       "      <td>35</td>\n",
       "      <td>2</td>\n",
       "      <td>144</td>\n",
       "      <td>171</td>\n",
       "    </tr>\n",
       "    <tr>\n",
       "      <th>9</th>\n",
       "      <td>0</td>\n",
       "      <td>250</td>\n",
       "      <td>2015</td>\n",
       "      <td>10</td>\n",
       "      <td>44</td>\n",
       "      <td>27</td>\n",
       "      <td>16</td>\n",
       "      <td>45</td>\n",
       "      <td>1</td>\n",
       "      <td>2015</td>\n",
       "      <td>10</td>\n",
       "      <td>44</td>\n",
       "      <td>27</td>\n",
       "      <td>20</td>\n",
       "      <td>55</td>\n",
       "      <td>1</td>\n",
       "      <td>156</td>\n",
       "      <td>144</td>\n",
       "    </tr>\n",
       "  </tbody>\n",
       "</table>\n",
       "</div>"
      ],
      "text/plain": [
       "  Delay flight duration Scheduled depature time_year  \\\n",
       "0     0             785                         2015   \n",
       "1     2             645                         2015   \n",
       "2     0             770                         2015   \n",
       "3     0             770                         2015   \n",
       "4     9             145                         2015   \n",
       "5     0             165                         2015   \n",
       "6     0             650                         2015   \n",
       "7     1             340                         2015   \n",
       "8     0             505                         2015   \n",
       "9     0             250                         2015   \n",
       "\n",
       "  Scheduled depature time_month Scheduled depature time_week  \\\n",
       "0                            10                           44   \n",
       "1                            10                           44   \n",
       "2                            10                           44   \n",
       "3                            10                           44   \n",
       "4                            10                           44   \n",
       "5                            10                           44   \n",
       "6                            10                           44   \n",
       "7                            10                           44   \n",
       "8                            10                           44   \n",
       "9                            10                           44   \n",
       "\n",
       "  Scheduled depature time_day Scheduled depature time_houre  \\\n",
       "0                          27                             7   \n",
       "1                          27                             9   \n",
       "2                          27                            10   \n",
       "3                          27                            12   \n",
       "4                          27                            14   \n",
       "5                          27                            14   \n",
       "6                          27                            14   \n",
       "7                          27                            15   \n",
       "8                          27                            16   \n",
       "9                          27                            16   \n",
       "\n",
       "  Scheduled depature time_min Scheduled depature time_dow  \\\n",
       "0                          40                           1   \n",
       "1                          50                           1   \n",
       "2                          45                           1   \n",
       "3                          30                           1   \n",
       "4                          15                           1   \n",
       "5                          30                           1   \n",
       "6                          35                           1   \n",
       "7                          40                           1   \n",
       "8                          10                           1   \n",
       "9                          45                           1   \n",
       "\n",
       "  Scheduled arrival time_year Scheduled arrival time_month  \\\n",
       "0                        2015                           10   \n",
       "1                        2015                           10   \n",
       "2                        2015                           10   \n",
       "3                        2015                           10   \n",
       "4                        2015                           10   \n",
       "5                        2015                           10   \n",
       "6                        2015                           10   \n",
       "7                        2015                           10   \n",
       "8                        2015                           10   \n",
       "9                        2015                           10   \n",
       "\n",
       "  Scheduled arrival time_week Scheduled arrival time_day  \\\n",
       "0                          44                         27   \n",
       "1                          44                         27   \n",
       "2                          44                         27   \n",
       "3                          44                         28   \n",
       "4                          44                         27   \n",
       "5                          44                         27   \n",
       "6                          44                         28   \n",
       "7                          44                         27   \n",
       "8                          44                         28   \n",
       "9                          44                         27   \n",
       "\n",
       "  Scheduled arrival time_houre Scheduled arrival time_min  \\\n",
       "0                           20                         45   \n",
       "1                           20                         35   \n",
       "2                           23                         35   \n",
       "3                            1                         20   \n",
       "4                           16                         40   \n",
       "5                           17                         15   \n",
       "6                            1                         25   \n",
       "7                           21                         20   \n",
       "8                            0                         35   \n",
       "9                           20                         55   \n",
       "\n",
       "  Scheduled arrival time_dow  Depature Airport  Destination Airport  \n",
       "0                          1               144                   56  \n",
       "1                          1               144                   68  \n",
       "2                          1               144                   94  \n",
       "3                          2               144                   82  \n",
       "4                          1               113                  144  \n",
       "5                          1                53                  144  \n",
       "6                          2               144                   68  \n",
       "7                          1                35                  144  \n",
       "8                          2               144                  171  \n",
       "9                          1               156                  144  "
      ]
     },
     "execution_count": 18,
     "metadata": {},
     "output_type": "execute_result"
    }
   ],
   "source": [
    "df.head(10)"
   ]
  },
  {
   "cell_type": "code",
   "execution_count": 19,
   "metadata": {},
   "outputs": [],
   "source": [
    "df2=df"
   ]
  },
  {
   "cell_type": "code",
   "execution_count": 40,
   "metadata": {},
   "outputs": [],
   "source": [
    "df=df2"
   ]
  },
  {
   "cell_type": "code",
   "execution_count": 42,
   "metadata": {},
   "outputs": [],
   "source": [
    "def removeOutliers(datafframe,feature):\n",
    "\n",
    "    upper_limit = datafframe[feature].mean() + 3 * datafframe[feature].std()\n",
    "    lower_limit = datafframe[feature].mean() - 3 * datafframe[feature].std()\n",
    "    new_train_data = datafframe[(datafframe[feature] < upper_limit) & (datafframe[feature] > lower_limit)]\n",
    "\n",
    "    return new_train_data"
   ]
  },
  {
   "cell_type": "code",
   "execution_count": 43,
   "metadata": {},
   "outputs": [],
   "source": [
    "df=removeOutliers(df,'Delay')"
   ]
  },
  {
   "cell_type": "code",
   "execution_count": 44,
   "metadata": {},
   "outputs": [
    {
     "data": {
      "image/png": "[encoded data removed]",
      "text/plain": [
       "<Figure size 432x288 with 1 Axes>"
      ]
     },
     "metadata": {
      "needs_background": "light"
     },
     "output_type": "display_data"
    }
   ],
   "source": [
    "plt.scatter(df['flight duration'],df['Delay'],s=0.1)\n",
    "plt.show()"
   ]
  },
  {
   "cell_type": "code",
   "execution_count": 45,
   "metadata": {},
   "outputs": [
    {
     "data": {
      "image/png": "[encoded data removed]",
      "text/plain": [
       "<Figure size 432x288 with 1 Axes>"
      ]
     },
     "metadata": {
      "needs_background": "light"
     },
     "output_type": "display_data"
    }
   ],
   "source": [
    "dim_reducer = PCA(n_components=2)\n",
    "df_reduced = dim_reducer.fit_transform(df)\n",
    "plt.scatter(df_reduced[:,0],df_reduced[:,1],s=0.1)\n",
    "plt.xlabel(\"First Principal Component\")\n",
    "plt.ylabel(\"Second Principal Component\")\n",
    "plt.show()"
   ]
  },
  {
   "cell_type": "code",
   "execution_count": 46,
   "metadata": {},
   "outputs": [
    {
     "ename": "KeyError",
     "evalue": "2.0",
     "output_type": "error",
     "traceback": [
      "\u001b[1;31m---------------------------------------------------------------------------\u001b[0m",
      "\u001b[1;31mKeyError\u001b[0m                                  Traceback (most recent call last)",
      "\u001b[1;32m<ipython-input-46-9c1b2e0b0fa8>\u001b[0m in \u001b[0;36m<module>\u001b[1;34m\u001b[0m\n\u001b[0;32m     42\u001b[0m \u001b[1;32mfor\u001b[0m \u001b[0ml\u001b[0m \u001b[1;32min\u001b[0m \u001b[0mnp\u001b[0m\u001b[1;33m.\u001b[0m\u001b[0munique\u001b[0m\u001b[1;33m(\u001b[0m\u001b[0my\u001b[0m\u001b[1;33m)\u001b[0m\u001b[1;33m:\u001b[0m\u001b[1;33m\u001b[0m\u001b[1;33m\u001b[0m\u001b[0m\n\u001b[0;32m     43\u001b[0m     \u001b[0mix\u001b[0m\u001b[1;33m=\u001b[0m\u001b[0mnp\u001b[0m\u001b[1;33m.\u001b[0m\u001b[0mwhere\u001b[0m\u001b[1;33m(\u001b[0m\u001b[0my\u001b[0m\u001b[1;33m==\u001b[0m\u001b[0ml\u001b[0m\u001b[1;33m)\u001b[0m\u001b[1;33m\u001b[0m\u001b[1;33m\u001b[0m\u001b[0m\n\u001b[1;32m---> 44\u001b[1;33m     \u001b[0max\u001b[0m\u001b[1;33m.\u001b[0m\u001b[0mscatter\u001b[0m\u001b[1;33m(\u001b[0m\u001b[0mXax\u001b[0m\u001b[1;33m[\u001b[0m\u001b[0mix\u001b[0m\u001b[1;33m]\u001b[0m\u001b[1;33m,\u001b[0m \u001b[0mYax\u001b[0m\u001b[1;33m[\u001b[0m\u001b[0mix\u001b[0m\u001b[1;33m]\u001b[0m\u001b[1;33m,\u001b[0m \u001b[0mZax\u001b[0m\u001b[1;33m[\u001b[0m\u001b[0mix\u001b[0m\u001b[1;33m]\u001b[0m\u001b[1;33m,\u001b[0m \u001b[0mc\u001b[0m\u001b[1;33m=\u001b[0m\u001b[0mcdict\u001b[0m\u001b[1;33m[\u001b[0m\u001b[0ml\u001b[0m\u001b[1;33m]\u001b[0m\u001b[1;33m,\u001b[0m \u001b[0ms\u001b[0m\u001b[1;33m=\u001b[0m\u001b[1;36m1\u001b[0m\u001b[1;33m,\u001b[0m\u001b[0mlabel\u001b[0m\u001b[1;33m=\u001b[0m\u001b[0mlabl\u001b[0m\u001b[1;33m[\u001b[0m\u001b[0ml\u001b[0m\u001b[1;33m]\u001b[0m\u001b[1;33m,\u001b[0m \u001b[0mmarker\u001b[0m\u001b[1;33m=\u001b[0m\u001b[0mmarker\u001b[0m\u001b[1;33m[\u001b[0m\u001b[0ml\u001b[0m\u001b[1;33m]\u001b[0m\u001b[1;33m,\u001b[0m \u001b[0malpha\u001b[0m\u001b[1;33m=\u001b[0m\u001b[0malpha\u001b[0m\u001b[1;33m[\u001b[0m\u001b[0ml\u001b[0m\u001b[1;33m]\u001b[0m\u001b[1;33m)\u001b[0m\u001b[1;33m\u001b[0m\u001b[1;33m\u001b[0m\u001b[0m\n\u001b[0m\u001b[0;32m     45\u001b[0m \u001b[1;31m# for loop ends\u001b[0m\u001b[1;33m\u001b[0m\u001b[1;33m\u001b[0m\u001b[1;33m\u001b[0m\u001b[0m\n\u001b[0;32m     46\u001b[0m \u001b[0max\u001b[0m\u001b[1;33m.\u001b[0m\u001b[0mset_xlabel\u001b[0m\u001b[1;33m(\u001b[0m\u001b[1;34m\"First Principal Component\"\u001b[0m\u001b[1;33m,\u001b[0m \u001b[0mfontsize\u001b[0m\u001b[1;33m=\u001b[0m\u001b[1;36m14\u001b[0m\u001b[1;33m)\u001b[0m\u001b[1;33m\u001b[0m\u001b[1;33m\u001b[0m\u001b[0m\n",
      "\u001b[1;31mKeyError\u001b[0m: 2.0"
     ]
    },
    {
     "data": {
      "image/png": "[encoded data removed]",
      "text/plain": [
       "<Figure size 504x360 with 1 Axes>"
      ]
     },
     "metadata": {},
     "output_type": "display_data"
    }
   ],
   "source": [
    "import numpy as np\n",
    "import pandas as pd\n",
    "import matplotlib.pyplot as plt\n",
    "\n",
    "from mpl_toolkits.mplot3d import Axes3D\n",
    "from sklearn.datasets import load_breast_cancer\n",
    "from sklearn.decomposition import PCA\n",
    "from sklearn import datasets\n",
    "from sklearn.preprocessing import StandardScaler\n",
    "# %matplotlib notebook\n",
    "\n",
    "X = df.drop('Delay',axis=1)\n",
    "y = df['Delay']\n",
    "sc = StandardScaler()\n",
    "\n",
    "scaler = StandardScaler()\n",
    "scaler.fit(X) \n",
    "X_scaled = scaler.transform(X)\n",
    "\n",
    "pca = PCA(n_components=3)\n",
    "pca.fit(X_scaled) \n",
    "X_pca = pca.transform(X_scaled) \n",
    "\n",
    "ex_variance=np.var(X_pca,axis=0)\n",
    "ex_variance_ratio = ex_variance/np.sum(ex_variance)\n",
    "ex_variance_ratio\n",
    "\n",
    "\n",
    "Xax = X_pca[:,0]\n",
    "Yax = X_pca[:,1]\n",
    "Zax = X_pca[:,2]\n",
    "\n",
    "cdict = {0:'red',1:'green'}\n",
    "labl = {0:'Malignant',1:'Benign'}\n",
    "marker = {0:'*',1:'o'}\n",
    "alpha = {0:.3, 1:.5}\n",
    "\n",
    "fig = plt.figure(figsize=(7,5))\n",
    "ax = fig.add_subplot(111, projection='3d')\n",
    "\n",
    "fig.patch.set_facecolor('white')\n",
    "for l in np.unique(y):\n",
    "    ix=np.where(y==l) \n",
    "    ax.scatter(Xax[ix], Yax[ix], Zax[ix], c=cdict[l], s=1,label=labl[l], marker=marker[l], alpha=alpha[l])\n",
    "# for loop ends\n",
    "ax.set_xlabel(\"First Principal Component\", fontsize=14)\n",
    "ax.set_ylabel(\"Second Principal Component\", fontsize=14)\n",
    "ax.set_zlabel(\"Third Principal Component\", fontsize=14)\n",
    "\n",
    "ax.legend()\n",
    "plt.show()"
   ]
  },
  {
   "cell_type": "code",
   "execution_count": 47,
   "metadata": {},
   "outputs": [
    {
     "data": {
      "text/plain": [
       "<matplotlib.axes._subplots.AxesSubplot at 0x2fd0b6c4448>"
      ]
     },
     "execution_count": 47,
     "metadata": {},
     "output_type": "execute_result"
    },
    {
     "data": {
      "image/png": "[encoded data removed]",
      "text/plain": [
       "<Figure size 432x288 with 1 Axes>"
      ]
     },
     "metadata": {
      "needs_background": "light"
     },
     "output_type": "display_data"
    }
   ],
   "source": [
    "sns.boxplot(data=df['flight duration'])"
   ]
  },
  {
   "cell_type": "code",
   "execution_count": 48,
   "metadata": {},
   "outputs": [
    {
     "data": {
      "text/plain": [
       "<matplotlib.axes._subplots.AxesSubplot at 0x2fd05436248>"
      ]
     },
     "execution_count": 48,
     "metadata": {},
     "output_type": "execute_result"
    },
    {
     "data": {
      "image/png": "[encoded data removed]",
      "text/plain": [
       "<Figure size 432x288 with 1 Axes>"
      ]
     },
     "metadata": {
      "needs_background": "light"
     },
     "output_type": "display_data"
    }
   ],
   "source": [
    "sns.boxplot(data=df['Destination Airport'])"
   ]
  },
  {
   "cell_type": "code",
   "execution_count": 49,
   "metadata": {},
   "outputs": [
    {
     "data": {
      "text/plain": [
       "<matplotlib.axes._subplots.AxesSubplot at 0x2fd0541b3c8>"
      ]
     },
     "execution_count": 49,
     "metadata": {},
     "output_type": "execute_result"
    },
    {
     "data": {
      "image/png": "[encoded data removed]",
      "text/plain": [
       "<Figure size 432x288 with 1 Axes>"
      ]
     },
     "metadata": {
      "needs_background": "light"
     },
     "output_type": "display_data"
    }
   ],
   "source": [
    "sns.boxplot(data=df['Depature Airport'])"
   ]
  },
  {
   "cell_type": "code",
   "execution_count": 50,
   "metadata": {},
   "outputs": [
    {
     "data": {
      "text/plain": [
       "<matplotlib.axes._subplots.AxesSubplot at 0x2fd35cc5608>"
      ]
     },
     "execution_count": 50,
     "metadata": {},
     "output_type": "execute_result"
    },
    {
     "data": {
      "image/png": "[encoded data removed]",
      "text/plain": [
       "<Figure size 432x288 with 1 Axes>"
      ]
     },
     "metadata": {
      "needs_background": "light"
     },
     "output_type": "display_data"
    }
   ],
   "source": [
    "sns.boxplot(data=df['Delay'])"
   ]
  },
  {
   "cell_type": "code",
   "execution_count": 51,
   "metadata": {},
   "outputs": [],
   "source": [
    "train = df.loc[df['Scheduled depature time_year'] < 2018] \n",
    "test = df.loc[df['Scheduled depature time_year'] == 2018]"
   ]
  },
  {
   "cell_type": "code",
   "execution_count": 52,
   "metadata": {},
   "outputs": [
    {
     "data": {
      "text/html": [
       "<div>\n",
       "<style scoped>\n",
       "    .dataframe tbody tr th:only-of-type {\n",
       "        vertical-align: middle;\n",
       "    }\n",
       "\n",
       "    .dataframe tbody tr th {\n",
       "        vertical-align: top;\n",
       "    }\n",
       "\n",
       "    .dataframe thead th {\n",
       "        text-align: right;\n",
       "    }\n",
       "</style>\n",
       "<table border=\"1\" class=\"dataframe\">\n",
       "  <thead>\n",
       "    <tr style=\"text-align: right;\">\n",
       "      <th></th>\n",
       "      <th>Delay</th>\n",
       "      <th>flight duration</th>\n",
       "      <th>Scheduled depature time_year</th>\n",
       "      <th>Scheduled depature time_month</th>\n",
       "      <th>Scheduled depature time_week</th>\n",
       "      <th>Scheduled depature time_day</th>\n",
       "      <th>Scheduled depature time_houre</th>\n",
       "      <th>Scheduled depature time_min</th>\n",
       "      <th>Scheduled depature time_dow</th>\n",
       "      <th>Scheduled arrival time_year</th>\n",
       "      <th>Scheduled arrival time_month</th>\n",
       "      <th>Scheduled arrival time_week</th>\n",
       "      <th>Scheduled arrival time_day</th>\n",
       "      <th>Scheduled arrival time_houre</th>\n",
       "      <th>Scheduled arrival time_min</th>\n",
       "      <th>Scheduled arrival time_dow</th>\n",
       "      <th>Depature Airport</th>\n",
       "      <th>Destination Airport</th>\n",
       "    </tr>\n",
       "  </thead>\n",
       "  <tbody>\n",
       "    <tr>\n",
       "      <th>0</th>\n",
       "      <td>0</td>\n",
       "      <td>785</td>\n",
       "      <td>2015</td>\n",
       "      <td>10</td>\n",
       "      <td>44</td>\n",
       "      <td>27</td>\n",
       "      <td>7</td>\n",
       "      <td>40</td>\n",
       "      <td>1</td>\n",
       "      <td>2015</td>\n",
       "      <td>10</td>\n",
       "      <td>44</td>\n",
       "      <td>27</td>\n",
       "      <td>20</td>\n",
       "      <td>45</td>\n",
       "      <td>1</td>\n",
       "      <td>144</td>\n",
       "      <td>56</td>\n",
       "    </tr>\n",
       "    <tr>\n",
       "      <th>1</th>\n",
       "      <td>2</td>\n",
       "      <td>645</td>\n",
       "      <td>2015</td>\n",
       "      <td>10</td>\n",
       "      <td>44</td>\n",
       "      <td>27</td>\n",
       "      <td>9</td>\n",
       "      <td>50</td>\n",
       "      <td>1</td>\n",
       "      <td>2015</td>\n",
       "      <td>10</td>\n",
       "      <td>44</td>\n",
       "      <td>27</td>\n",
       "      <td>20</td>\n",
       "      <td>35</td>\n",
       "      <td>1</td>\n",
       "      <td>144</td>\n",
       "      <td>68</td>\n",
       "    </tr>\n",
       "    <tr>\n",
       "      <th>2</th>\n",
       "      <td>0</td>\n",
       "      <td>770</td>\n",
       "      <td>2015</td>\n",
       "      <td>10</td>\n",
       "      <td>44</td>\n",
       "      <td>27</td>\n",
       "      <td>10</td>\n",
       "      <td>45</td>\n",
       "      <td>1</td>\n",
       "      <td>2015</td>\n",
       "      <td>10</td>\n",
       "      <td>44</td>\n",
       "      <td>27</td>\n",
       "      <td>23</td>\n",
       "      <td>35</td>\n",
       "      <td>1</td>\n",
       "      <td>144</td>\n",
       "      <td>94</td>\n",
       "    </tr>\n",
       "    <tr>\n",
       "      <th>3</th>\n",
       "      <td>0</td>\n",
       "      <td>770</td>\n",
       "      <td>2015</td>\n",
       "      <td>10</td>\n",
       "      <td>44</td>\n",
       "      <td>27</td>\n",
       "      <td>12</td>\n",
       "      <td>30</td>\n",
       "      <td>1</td>\n",
       "      <td>2015</td>\n",
       "      <td>10</td>\n",
       "      <td>44</td>\n",
       "      <td>28</td>\n",
       "      <td>1</td>\n",
       "      <td>20</td>\n",
       "      <td>2</td>\n",
       "      <td>144</td>\n",
       "      <td>82</td>\n",
       "    </tr>\n",
       "    <tr>\n",
       "      <th>4</th>\n",
       "      <td>9</td>\n",
       "      <td>145</td>\n",
       "      <td>2015</td>\n",
       "      <td>10</td>\n",
       "      <td>44</td>\n",
       "      <td>27</td>\n",
       "      <td>14</td>\n",
       "      <td>15</td>\n",
       "      <td>1</td>\n",
       "      <td>2015</td>\n",
       "      <td>10</td>\n",
       "      <td>44</td>\n",
       "      <td>27</td>\n",
       "      <td>16</td>\n",
       "      <td>40</td>\n",
       "      <td>1</td>\n",
       "      <td>113</td>\n",
       "      <td>144</td>\n",
       "    </tr>\n",
       "    <tr>\n",
       "      <th>5</th>\n",
       "      <td>0</td>\n",
       "      <td>165</td>\n",
       "      <td>2015</td>\n",
       "      <td>10</td>\n",
       "      <td>44</td>\n",
       "      <td>27</td>\n",
       "      <td>14</td>\n",
       "      <td>30</td>\n",
       "      <td>1</td>\n",
       "      <td>2015</td>\n",
       "      <td>10</td>\n",
       "      <td>44</td>\n",
       "      <td>27</td>\n",
       "      <td>17</td>\n",
       "      <td>15</td>\n",
       "      <td>1</td>\n",
       "      <td>53</td>\n",
       "      <td>144</td>\n",
       "    </tr>\n",
       "    <tr>\n",
       "      <th>6</th>\n",
       "      <td>0</td>\n",
       "      <td>650</td>\n",
       "      <td>2015</td>\n",
       "      <td>10</td>\n",
       "      <td>44</td>\n",
       "      <td>27</td>\n",
       "      <td>14</td>\n",
       "      <td>35</td>\n",
       "      <td>1</td>\n",
       "      <td>2015</td>\n",
       "      <td>10</td>\n",
       "      <td>44</td>\n",
       "      <td>28</td>\n",
       "      <td>1</td>\n",
       "      <td>25</td>\n",
       "      <td>2</td>\n",
       "      <td>144</td>\n",
       "      <td>68</td>\n",
       "    </tr>\n",
       "    <tr>\n",
       "      <th>7</th>\n",
       "      <td>1</td>\n",
       "      <td>340</td>\n",
       "      <td>2015</td>\n",
       "      <td>10</td>\n",
       "      <td>44</td>\n",
       "      <td>27</td>\n",
       "      <td>15</td>\n",
       "      <td>40</td>\n",
       "      <td>1</td>\n",
       "      <td>2015</td>\n",
       "      <td>10</td>\n",
       "      <td>44</td>\n",
       "      <td>27</td>\n",
       "      <td>21</td>\n",
       "      <td>20</td>\n",
       "      <td>1</td>\n",
       "      <td>35</td>\n",
       "      <td>144</td>\n",
       "    </tr>\n",
       "    <tr>\n",
       "      <th>8</th>\n",
       "      <td>0</td>\n",
       "      <td>505</td>\n",
       "      <td>2015</td>\n",
       "      <td>10</td>\n",
       "      <td>44</td>\n",
       "      <td>27</td>\n",
       "      <td>16</td>\n",
       "      <td>10</td>\n",
       "      <td>1</td>\n",
       "      <td>2015</td>\n",
       "      <td>10</td>\n",
       "      <td>44</td>\n",
       "      <td>28</td>\n",
       "      <td>0</td>\n",
       "      <td>35</td>\n",
       "      <td>2</td>\n",
       "      <td>144</td>\n",
       "      <td>171</td>\n",
       "    </tr>\n",
       "    <tr>\n",
       "      <th>9</th>\n",
       "      <td>0</td>\n",
       "      <td>250</td>\n",
       "      <td>2015</td>\n",
       "      <td>10</td>\n",
       "      <td>44</td>\n",
       "      <td>27</td>\n",
       "      <td>16</td>\n",
       "      <td>45</td>\n",
       "      <td>1</td>\n",
       "      <td>2015</td>\n",
       "      <td>10</td>\n",
       "      <td>44</td>\n",
       "      <td>27</td>\n",
       "      <td>20</td>\n",
       "      <td>55</td>\n",
       "      <td>1</td>\n",
       "      <td>156</td>\n",
       "      <td>144</td>\n",
       "    </tr>\n",
       "  </tbody>\n",
       "</table>\n",
       "</div>"
      ],
      "text/plain": [
       "  Delay flight duration Scheduled depature time_year  \\\n",
       "0     0             785                         2015   \n",
       "1     2             645                         2015   \n",
       "2     0             770                         2015   \n",
       "3     0             770                         2015   \n",
       "4     9             145                         2015   \n",
       "5     0             165                         2015   \n",
       "6     0             650                         2015   \n",
       "7     1             340                         2015   \n",
       "8     0             505                         2015   \n",
       "9     0             250                         2015   \n",
       "\n",
       "  Scheduled depature time_month Scheduled depature time_week  \\\n",
       "0                            10                           44   \n",
       "1                            10                           44   \n",
       "2                            10                           44   \n",
       "3                            10                           44   \n",
       "4                            10                           44   \n",
       "5                            10                           44   \n",
       "6                            10                           44   \n",
       "7                            10                           44   \n",
       "8                            10                           44   \n",
       "9                            10                           44   \n",
       "\n",
       "  Scheduled depature time_day Scheduled depature time_houre  \\\n",
       "0                          27                             7   \n",
       "1                          27                             9   \n",
       "2                          27                            10   \n",
       "3                          27                            12   \n",
       "4                          27                            14   \n",
       "5                          27                            14   \n",
       "6                          27                            14   \n",
       "7                          27                            15   \n",
       "8                          27                            16   \n",
       "9                          27                            16   \n",
       "\n",
       "  Scheduled depature time_min Scheduled depature time_dow  \\\n",
       "0                          40                           1   \n",
       "1                          50                           1   \n",
       "2                          45                           1   \n",
       "3                          30                           1   \n",
       "4                          15                           1   \n",
       "5                          30                           1   \n",
       "6                          35                           1   \n",
       "7                          40                           1   \n",
       "8                          10                           1   \n",
       "9                          45                           1   \n",
       "\n",
       "  Scheduled arrival time_year Scheduled arrival time_month  \\\n",
       "0                        2015                           10   \n",
       "1                        2015                           10   \n",
       "2                        2015                           10   \n",
       "3                        2015                           10   \n",
       "4                        2015                           10   \n",
       "5                        2015                           10   \n",
       "6                        2015                           10   \n",
       "7                        2015                           10   \n",
       "8                        2015                           10   \n",
       "9                        2015                           10   \n",
       "\n",
       "  Scheduled arrival time_week Scheduled arrival time_day  \\\n",
       "0                          44                         27   \n",
       "1                          44                         27   \n",
       "2                          44                         27   \n",
       "3                          44                         28   \n",
       "4                          44                         27   \n",
       "5                          44                         27   \n",
       "6                          44                         28   \n",
       "7                          44                         27   \n",
       "8                          44                         28   \n",
       "9                          44                         27   \n",
       "\n",
       "  Scheduled arrival time_houre Scheduled arrival time_min  \\\n",
       "0                           20                         45   \n",
       "1                           20                         35   \n",
       "2                           23                         35   \n",
       "3                            1                         20   \n",
       "4                           16                         40   \n",
       "5                           17                         15   \n",
       "6                            1                         25   \n",
       "7                           21                         20   \n",
       "8                            0                         35   \n",
       "9                           20                         55   \n",
       "\n",
       "  Scheduled arrival time_dow  Depature Airport  Destination Airport  \n",
       "0                          1               144                   56  \n",
       "1                          1               144                   68  \n",
       "2                          1               144                   94  \n",
       "3                          2               144                   82  \n",
       "4                          1               113                  144  \n",
       "5                          1                53                  144  \n",
       "6                          2               144                   68  \n",
       "7                          1                35                  144  \n",
       "8                          2               144                  171  \n",
       "9                          1               156                  144  "
      ]
     },
     "execution_count": 52,
     "metadata": {},
     "output_type": "execute_result"
    }
   ],
   "source": [
    "train.head(10)"
   ]
  },
  {
   "cell_type": "code",
   "execution_count": 53,
   "metadata": {},
   "outputs": [],
   "source": [
    "y_test=test['Delay']\n",
    "x_test=test[['flight duration']]\n",
    "X_test=test.drop('Delay',axis=1)\n",
    "y_train=train['Delay']\n",
    "x_train=train[['flight duration']]\n",
    "X_train=train.drop('Delay',axis=1)"
   ]
  },
  {
   "cell_type": "code",
   "execution_count": 54,
   "metadata": {},
   "outputs": [],
   "source": [
    "scaler = RobustScaler()\n",
    "scaler.fit_transform(x_train)\n",
    "x_train = scaler.transform(x_train)\n",
    "x_test=scaler.transform(x_test)\n",
    "X_train = scaler.transform(X_train)\n",
    "X_test=scaler.transform(X_test)"
   ]
  },
  {
   "cell_type": "code",
   "execution_count": 55,
   "metadata": {},
   "outputs": [],
   "source": [
    "x_train=x_train.reshape(-1, 1)\n",
    "x_test=x_test.reshape(-1,1)"
   ]
  },
  {
   "cell_type": "code",
   "execution_count": 56,
   "metadata": {},
   "outputs": [
    {
     "data": {
      "text/plain": [
       "array([[ 5.9047619 ],\n",
       "       [ 4.57142857],\n",
       "       [ 5.76190476],\n",
       "       [ 5.76190476],\n",
       "       [-0.19047619],\n",
       "       [ 0.        ],\n",
       "       [ 4.61904762],\n",
       "       [ 1.66666667],\n",
       "       [ 3.23809524],\n",
       "       [ 0.80952381]])"
      ]
     },
     "execution_count": 56,
     "metadata": {},
     "output_type": "execute_result"
    }
   ],
   "source": [
    "x_train[0:10]"
   ]
  },
  {
   "cell_type": "code",
   "execution_count": 57,
   "metadata": {},
   "outputs": [
    {
     "data": {
      "text/plain": [
       "array([[ 1.        ,  5.9047619 , 34.86621315],\n",
       "       [ 1.        ,  4.57142857, 20.89795918],\n",
       "       [ 1.        ,  5.76190476, 33.19954649],\n",
       "       ...,\n",
       "       [ 1.        ,  0.61904762,  0.38321995],\n",
       "       [ 1.        ,  4.9047619 , 24.05668934],\n",
       "       [ 1.        ,  3.42857143, 11.75510204]])"
      ]
     },
     "execution_count": 57,
     "metadata": {},
     "output_type": "execute_result"
    }
   ],
   "source": [
    "poly = PolynomialFeatures(degree=2)\n",
    "train_x_poly = poly.fit_transform(x_train)\n",
    "train_x_poly"
   ]
  },
  {
   "cell_type": "code",
   "execution_count": 58,
   "metadata": {},
   "outputs": [
    {
     "name": "stdout",
     "output_type": "stream",
     "text": [
      "Coefficients:  [0.         1.4308233  0.02564006]\n",
      "Intercept:  6.750689676279979\n"
     ]
    }
   ],
   "source": [
    "clf = linear_model.LinearRegression()\n",
    "train_y_ = clf.fit(train_x_poly, y_train)\n",
    "# The coefficients\n",
    "print ('Coefficients: ', clf.coef_)\n",
    "print ('Intercept: ',clf.intercept_)"
   ]
  },
  {
   "cell_type": "code",
   "execution_count": 59,
   "metadata": {},
   "outputs": [
    {
     "name": "stdout",
     "output_type": "stream",
     "text": [
      "Mean Absolute Error: 8.500085230738593\n",
      "Mean Squared Error: 182.92431652307073\n",
      "Root Mean Squared Error: 13.524951627383764\n",
      "R2-score: -0.06912349562366171\n"
     ]
    }
   ],
   "source": [
    "test_x_poly = poly.fit_transform(x_test)\n",
    "test_y_ = clf.predict(test_x_poly)\n",
    "\n",
    "print('Mean Absolute Error:', metrics.mean_absolute_error(y_test, test_y_))\n",
    "print('Mean Squared Error:', metrics.mean_squared_error(y_test, test_y_))\n",
    "print('Root Mean Squared Error:', np.sqrt(metrics.mean_squared_error(y_test, test_y_)))\n",
    "print('R2-score:', r2_score(y_test,test_y_ ) )"
   ]
  },
  {
   "cell_type": "code",
   "execution_count": 60,
   "metadata": {},
   "outputs": [
    {
     "data": {
      "text/plain": [
       "Text(0, 0.5, 'Delay')"
      ]
     },
     "execution_count": 60,
     "metadata": {},
     "output_type": "execute_result"
    },
    {
     "data": {
      "image/png": "[encoded data removed]",
      "text/plain": [
       "<Figure size 432x288 with 1 Axes>"
      ]
     },
     "metadata": {
      "needs_background": "light"
     },
     "output_type": "display_data"
    }
   ],
   "source": [
    "plt.scatter(df['flight duration'], df['Delay'],  color='blue')\n",
    "XX = np.arange(0.0, 1600.0, 0.1)\n",
    "yy = clf.intercept_+ clf.coef_[1]*XX+ clf.coef_[2]*np.power(XX, 2)\n",
    "plt.plot(XX, yy, '-r' )\n",
    "plt.xlabel(\"Flight Duration\")\n",
    "plt.ylabel(\"Delay\")"
   ]
  },
  {
   "cell_type": "code",
   "execution_count": 61,
   "metadata": {},
   "outputs": [
    {
     "data": {
      "text/plain": [
       "array([[ 1.        ,  5.9047619 , 17.61904762, ...,  0.04      ,\n",
       "         0.20761905,  1.07764172],\n",
       "       [ 1.        ,  4.57142857, 17.61904762, ...,  0.04      ,\n",
       "         0.1847619 ,  0.85342404],\n",
       "       [ 1.        ,  5.76190476, 17.61904762, ...,  0.04      ,\n",
       "         0.1352381 ,  0.45723356],\n",
       "       ...,\n",
       "       [ 1.        ,  0.61904762, 17.63809524, ...,  0.04      ,\n",
       "         0.19047619,  0.90702948],\n",
       "       [ 1.        ,  4.9047619 , 17.63809524, ...,  1.09750567,\n",
       "         0.20952381,  0.04      ],\n",
       "       [ 1.        ,  3.42857143, 17.63809524, ...,  0.04      ,\n",
       "         0.13333333,  0.44444444]])"
      ]
     },
     "execution_count": 61,
     "metadata": {},
     "output_type": "execute_result"
    }
   ],
   "source": [
    "poly_all = PolynomialFeatures(degree=2)\n",
    "train_x_poly_all = poly_all.fit_transform(X_train)\n",
    "train_x_poly_all"
   ]
  },
  {
   "cell_type": "code",
   "execution_count": 62,
   "metadata": {},
   "outputs": [
    {
     "name": "stdout",
     "output_type": "stream",
     "text": [
      "Coefficients:  [ 2.38315544e+02 -3.23026756e+04  7.68198251e+04  3.48776740e+07\n",
      " -9.36447259e+04  2.97146222e+05 -1.93248929e+06 -3.28950202e+04\n",
      "  9.80479397e+05 -2.52474707e+06 -3.46353390e+07  6.92585219e+04\n",
      " -3.00989595e+05  1.92807118e+06  3.18270685e+04 -9.80088168e+05\n",
      "  1.48020655e+03  9.82863573e+02  3.12982580e+03 -1.00432345e+04\n",
      "  5.98571047e+04  1.38321409e+03  5.10755826e+02  3.75581412e+05\n",
      "  6.25899575e+03  1.03284006e+04  9.92365380e+03 -5.80431150e+04\n",
      " -1.66452504e+03 -3.19771426e+03 -3.75587640e+05 -6.25959974e+03\n",
      " -9.84468462e+03 -9.08681868e-01  7.01778100e-01 -2.58212691e+07\n",
      " -3.20194050e+06 -1.21515444e+07  2.81354112e+05  1.02738836e+06\n",
      " -8.90764456e+04  2.85455198e+07  4.26607551e+07  3.47868596e+06\n",
      " -1.34046342e+07  8.72055928e+05  3.38715914e+05 -8.95888319e+03\n",
      "  2.80222741e+07 -1.65910747e+04  2.18762134e+04  4.47830171e+07\n",
      " -1.23800933e+07 -5.07088699e+07  3.72819924e+06  5.32219106e+04\n",
      " -1.20873607e+03 -2.18338957e+06  4.51099990e+05 -7.95474888e+06\n",
      " -5.61653696e+07 -3.61399658e+06 -6.14563485e+04 -2.07077678e+06\n",
      " -1.32648546e+03  1.84986904e+03  1.52390088e+06 -3.16824649e+06\n",
      "  8.30319789e+04  1.38229294e+03  3.72957232e+05  1.20748219e+07\n",
      "  1.06622911e+07 -1.36989840e+06  2.36864722e+06 -8.28920284e+04\n",
      " -1.38470850e+03  4.09851254e+04 -1.67450664e+01 -9.25522306e+00\n",
      " -2.41576853e+05  3.51212555e+04  3.11670260e+02 -3.95749652e+05\n",
      " -4.56418284e+05  5.36347981e+07  2.50723131e+06 -3.26902950e+06\n",
      " -3.15487096e+04 -5.50214165e+02  3.27987896e+05 -4.44566432e+01\n",
      "  5.99883612e+01  1.12677528e+07  3.75573072e+05  6.19553275e+05\n",
      " -1.03478860e+06 -3.61826130e+06 -1.00186429e+05 -1.96298687e+05\n",
      " -2.25352147e+07 -3.75590525e+05 -5.90906536e+05  4.30846421e+00\n",
      " -8.32149592e-01  3.13486090e+03  1.03092011e+04  8.89932760e+04\n",
      " -5.13743998e+04 -1.67095541e+03 -2.99869016e+03 -3.75574921e+05\n",
      " -6.25583468e+03 -9.83700584e+03  2.63497623e+00  9.79994486e-01\n",
      " -1.19755186e+06 -2.85575456e+07 -2.85358710e+05 -1.23835775e+05\n",
      "  2.80172894e+05 -6.19697040e+05 -1.03205153e+04  3.14878012e+06\n",
      "  1.43844927e+01  1.38943524e+01 -1.67699641e+07  1.90962594e+06\n",
      "  1.34808362e+07 -6.97021785e+05 -3.31077292e+05  9.10383747e+03\n",
      " -2.80103792e+07  1.65046783e+04 -2.19314429e+04 -4.51290631e+07\n",
      "  9.65240345e+06  5.32383254e+07  3.50390847e+06  5.96330203e+04\n",
      "  2.35695843e+06  1.29515310e+03 -1.85034776e+03 -1.54852691e+05\n",
      " -1.70646906e+06  1.00071365e+05  1.67111598e+03 -2.90921792e+05\n",
      "  2.19680994e+01  8.81382219e+00  3.51048210e+06  1.92715458e+05\n",
      "  3.23351334e+03 -2.12250758e+05  4.36019021e+01 -5.99089989e+01\n",
      "  1.12674859e+07  3.75575422e+05  5.90996561e+05 -6.45000981e+00\n",
      "  7.59809678e+00  3.12324456e+03  9.85339036e+03  2.63625501e+00\n",
      "  5.90494042e-03 -1.95156426e+06 -1.78301403e+01 -1.64701238e+01\n",
      " -6.57586274e-01  4.60698991e+00  6.90471890e-01]\n",
      "Intercept:  21684951.391986493\n"
     ]
    }
   ],
   "source": [
    "clf_all = linear_model.LinearRegression()\n",
    "train_y_all = clf_all.fit(train_x_poly_all, y_train)\n",
    "# The coefficients\n",
    "print ('Coefficients: ', clf_all.coef_)\n",
    "print ('Intercept: ',clf_all.intercept_)"
   ]
  },
  {
   "cell_type": "code",
   "execution_count": 63,
   "metadata": {},
   "outputs": [
    {
     "name": "stdout",
     "output_type": "stream",
     "text": [
      "Mean Absolute Error: 20.003155999956558\n",
      "Mean Squared Error: 465.7683033597233\n",
      "Root Mean Squared Error: 21.581665907888652\n",
      "R2-score: -1.7222397005695274\n"
     ]
    }
   ],
   "source": [
    "test_x_poly_all = poly.fit_transform(X_test)\n",
    "test_y_all = clf_all.predict(test_x_poly_all)\n",
    "\n",
    "print('Mean Absolute Error:', metrics.mean_absolute_error(y_test, test_y_all))\n",
    "print('Mean Squared Error:', metrics.mean_squared_error(y_test, test_y_all))\n",
    "print('Root Mean Squared Error:', np.sqrt(metrics.mean_squared_error(y_test, test_y_all)))\n",
    "print('R2-score:', r2_score(y_test,test_y_all ) )"
   ]
  },
  {
   "cell_type": "code",
   "execution_count": 64,
   "metadata": {},
   "outputs": [
    {
     "name": "stdout",
     "output_type": "stream",
     "text": [
      "Model intercept : 6.76449729935402\n",
      "Model coefficient : [1.50883736]\n"
     ]
    }
   ],
   "source": [
    "regressor = LinearRegression()\n",
    "regressor.fit(x_train, y_train)\n",
    "print(f\"Model intercept : {regressor.intercept_}\")\n",
    "print(f\"Model coefficient : {regressor.coef_}\")\n",
    "\n",
    "y_pred = regressor.predict(x_test)"
   ]
  },
  {
   "cell_type": "code",
   "execution_count": 65,
   "metadata": {},
   "outputs": [
    {
     "name": "stdout",
     "output_type": "stream",
     "text": [
      "Mean Absolute Error: 8.500679384156058\n",
      "Mean Squared Error: 182.95439431454162\n",
      "Root Mean Squared Error: 13.52606351879739\n",
      "R2-score: -0.06929928894720261\n"
     ]
    }
   ],
   "source": [
    "print('Mean Absolute Error:', metrics.mean_absolute_error(y_test, y_pred))\n",
    "print('Mean Squared Error:', metrics.mean_squared_error(y_test, y_pred))\n",
    "print('Root Mean Squared Error:', np.sqrt(metrics.mean_squared_error(y_test, y_pred)))\n",
    "print('R2-score:', r2_score(y_test,y_pred ) )"
   ]
  },
  {
   "cell_type": "code",
   "execution_count": 66,
   "metadata": {},
   "outputs": [
    {
     "data": {
      "text/plain": [
       "Text(0, 0.5, 'Delay')"
      ]
     },
     "execution_count": 66,
     "metadata": {},
     "output_type": "execute_result"
    },
    {
     "data": {
      "image/png": "[encoded data removed]",
      "text/plain": [
       "<Figure size 432x288 with 1 Axes>"
      ]
     },
     "metadata": {
      "needs_background": "light"
     },
     "output_type": "display_data"
    }
   ],
   "source": [
    "plt.scatter(df['flight duration'], df['Delay'],  color='blue')\n",
    "XX = np.arange(0.0, 1600.0, 0.1)\n",
    "yy = regressor.intercept_+ regressor.coef_[0]*XX\n",
    "plt.plot(XX, yy, '-r' )\n",
    "plt.xlabel(\"Flight Duration\")\n",
    "plt.ylabel(\"Delay\")"
   ]
  },
  {
   "cell_type": "code",
   "execution_count": 67,
   "metadata": {},
   "outputs": [
    {
     "name": "stdout",
     "output_type": "stream",
     "text": [
      "Model intercept : -1191.2919068841072\n",
      "Model coefficients : [ 1.63064054e+00  1.21605906e+04  9.19963985e+02  1.15812967e+00\n",
      "  3.38014588e+01  1.46862319e+01  1.15158132e+00 -1.03750520e+01\n",
      " -1.20905718e+04 -9.18957704e+02  2.91945004e-01 -3.77197017e+01\n",
      "  4.36641452e+00  3.52736125e-01  1.59641441e+01 -5.73499503e-01\n",
      "  1.40095466e+00]\n"
     ]
    }
   ],
   "source": [
    "regressor = LinearRegression()\n",
    "regressor.fit(X_train, y_train)\n",
    "print(f\"Model intercept : {regressor.intercept_}\")\n",
    "print(f\"Model coefficients : {regressor.coef_}\")\n",
    "\n",
    "y_pred = regressor.predict(X_test)"
   ]
  },
  {
   "cell_type": "code",
   "execution_count": 68,
   "metadata": {},
   "outputs": [
    {
     "name": "stdout",
     "output_type": "stream",
     "text": [
      "Mean Absolute Error: 9.188416247831608\n",
      "Mean Squared Error: 190.75454245908242\n",
      "Root Mean Squared Error: 13.811391764014314\n",
      "R2-score: -0.11488820686245482\n"
     ]
    }
   ],
   "source": [
    "print('Mean Absolute Error:', metrics.mean_absolute_error(y_test, y_pred))\n",
    "print('Mean Squared Error:', metrics.mean_squared_error(y_test, y_pred))\n",
    "print('Root Mean Squared Error:', np.sqrt(metrics.mean_squared_error(y_test, y_pred)))\n",
    "print('R2-score:', r2_score(y_test,y_pred ) )"
   ]
  },
  {
   "cell_type": "code",
   "execution_count": 69,
   "metadata": {},
   "outputs": [
    {
     "name": "stdout",
     "output_type": "stream",
     "text": [
      "184.48043159194316\n",
      "184.35806224453304\n",
      "183.4991052375422\n",
      "183.25035657265124\n",
      "183.1463038411855\n",
      "183.05579884370619\n",
      "182.97884158021344\n",
      "182.8194772873851\n",
      "182.57682102157568\n"
     ]
    },
    {
     "data": {
      "image/png": "[encoded data removed]",
      "text/plain": [
       "<Figure size 432x288 with 1 Axes>"
      ]
     },
     "metadata": {
      "needs_background": "light"
     },
     "output_type": "display_data"
    },
    {
     "name": "stdout",
     "output_type": "stream",
     "text": [
      "Best value of alpha: 0.1\n"
     ]
    }
   ],
   "source": [
    "alphas = [2.2, 2, 1.5, 1.3, 1.2, 1.1, 1, 0.3, 0.1]\n",
    "losses = []\n",
    "for alpha in alphas:\n",
    "    # Write (5 lines): create a Lasso regressor with the alpha value.\n",
    "    # Fit it to the training set, then get the prediction of the validation set (x_val).\n",
    "    # calculate the mean sqaured error loss, then append it to the losses array\n",
    "    lasso = Lasso(alpha=alpha)\n",
    "    lasso.fit(X_train, y_train)\n",
    "    y_pred = lasso.predict(X_test)\n",
    "    mse = mean_squared_error(y_test, y_pred)\n",
    "    print(mse)\n",
    "    losses.append(mse)\n",
    "plt.plot(alphas, losses)\n",
    "plt.title(\"Lasso alpha value selection\")\n",
    "plt.xlabel(\"alpha\")\n",
    "plt.ylabel(\"Mean squared error\")\n",
    "plt.show()\n",
    "\n",
    "best_alpha = alphas[np.argmin(losses)]\n",
    "print(\"Best value of alpha:\", best_alpha)"
   ]
  },
  {
   "cell_type": "code",
   "execution_count": 70,
   "metadata": {},
   "outputs": [
    {
     "name": "stdout",
     "output_type": "stream",
     "text": [
      "182.95438991660714\n",
      "182.95439031641564\n",
      "182.95439131594011\n",
      "182.9543917157512\n",
      "182.95439191565706\n",
      "182.95439211556308\n",
      "182.9543923154693\n",
      "182.9543937148179\n",
      "182.95439411463346\n"
     ]
    },
    {
     "data": {
      "image/png": "[encoded data removed]",
      "text/plain": [
       "<Figure size 432x288 with 1 Axes>"
      ]
     },
     "metadata": {
      "needs_background": "light"
     },
     "output_type": "display_data"
    },
    {
     "name": "stdout",
     "output_type": "stream",
     "text": [
      "Best value of alpha: 2.2\n"
     ]
    }
   ],
   "source": [
    "alphas = [2.2, 2, 1.5, 1.3, 1.2, 1.1, 1, 0.3, 0.1]\n",
    "losses = []\n",
    "for alpha in alphas:\n",
    "    # Write (5 lines): create a Lasso regressor with the alpha value.\n",
    "    # Fit it to the training set, then get the prediction of the validation set (x_val).\n",
    "    # calculate the mean sqaured error loss, then append it to the losses array\n",
    "    ridge = Ridge(alpha=alpha)\n",
    "    ridge.fit(x_train, y_train)\n",
    "    y_pred = ridge.predict(x_test)\n",
    "    mse = mean_squared_error(y_test, y_pred)\n",
    "    print(mse)\n",
    "    losses.append(mse)\n",
    "plt.plot(alphas, losses)\n",
    "plt.title(\"Ridge alpha value selection\")\n",
    "plt.xlabel(\"alpha\")\n",
    "plt.ylabel(\"Mean squared error\")\n",
    "plt.show()\n",
    "\n",
    "best_alpha = alphas[np.argmin(losses)]\n",
    "print(\"Best value of alpha:\", best_alpha)"
   ]
  },
  {
   "cell_type": "code",
   "execution_count": 73,
   "metadata": {},
   "outputs": [],
   "source": [
    "model2 = Sequential()\n",
    "model2.add(Dense(32, input_dim=17, activation='relu'))\n",
    "model2.add(Dense(16, activation='relu'))\n",
    "model2.add(Dense(1, activation='relu'))\n",
    "model2.compile(loss='mean_absolute_error',\n",
    "              optimizer='adam',\n",
    "              metrics=['accuracy'])"
   ]
  },
  {
   "cell_type": "code",
   "execution_count": 74,
   "metadata": {},
   "outputs": [
    {
     "name": "stdout",
     "output_type": "stream",
     "text": [
      "Epoch 1/5\n",
      "492816/492816 [==============================] - 15s 30us/sample - loss: 7.2189 - acc: 0.5085\n",
      "Epoch 2/5\n",
      "492816/492816 [==============================] - 15s 30us/sample - loss: 7.2189 - acc: 0.5085\n",
      "Epoch 3/5\n",
      "492816/492816 [==============================] - 15s 30us/sample - loss: 7.2189 - acc: 0.5085\n",
      "Epoch 4/5\n",
      "492816/492816 [==============================] - 15s 30us/sample - loss: 7.2189 - acc: 0.5085\n",
      "Epoch 5/5\n",
      "492816/492816 [==============================] - 15s 30us/sample - loss: 7.2189 - acc: 0.5085\n"
     ]
    },
    {
     "data": {
      "text/plain": [
       "<tensorflow.python.keras.callbacks.History at 0x2fd0b40b048>"
      ]
     },
     "execution_count": 74,
     "metadata": {},
     "output_type": "execute_result"
    }
   ],
   "source": [
    "model2.fit(X_train, y_train, epochs=5, batch_size=32)"
   ]
  },
  {
   "cell_type": "code",
   "execution_count": 75,
   "metadata": {},
   "outputs": [],
   "source": [
    "predicted = model2.predict(X_test, batch_size=128)"
   ]
  },
  {
   "cell_type": "code",
   "execution_count": 76,
   "metadata": {},
   "outputs": [
    {
     "name": "stdout",
     "output_type": "stream",
     "text": [
      "Mean Absolute Error: 3.5606655802384424\n",
      "Mean Squared Error: 183.77580124081538\n",
      "Root Mean Squared Error: 13.556393371424988\n",
      "R2-score: -0.07410010198857053\n"
     ]
    }
   ],
   "source": [
    "print('Mean Absolute Error:', metrics.mean_absolute_error(y_test, predicted))\n",
    "print('Mean Squared Error:', metrics.mean_squared_error(y_test, predicted))\n",
    "print('Root Mean Squared Error:', np.sqrt(metrics.mean_squared_error(y_test, predicted)))\n",
    "print('R2-score:', r2_score(y_test,predicted ) )"
   ]
  }
 ],
 "metadata": {
  "kernelspec": {
   "display_name": "Python 3",
   "language": "python",
   "name": "python3"
  },
  "language_info": {
   "codemirror_mode": {
    "name": "ipython",
    "version": 3
   },
   "file_extension": ".py",
   "mimetype": "text/x-python",
   "name": "python",
   "nbconvert_exporter": "python",
   "pygments_lexer": "ipython3",
   "version": "3.7.6"
  }
 },
 "nbformat": 4,
 "nbformat_minor": 5
}
